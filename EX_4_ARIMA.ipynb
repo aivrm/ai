{
  "nbformat": 4,
  "nbformat_minor": 0,
  "metadata": {
    "colab": {
      "name": "EX 4. ARIMA.ipynb",
      "provenance": [],
      "collapsed_sections": [],
      "mount_file_id": "1JdNKHLNTeiJ2fXmZIduL5efPMLMp5r8d",
      "authorship_tag": "ABX9TyOYwyDEsaKlf+g81hWYTVTP",
      "include_colab_link": true
    },
    "kernelspec": {
      "name": "python3",
      "display_name": "Python 3"
    },
    "language_info": {
      "name": "python"
    }
  },
  "cells": [
    {
      "cell_type": "markdown",
      "metadata": {
        "id": "view-in-github",
        "colab_type": "text"
      },
      "source": [
        "<a href=\"https://colab.research.google.com/github/aivrm/ai/blob/main/EX_4_ARIMA.ipynb\" target=\"_parent\"><img src=\"https://colab.research.google.com/assets/colab-badge.svg\" alt=\"Open In Colab\"/></a>"
      ]
    },
    {
      "cell_type": "code",
      "source": [
        "from google.colab import drive\n",
        "drive.mount('/content/drive')"
      ],
      "metadata": {
        "colab": {
          "base_uri": "https://localhost:8080/"
        },
        "id": "EpWaHX1BO-cy",
        "outputId": "95debb81-cec3-45a1-ceed-34a887712f83"
      },
      "execution_count": 84,
      "outputs": [
        {
          "output_type": "stream",
          "name": "stdout",
          "text": [
            "Drive already mounted at /content/drive; to attempt to forcibly remount, call drive.mount(\"/content/drive\", force_remount=True).\n"
          ]
        }
      ]
    },
    {
      "cell_type": "code",
      "source": [
        "import numpy as np\n",
        "import pandas as pd\n",
        "import matplotlib.pyplot as plt\n",
        "\n",
        "import sklearn\n",
        "import statsmodels\n",
        "\n",
        "'''\n",
        "import warnings\n",
        "warnings.filterwarnings('ignore')\n",
        "'''\n",
        "\n",
        "print(pandas.__version__)\n",
        "print(sklearn.__version__)\n",
        "print(statsmodels.__version__)"
      ],
      "metadata": {
        "colab": {
          "base_uri": "https://localhost:8080/"
        },
        "id": "_zgtWXuPOl1l",
        "outputId": "944d5b84-6f9d-411f-adf6-b469f428dd4f"
      },
      "execution_count": 85,
      "outputs": [
        {
          "output_type": "stream",
          "name": "stdout",
          "text": [
            "1.3.5\n",
            "1.0.2\n",
            "0.10.2\n"
          ]
        }
      ]
    },
    {
      "cell_type": "markdown",
      "source": [
        "---\n",
        "### STEP 1: 시계열 데이터 읽기\n",
        "\n",
        "---"
      ],
      "metadata": {
        "id": "ZDRItuqJRbEL"
      }
    },
    {
      "cell_type": "code",
      "source": [
        "from os.path import join\n",
        "DATA_DIR = '/content/drive/MyDrive/_aiffel/aiffel/stock_prediction/data'\n",
        "csv_path = join(DATA_DIR, '005930.KS.csv')"
      ],
      "metadata": {
        "id": "jwaED2-nQ6pX"
      },
      "execution_count": 86,
      "outputs": []
    },
    {
      "cell_type": "code",
      "source": [
        "df = pd.read_csv(csv_path, index_col='Date', parse_dates=True)\n",
        "ts = df['Close']\n",
        "\n",
        "ts.head()"
      ],
      "metadata": {
        "colab": {
          "base_uri": "https://localhost:8080/"
        },
        "id": "a41631TeOHSS",
        "outputId": "3601405c-c206-4b89-c9a3-17d8c24bd86d"
      },
      "execution_count": 87,
      "outputs": [
        {
          "output_type": "execute_result",
          "data": {
            "text/plain": [
              "Date\n",
              "2020-05-18    48800.0\n",
              "2020-05-19    50300.0\n",
              "2020-05-20    50000.0\n",
              "2020-05-21    49950.0\n",
              "2020-05-22    48750.0\n",
              "Name: Close, dtype: float64"
            ]
          },
          "metadata": {},
          "execution_count": 87
        }
      ]
    },
    {
      "cell_type": "markdown",
      "source": [
        "---\n",
        "### STEP 2 : 전처리\n",
        "\n",
        "---"
      ],
      "metadata": {
        "id": "s_2Sn_npRiS8"
      }
    },
    {
      "cell_type": "code",
      "source": [
        "# 결측치 처리\n",
        "ts = ts.interpolate(method='time')\n",
        "ts[ts.isna()]  # Time Series에서 결측치가 있는 부분만 Series로 출력합니다."
      ],
      "metadata": {
        "colab": {
          "base_uri": "https://localhost:8080/"
        },
        "id": "taSOYORFRwJU",
        "outputId": "7fdd5118-0b3c-430e-e578-667d1a1f575c"
      },
      "execution_count": 88,
      "outputs": [
        {
          "output_type": "execute_result",
          "data": {
            "text/plain": [
              "Series([], Name: Close, dtype: float64)"
            ]
          },
          "metadata": {},
          "execution_count": 88
        }
      ]
    },
    {
      "cell_type": "code",
      "source": [
        "# 로그 변환 시도 \n",
        "ts_log = np.log(ts)"
      ],
      "metadata": {
        "id": "mEi8saufSc08"
      },
      "execution_count": 89,
      "outputs": []
    },
    {
      "cell_type": "markdown",
      "source": [
        "---\n",
        "### STEP 3 : 시계열 안정성 분석\n",
        "\n",
        "---"
      ],
      "metadata": {
        "id": "BMsYEftmSkF-"
      }
    },
    {
      "cell_type": "code",
      "source": [
        "# 이동평균\n",
        "def plot_rolling_statistics(timeseries, window=12):\n",
        "    \n",
        "    rolmean = timeseries.rolling(window=window).mean()  # 이동평균 시계열\n",
        "    rolstd = timeseries.rolling(window=window).std()    # 이동표준편차 시계열\n",
        "\n",
        "     # 원본시계열, 이동평균, 이동표준편차를 plot으로 시각화해 본다.\n",
        "    orig = plt.plot(timeseries, color='blue',label='Original')    \n",
        "    mean = plt.plot(rolmean, color='red', label='Rolling Mean')\n",
        "    std = plt.plot(rolstd, color='black', label='Rolling Std')\n",
        "    plt.legend(loc='best')\n",
        "    plt.title('Rolling Mean & Standard Deviation')\n",
        "    plt.show(block=False)"
      ],
      "metadata": {
        "id": "GRSEKgZoUBPQ"
      },
      "execution_count": 90,
      "outputs": []
    },
    {
      "cell_type": "code",
      "source": [
        "from statsmodels.tsa.stattools import adfuller\n",
        "\n",
        "def augmented_dickey_fuller_test(timeseries):\n",
        "    # statsmodels 패키지에서 제공하는 adfuller 메서드를 호출합니다.\n",
        "    dftest = adfuller(timeseries, autolag='AIC')  \n",
        "    \n",
        "    # adfuller 메서드가 리턴한 결과를 정리하여 출력합니다.\n",
        "    print('Results of Dickey-Fuller Test:')\n",
        "    dfoutput = pd.Series(dftest[0:4], index=['Test Statistic','p-value','#Lags Used','Number of Observations Used'])\n",
        "    for key,value in dftest[4].items():\n",
        "        dfoutput['Critical Value (%s)' % key] = value\n",
        "    print(dfoutput)"
      ],
      "metadata": {
        "id": "csKZEa-LUZ7L"
      },
      "execution_count": 91,
      "outputs": []
    },
    {
      "cell_type": "code",
      "source": [
        "# 정성적 그래프 분석\n",
        "plot_rolling_statistics(ts_log, window=12)\n",
        "\n",
        "#정량적 Augmented Dicky-Fuller Test\n",
        "augmented_dickey_fuller_test(ts_log)\n",
        "\n",
        "#시계열 분해 (Time Series Decomposition)\n",
        "from statsmodels.tsa.seasonal import seasonal_decompose\n",
        "decomposition = seasonal_decompose(ts_log, model='multiplicative', period = 30) \n",
        "\n",
        "trend = decomposition.trend\n",
        "seasonal = decomposition.seasonal\n",
        "residual = decomposition.resid\n",
        "\n",
        "plt.subplot(411)\n",
        "plt.plot(ts_log, label='Original')\n",
        "plt.legend(loc='best')\n",
        "plt.subplot(412)\n",
        "plt.plot(trend, label='Trend')\n",
        "plt.legend(loc='best')\n",
        "plt.subplot(413)\n",
        "plt.plot(seasonal,label='Seasonality')\n",
        "plt.legend(loc='best')\n",
        "plt.subplot(414)\n",
        "plt.plot(residual, label='Residuals')\n",
        "plt.legend(loc='best')\n",
        "plt.tight_layout()"
      ],
      "metadata": {
        "colab": {
          "base_uri": "https://localhost:8080/",
          "height": 677
        },
        "id": "jQWHl_1lSjnY",
        "outputId": "c9b336de-93cd-4594-8845-ba56bf32b26a"
      },
      "execution_count": 92,
      "outputs": [
        {
          "output_type": "display_data",
          "data": {
            "text/plain": [
              "<Figure size 432x288 with 1 Axes>"
            ],
            "image/png": "[encoded data removed]"
          },
          "metadata": {
            "needs_background": "light"
          }
        },
        {
          "output_type": "stream",
          "name": "stdout",
          "text": [
            "Results of Dickey-Fuller Test:\n",
            "Test Statistic                  -1.383525\n",
            "p-value                          0.590149\n",
            "#Lags Used                       0.000000\n",
            "Number of Observations Used    249.000000\n",
            "Critical Value (1%)             -3.456888\n",
            "Critical Value (5%)             -2.873219\n",
            "Critical Value (10%)            -2.572994\n",
            "dtype: float64\n"
          ]
        },
        {
          "output_type": "error",
          "ename": "TypeError",
          "evalue": "ignored",
          "traceback": [
            "\u001b[0;31m---------------------------------------------------------------------------\u001b[0m",
            "\u001b[0;31mTypeError\u001b[0m                                 Traceback (most recent call last)",
            "\u001b[0;32m<ipython-input-92-40217fc02252>\u001b[0m in \u001b[0;36m<module>\u001b[0;34m()\u001b[0m\n\u001b[1;32m      7\u001b[0m \u001b[0;31m#시계열 분해 (Time Series Decomposition)\u001b[0m\u001b[0;34m\u001b[0m\u001b[0;34m\u001b[0m\u001b[0;34m\u001b[0m\u001b[0m\n\u001b[1;32m      8\u001b[0m \u001b[0;32mfrom\u001b[0m \u001b[0mstatsmodels\u001b[0m\u001b[0;34m.\u001b[0m\u001b[0mtsa\u001b[0m\u001b[0;34m.\u001b[0m\u001b[0mseasonal\u001b[0m \u001b[0;32mimport\u001b[0m \u001b[0mseasonal_decompose\u001b[0m\u001b[0;34m\u001b[0m\u001b[0;34m\u001b[0m\u001b[0m\n\u001b[0;32m----> 9\u001b[0;31m \u001b[0mdecomposition\u001b[0m \u001b[0;34m=\u001b[0m \u001b[0mseasonal_decompose\u001b[0m\u001b[0;34m(\u001b[0m\u001b[0mts_log\u001b[0m\u001b[0;34m,\u001b[0m \u001b[0mmodel\u001b[0m\u001b[0;34m=\u001b[0m\u001b[0;34m'multiplicative'\u001b[0m\u001b[0;34m,\u001b[0m \u001b[0mperiod\u001b[0m \u001b[0;34m=\u001b[0m \u001b[0;36m30\u001b[0m\u001b[0;34m)\u001b[0m\u001b[0;34m\u001b[0m\u001b[0;34m\u001b[0m\u001b[0m\n\u001b[0m\u001b[1;32m     10\u001b[0m \u001b[0;34m\u001b[0m\u001b[0m\n\u001b[1;32m     11\u001b[0m \u001b[0mtrend\u001b[0m \u001b[0;34m=\u001b[0m \u001b[0mdecomposition\u001b[0m\u001b[0;34m.\u001b[0m\u001b[0mtrend\u001b[0m\u001b[0;34m\u001b[0m\u001b[0;34m\u001b[0m\u001b[0m\n",
            "\u001b[0;31mTypeError\u001b[0m: seasonal_decompose() got an unexpected keyword argument 'period'"
          ]
        }
      ]
    },
    {
      "cell_type": "code",
      "source": [
        "residual.dropna(inplace=True)\n",
        "augmented_dickey_fuller_test(residual)"
      ],
      "metadata": {
        "id": "5lgqScJ0Wcef"
      },
      "execution_count": null,
      "outputs": []
    },
    {
      "cell_type": "markdown",
      "source": [
        "---\n",
        "### STEP 4 : 학습, 테스트 데이터셋 생성\n",
        "\n",
        "---"
      ],
      "metadata": {
        "id": "apMzRG7qWtfL"
      }
    },
    {
      "cell_type": "code",
      "source": [
        "train_data, test_data = ts_log[:int(len(ts_log)*0.9)], ts_log[int(len(ts_log)*0.9):]\n",
        "plt.figure(figsize=(10,6))\n",
        "plt.grid(True)\n",
        "plt.plot(ts_log, c='r', label='training dataset')  # train_data를 적용하면 그래프가 끊어져 보이므로 자연스러운 연출을 위해 ts_log를 선택\n",
        "plt.plot(test_data, c='b', label='test dataset')\n",
        "plt.legend()"
      ],
      "metadata": {
        "id": "vQS0WIzzWkif"
      },
      "execution_count": null,
      "outputs": []
    },
    {
      "cell_type": "markdown",
      "source": [
        "---\n",
        "### STEP 5 : 적정 ARIMA 모수 찾기\n",
        "\n",
        "* ACF, PACF 그려보기 -> p,q 구하기\n",
        "* 차분 안정성 확인 -> d 구하기\n",
        "\n",
        "---"
      ],
      "metadata": {
        "id": "KbNZCqbTW0Vb"
      }
    },
    {
      "cell_type": "code",
      "source": [
        "# ACF, PACF 그려보기 -> p,q 구하기\n",
        "from statsmodels.graphics.tsaplots import plot_acf, plot_pacf\n",
        "\n",
        "from statsmodels.graphics.tsaplots import plot_acf, plot_pacf\n",
        "\n",
        "plot_acf(ts_log)   # ACF : Autocorrelation 그래프 그리기\n",
        "plot_pacf(ts_log)  # PACF : Partial Autocorrelation 그래프 그리기\n",
        "plt.show()"
      ],
      "metadata": {
        "id": "3mt3VdUCW8aE"
      },
      "execution_count": null,
      "outputs": []
    },
    {
      "cell_type": "code",
      "source": [
        "# 차분 안정성 확인 -> d 구하기\n",
        "\n",
        "# 1차 차분 구하기\n",
        "diff_1 = ts_log.diff(periods=1).iloc[1:]\n",
        "diff_1.plot(title='Difference 1st')\n",
        "\n",
        "augmented_dickey_fuller_test(diff_1)\n",
        "\n",
        "# 혹시 필요한 경우 2차 차분 구하기\n",
        "diff_2 = diff_1.diff(periods=1).iloc[1:]\n",
        "diff_2.plot(title='Difference 2nd')\n",
        "\n",
        "augmented_dickey_fuller_test(diff_2)"
      ],
      "metadata": {
        "id": "QvQfQLgNXDu9"
      },
      "execution_count": null,
      "outputs": []
    },
    {
      "cell_type": "markdown",
      "source": [
        "---\n",
        "### STEP 6 : ARIMA 모델 훈련과 테스트\n",
        "\n",
        "* ARIMA 모델 빌드와 훈련\n",
        "* 모델 테스트 및 플로팅\n",
        "* 최종 예측 모델 정확도 측정(MAPE)\n",
        "\n",
        "---"
      ],
      "metadata": {
        "id": "S9wSlM11XQmQ"
      }
    },
    {
      "cell_type": "code",
      "source": [
        "from statsmodels.tsa.arima.model import ARIMA\n",
        "\n",
        "# Build and Train  Model\n",
        "# [[YOUR CODE]]\n",
        "from statsmodels.tsa.arima.model import ARIMA\n",
        "# Build Model\n",
        "model = ARIMA(train_data, order=(2, 0, 1))  \n",
        "fitted_m = model.fit() \n",
        "\n",
        "print(fitted_m.summary())"
      ],
      "metadata": {
        "colab": {
          "base_uri": "https://localhost:8080/",
          "height": 394
        },
        "id": "5QOSddwLXbIF",
        "outputId": "3c3e29b5-ab2c-4011-d1f9-ac2dd7e0bf92"
      },
      "execution_count": 93,
      "outputs": [
        {
          "output_type": "error",
          "ename": "ModuleNotFoundError",
          "evalue": "ignored",
          "traceback": [
            "\u001b[0;31m---------------------------------------------------------------------------\u001b[0m",
            "\u001b[0;31mModuleNotFoundError\u001b[0m                       Traceback (most recent call last)",
            "\u001b[0;32m<ipython-input-93-378d1ef37b48>\u001b[0m in \u001b[0;36m<module>\u001b[0;34m()\u001b[0m\n\u001b[0;32m----> 1\u001b[0;31m \u001b[0;32mfrom\u001b[0m \u001b[0mstatsmodels\u001b[0m\u001b[0;34m.\u001b[0m\u001b[0mtsa\u001b[0m\u001b[0;34m.\u001b[0m\u001b[0marima\u001b[0m\u001b[0;34m.\u001b[0m\u001b[0mmodel\u001b[0m \u001b[0;32mimport\u001b[0m \u001b[0mARIMA\u001b[0m\u001b[0;34m\u001b[0m\u001b[0;34m\u001b[0m\u001b[0m\n\u001b[0m\u001b[1;32m      2\u001b[0m \u001b[0;34m\u001b[0m\u001b[0m\n\u001b[1;32m      3\u001b[0m \u001b[0;31m# Build and Train  Model\u001b[0m\u001b[0;34m\u001b[0m\u001b[0;34m\u001b[0m\u001b[0;34m\u001b[0m\u001b[0m\n\u001b[1;32m      4\u001b[0m \u001b[0;31m# [[YOUR CODE]]\u001b[0m\u001b[0;34m\u001b[0m\u001b[0;34m\u001b[0m\u001b[0;34m\u001b[0m\u001b[0m\n\u001b[1;32m      5\u001b[0m \u001b[0;32mfrom\u001b[0m \u001b[0mstatsmodels\u001b[0m\u001b[0;34m.\u001b[0m\u001b[0mtsa\u001b[0m\u001b[0;34m.\u001b[0m\u001b[0marima\u001b[0m\u001b[0;34m.\u001b[0m\u001b[0mmodel\u001b[0m \u001b[0;32mimport\u001b[0m \u001b[0mARIMA\u001b[0m\u001b[0;34m\u001b[0m\u001b[0;34m\u001b[0m\u001b[0m\n",
            "\u001b[0;31mModuleNotFoundError\u001b[0m: No module named 'statsmodels.tsa.arima'",
            "",
            "\u001b[0;31m---------------------------------------------------------------------------\u001b[0;32m\nNOTE: If your import is failing due to a missing package, you can\nmanually install dependencies using either !pip or !apt.\n\nTo view examples of installing some common dependencies, click the\n\"Open Examples\" button below.\n\u001b[0;31m---------------------------------------------------------------------------\u001b[0m\n"
          ],
          "errorDetails": {
            "actions": [
              {
                "action": "open_url",
                "actionText": "Open Examples",
                "url": "/notebooks/snippets/importing_libraries.ipynb"
              }
            ]
          }
        }
      ]
    },
    {
      "cell_type": "code",
      "source": [
        "# Forecast : 결과가 fc에 담깁니다. \n",
        "# [[YOUR CODE]]\n",
        "fc = fitted_m.forecast(len(test_data), alpha=0.05)  # 95% conf\n",
        "fc = np.array(fc)\n",
        "\n",
        "# Make as pandas series\n",
        "# [[YOUR CODE]]\n",
        "fc_series = pd.Series(fc, index=test_data.index)   # 예측결과\n",
        "\n",
        "# Plot\n",
        "# [[YOUR CODE]]\n",
        "plt.figure(figsize=(10,5), dpi=100)\n",
        "plt.plot(train_data, label='training')\n",
        "plt.plot(test_data, c='b', label='actual price')\n",
        "plt.plot(fc_series, c='r',label='predicted price')\n",
        "plt.legend()\n",
        "plt.show()"
      ],
      "metadata": {
        "id": "zsXI5QV8XzT9"
      },
      "execution_count": null,
      "outputs": []
    },
    {
      "cell_type": "code",
      "source": [
        "from sklearn.metrics import mean_squared_error, mean_absolute_error\n",
        "import math\n",
        "\n",
        "mse = mean_squared_error(np.exp(test_data), np.exp(fc))\n",
        "print('MSE: ', mse)\n",
        "\n",
        "mae = mean_absolute_error(np.exp(test_data), np.exp(fc))\n",
        "print('MAE: ', mae)\n",
        "\n",
        "rmse = math.sqrt(mean_squared_error(np.exp(test_data), np.exp(fc)))\n",
        "print('RMSE: ', rmse)\n",
        "\n",
        "mape = np.mean(np.abs(np.exp(fc) - np.exp(test_data))/np.abs(np.exp(test_data)))\n",
        "print('MAPE: {:.2f}%'.format(mape*100))"
      ],
      "metadata": {
        "id": "_towxxfRX2hJ"
      },
      "execution_count": null,
      "outputs": []
    }
  ]
}