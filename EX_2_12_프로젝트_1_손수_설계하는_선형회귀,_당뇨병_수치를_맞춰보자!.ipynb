{
  "nbformat": 4,
  "nbformat_minor": 0,
  "metadata": {
    "colab": {
      "name": "EX 2-12. 프로젝트 1 : 손수 설계하는 선형회귀, 당뇨병 수치를 맞춰보자!.ipynb",
      "provenance": [],
      "collapsed_sections": [],
      "authorship_tag": "ABX9TyM4Z4j3RNUKQh+ph/BmrCT3",
      "include_colab_link": true
    },
    "kernelspec": {
      "name": "python3",
      "display_name": "Python 3"
    },
    "language_info": {
      "name": "python"
    }
  },
  "cells": [
    {
      "cell_type": "markdown",
      "metadata": {
        "id": "view-in-github",
        "colab_type": "text"
      },
      "source": [
        "<a href=\"https://colab.research.google.com/github/aivrm/ai/blob/main/EX_2_12_%ED%94%84%EB%A1%9C%EC%A0%9D%ED%8A%B8_1_%EC%86%90%EC%88%98_%EC%84%A4%EA%B3%84%ED%95%98%EB%8A%94_%EC%84%A0%ED%98%95%ED%9A%8C%EA%B7%80%2C_%EB%8B%B9%EB%87%A8%EB%B3%91_%EC%88%98%EC%B9%98%EB%A5%BC_%EB%A7%9E%EC%B6%B0%EB%B3%B4%EC%9E%90!.ipynb\" target=\"_parent\"><img src=\"https://colab.research.google.com/assets/colab-badge.svg\" alt=\"Open In Colab\"/></a>"
      ]
    },
    {
      "cell_type": "markdown",
      "source": [
        "# EX 2-12. 프로젝트 1 : 손수 설계하는 선형회귀, 당뇨병 수치를 맞춰보자!\n",
        "\n",
        "[공유]\n",
        "[https://colab.research.google.com/drive/12MZvXUfhFTQv_MV2H05FO1XT-TdzMTbN?usp=sharing](https://colab.research.google.com/drive/12MZvXUfhFTQv_MV2H05FO1XT-TdzMTbN?usp=sharing)"
      ],
      "metadata": {
        "id": "9RbtwI79ojCq"
      }
    },
    {
      "cell_type": "markdown",
      "source": [
        "---\n",
        "● 회귀 (3) - 당뇨병 환자 데이터(diabetes)와 다중 선형 회귀(Multi Regression Model)\n",
        "\n",
        "https://yhyun225.tistory.com/11\n",
        "\n",
        "---"
      ],
      "metadata": {
        "id": "lzZMQXGNjhhh"
      }
    },
    {
      "cell_type": "markdown",
      "source": [
        "---\n",
        "### (1) 데이터 가져오기\n",
        "* sklearn.datasets 의 load_diabetes 에서 데이터를 가져와 주세요.\n",
        "* diabetes 의 data 를 df_X 에, target 을 df_y 에 저장해 주세요.\n",
        "---"
      ],
      "metadata": {
        "id": "e-npOBiHlWyw"
      }
    },
    {
      "cell_type": "markdown",
      "source": [
        "#### (1-1) sklearn.datasets 의 load_diabetes 에서 데이터를 가져와 주세요."
      ],
      "metadata": {
        "id": "JBO8FC2U2x6s"
      }
    },
    {
      "cell_type": "code",
      "execution_count": 588,
      "metadata": {
        "id": "wbCz8wRegLU5"
      },
      "outputs": [],
      "source": [
        "from sklearn.datasets import load_diabetes"
      ]
    },
    {
      "cell_type": "code",
      "source": [
        "diabetes = load_diabetes()"
      ],
      "metadata": {
        "id": "xzegHIowhJ3k"
      },
      "execution_count": 589,
      "outputs": []
    },
    {
      "cell_type": "code",
      "source": [
        "type(diabetes)"
      ],
      "metadata": {
        "colab": {
          "base_uri": "https://localhost:8080/"
        },
        "id": "1r9qO7zVsARL",
        "outputId": "eabd575d-713f-4c36-b777-aa906398fb69"
      },
      "execution_count": 590,
      "outputs": [
        {
          "output_type": "execute_result",
          "data": {
            "text/plain": [
              "sklearn.utils.Bunch"
            ]
          },
          "metadata": {},
          "execution_count": 590
        }
      ]
    },
    {
      "cell_type": "code",
      "source": [
        "# 데이터셋을 대충 보기\n",
        "diabetes"
      ],
      "metadata": {
        "colab": {
          "base_uri": "https://localhost:8080/"
        },
        "id": "ZV4JTXpXgg4z",
        "outputId": "81d78812-6b5a-4e4d-9600-946e761da518"
      },
      "execution_count": 591,
      "outputs": [
        {
          "output_type": "execute_result",
          "data": {
            "text/plain": [
              "{'DESCR': '.. _diabetes_dataset:\\n\\nDiabetes dataset\\n----------------\\n\\nTen baseline variables, age, sex, body mass index, average blood\\npressure, and six blood serum measurements were obtained for each of n =\\n442 diabetes patients, as well as the response of interest, a\\nquantitative measure of disease progression one year after baseline.\\n\\n**Data Set Characteristics:**\\n\\n  :Number of Instances: 442\\n\\n  :Number of Attributes: First 10 columns are numeric predictive values\\n\\n  :Target: Column 11 is a quantitative measure of disease progression one year after baseline\\n\\n  :Attribute Information:\\n      - age     age in years\\n      - sex\\n      - bmi     body mass index\\n      - bp      average blood pressure\\n      - s1      tc, total serum cholesterol\\n      - s2      ldl, low-density lipoproteins\\n      - s3      hdl, high-density lipoproteins\\n      - s4      tch, total cholesterol / HDL\\n      - s5      ltg, possibly log of serum triglycerides level\\n      - s6      glu, blood sugar level\\n\\nNote: Each of these 10 feature variables have been mean centered and scaled by the standard deviation times `n_samples` (i.e. the sum of squares of each column totals 1).\\n\\nSource URL:\\nhttps://www4.stat.ncsu.edu/~boos/var.select/diabetes.html\\n\\nFor more information see:\\nBradley Efron, Trevor Hastie, Iain Johnstone and Robert Tibshirani (2004) \"Least Angle Regression,\" Annals of Statistics (with discussion), 407-499.\\n(https://web.stanford.edu/~hastie/Papers/LARS/LeastAngle_2002.pdf)',\n",
              " 'data': array([[ 0.03807591,  0.05068012,  0.06169621, ..., -0.00259226,\n",
              "          0.01990842, -0.01764613],\n",
              "        [-0.00188202, -0.04464164, -0.05147406, ..., -0.03949338,\n",
              "         -0.06832974, -0.09220405],\n",
              "        [ 0.08529891,  0.05068012,  0.04445121, ..., -0.00259226,\n",
              "          0.00286377, -0.02593034],\n",
              "        ...,\n",
              "        [ 0.04170844,  0.05068012, -0.01590626, ..., -0.01107952,\n",
              "         -0.04687948,  0.01549073],\n",
              "        [-0.04547248, -0.04464164,  0.03906215, ...,  0.02655962,\n",
              "          0.04452837, -0.02593034],\n",
              "        [-0.04547248, -0.04464164, -0.0730303 , ..., -0.03949338,\n",
              "         -0.00421986,  0.00306441]]),\n",
              " 'data_filename': 'diabetes_data.csv.gz',\n",
              " 'data_module': 'sklearn.datasets.data',\n",
              " 'feature_names': ['age',\n",
              "  'sex',\n",
              "  'bmi',\n",
              "  'bp',\n",
              "  's1',\n",
              "  's2',\n",
              "  's3',\n",
              "  's4',\n",
              "  's5',\n",
              "  's6'],\n",
              " 'frame': None,\n",
              " 'target': array([151.,  75., 141., 206., 135.,  97., 138.,  63., 110., 310., 101.,\n",
              "         69., 179., 185., 118., 171., 166., 144.,  97., 168.,  68.,  49.,\n",
              "         68., 245., 184., 202., 137.,  85., 131., 283., 129.,  59., 341.,\n",
              "         87.,  65., 102., 265., 276., 252.,  90., 100.,  55.,  61.,  92.,\n",
              "        259.,  53., 190., 142.,  75., 142., 155., 225.,  59., 104., 182.,\n",
              "        128.,  52.,  37., 170., 170.,  61., 144.,  52., 128.,  71., 163.,\n",
              "        150.,  97., 160., 178.,  48., 270., 202., 111.,  85.,  42., 170.,\n",
              "        200., 252., 113., 143.,  51.,  52., 210.,  65., 141.,  55., 134.,\n",
              "         42., 111.,  98., 164.,  48.,  96.,  90., 162., 150., 279.,  92.,\n",
              "         83., 128., 102., 302., 198.,  95.,  53., 134., 144., 232.,  81.,\n",
              "        104.,  59., 246., 297., 258., 229., 275., 281., 179., 200., 200.,\n",
              "        173., 180.,  84., 121., 161.,  99., 109., 115., 268., 274., 158.,\n",
              "        107.,  83., 103., 272.,  85., 280., 336., 281., 118., 317., 235.,\n",
              "         60., 174., 259., 178., 128.,  96., 126., 288.,  88., 292.,  71.,\n",
              "        197., 186.,  25.,  84.,  96., 195.,  53., 217., 172., 131., 214.,\n",
              "         59.,  70., 220., 268., 152.,  47.,  74., 295., 101., 151., 127.,\n",
              "        237., 225.,  81., 151., 107.,  64., 138., 185., 265., 101., 137.,\n",
              "        143., 141.,  79., 292., 178.,  91., 116.,  86., 122.,  72., 129.,\n",
              "        142.,  90., 158.,  39., 196., 222., 277.,  99., 196., 202., 155.,\n",
              "         77., 191.,  70.,  73.,  49.,  65., 263., 248., 296., 214., 185.,\n",
              "         78.,  93., 252., 150.,  77., 208.,  77., 108., 160.,  53., 220.,\n",
              "        154., 259.,  90., 246., 124.,  67.,  72., 257., 262., 275., 177.,\n",
              "         71.,  47., 187., 125.,  78.,  51., 258., 215., 303., 243.,  91.,\n",
              "        150., 310., 153., 346.,  63.,  89.,  50.,  39., 103., 308., 116.,\n",
              "        145.,  74.,  45., 115., 264.,  87., 202., 127., 182., 241.,  66.,\n",
              "         94., 283.,  64., 102., 200., 265.,  94., 230., 181., 156., 233.,\n",
              "         60., 219.,  80.,  68., 332., 248.,  84., 200.,  55.,  85.,  89.,\n",
              "         31., 129.,  83., 275.,  65., 198., 236., 253., 124.,  44., 172.,\n",
              "        114., 142., 109., 180., 144., 163., 147.,  97., 220., 190., 109.,\n",
              "        191., 122., 230., 242., 248., 249., 192., 131., 237.,  78., 135.,\n",
              "        244., 199., 270., 164.,  72.,  96., 306.,  91., 214.,  95., 216.,\n",
              "        263., 178., 113., 200., 139., 139.,  88., 148.,  88., 243.,  71.,\n",
              "         77., 109., 272.,  60.,  54., 221.,  90., 311., 281., 182., 321.,\n",
              "         58., 262., 206., 233., 242., 123., 167.,  63., 197.,  71., 168.,\n",
              "        140., 217., 121., 235., 245.,  40.,  52., 104., 132.,  88.,  69.,\n",
              "        219.,  72., 201., 110.,  51., 277.,  63., 118.,  69., 273., 258.,\n",
              "         43., 198., 242., 232., 175.,  93., 168., 275., 293., 281.,  72.,\n",
              "        140., 189., 181., 209., 136., 261., 113., 131., 174., 257.,  55.,\n",
              "         84.,  42., 146., 212., 233.,  91., 111., 152., 120.,  67., 310.,\n",
              "         94., 183.,  66., 173.,  72.,  49.,  64.,  48., 178., 104., 132.,\n",
              "        220.,  57.]),\n",
              " 'target_filename': 'diabetes_target.csv.gz'}"
            ]
          },
          "metadata": {},
          "execution_count": 591
        }
      ]
    },
    {
      "cell_type": "code",
      "source": [
        "dir(diabetes)"
      ],
      "metadata": {
        "colab": {
          "base_uri": "https://localhost:8080/"
        },
        "id": "8urKs9j-hW1x",
        "outputId": "6248ec17-a5e6-46bd-f45c-351c523da7a9"
      },
      "execution_count": 592,
      "outputs": [
        {
          "output_type": "execute_result",
          "data": {
            "text/plain": [
              "['DESCR',\n",
              " 'data',\n",
              " 'data_filename',\n",
              " 'data_module',\n",
              " 'feature_names',\n",
              " 'frame',\n",
              " 'target',\n",
              " 'target_filename']"
            ]
          },
          "metadata": {},
          "execution_count": 592
        }
      ]
    },
    {
      "cell_type": "code",
      "source": [
        "print(dir(diabetes))"
      ],
      "metadata": {
        "colab": {
          "base_uri": "https://localhost:8080/"
        },
        "id": "lmX4leD6kB6g",
        "outputId": "8a1364f3-bbc1-4309-9a5f-37470bcee450"
      },
      "execution_count": 593,
      "outputs": [
        {
          "output_type": "stream",
          "name": "stdout",
          "text": [
            "['DESCR', 'data', 'data_filename', 'data_module', 'feature_names', 'frame', 'target', 'target_filename']\n"
          ]
        }
      ]
    },
    {
      "cell_type": "code",
      "source": [
        "diabetes.keys()"
      ],
      "metadata": {
        "colab": {
          "base_uri": "https://localhost:8080/"
        },
        "id": "2r8IFKIvgkVW",
        "outputId": "67dbd50a-fcc4-4b0f-c0c4-6762e85ff61c"
      },
      "execution_count": 594,
      "outputs": [
        {
          "output_type": "execute_result",
          "data": {
            "text/plain": [
              "dict_keys(['data', 'target', 'frame', 'DESCR', 'feature_names', 'data_filename', 'target_filename', 'data_module'])"
            ]
          },
          "metadata": {},
          "execution_count": 594
        }
      ]
    },
    {
      "cell_type": "code",
      "source": [
        "# 내용 설명\n",
        "print(diabetes.DESCR)"
      ],
      "metadata": {
        "colab": {
          "base_uri": "https://localhost:8080/"
        },
        "id": "sAO8SrBWgrQY",
        "outputId": "498dedeb-fc9a-4160-a00a-e368bfe218e6"
      },
      "execution_count": 595,
      "outputs": [
        {
          "output_type": "stream",
          "name": "stdout",
          "text": [
            ".. _diabetes_dataset:\n",
            "\n",
            "Diabetes dataset\n",
            "----------------\n",
            "\n",
            "Ten baseline variables, age, sex, body mass index, average blood\n",
            "pressure, and six blood serum measurements were obtained for each of n =\n",
            "442 diabetes patients, as well as the response of interest, a\n",
            "quantitative measure of disease progression one year after baseline.\n",
            "\n",
            "**Data Set Characteristics:**\n",
            "\n",
            "  :Number of Instances: 442\n",
            "\n",
            "  :Number of Attributes: First 10 columns are numeric predictive values\n",
            "\n",
            "  :Target: Column 11 is a quantitative measure of disease progression one year after baseline\n",
            "\n",
            "  :Attribute Information:\n",
            "      - age     age in years\n",
            "      - sex\n",
            "      - bmi     body mass index\n",
            "      - bp      average blood pressure\n",
            "      - s1      tc, total serum cholesterol\n",
            "      - s2      ldl, low-density lipoproteins\n",
            "      - s3      hdl, high-density lipoproteins\n",
            "      - s4      tch, total cholesterol / HDL\n",
            "      - s5      ltg, possibly log of serum triglycerides level\n",
            "      - s6      glu, blood sugar level\n",
            "\n",
            "Note: Each of these 10 feature variables have been mean centered and scaled by the standard deviation times `n_samples` (i.e. the sum of squares of each column totals 1).\n",
            "\n",
            "Source URL:\n",
            "https://www4.stat.ncsu.edu/~boos/var.select/diabetes.html\n",
            "\n",
            "For more information see:\n",
            "Bradley Efron, Trevor Hastie, Iain Johnstone and Robert Tibshirani (2004) \"Least Angle Regression,\" Annals of Statistics (with discussion), 407-499.\n",
            "(https://web.stanford.edu/~hastie/Papers/LARS/LeastAngle_2002.pdf)\n"
          ]
        }
      ]
    },
    {
      "cell_type": "code",
      "source": [
        "diabetes.feature_names"
      ],
      "metadata": {
        "colab": {
          "base_uri": "https://localhost:8080/"
        },
        "id": "q7zGmHAIkGd2",
        "outputId": "62ef08f1-9014-4dbd-edec-1ac196a16ac4"
      },
      "execution_count": 596,
      "outputs": [
        {
          "output_type": "execute_result",
          "data": {
            "text/plain": [
              "['age', 'sex', 'bmi', 'bp', 's1', 's2', 's3', 's4', 's5', 's6']"
            ]
          },
          "metadata": {},
          "execution_count": 596
        }
      ]
    },
    {
      "cell_type": "code",
      "source": [
        "for i, feature_name in enumerate(diabetes.feature_names):\n",
        "    print(\"feature {} {}\".format(i+1, feature_name))\n",
        "    #print('feature', i+1, feature_name)"
      ],
      "metadata": {
        "colab": {
          "base_uri": "https://localhost:8080/"
        },
        "id": "DVQY4EqOoCtu",
        "outputId": "83c56fc0-b4b7-445b-be6e-1730510390a2"
      },
      "execution_count": 597,
      "outputs": [
        {
          "output_type": "stream",
          "name": "stdout",
          "text": [
            "feature 1 age\n",
            "feature 2 sex\n",
            "feature 3 bmi\n",
            "feature 4 bp\n",
            "feature 5 s1\n",
            "feature 6 s2\n",
            "feature 7 s3\n",
            "feature 8 s4\n",
            "feature 9 s5\n",
            "feature 10 s6\n"
          ]
        }
      ]
    },
    {
      "cell_type": "markdown",
      "source": [
        "    * [10가지 속성]\n",
        "        - age     (나이)\n",
        "        - sex     (성별)\n",
        "        - bmi     body mass index (BMI: 체질량지수)\n",
        "        - bp      average blood pressure (평균 혈압)\n",
        "        - s1      tc, total serum cholesterol (혈청 콜레스테롤)\n",
        "        - s2      ldl, low-density lipoproteins (저밀도 지단백질)\n",
        "        - s3      hdl, high-density lipoproteins (고밀도 지단백질)\n",
        "        - s4      tch, total cholesterol / HDL (총 콜레스테롤)\n",
        "        - s5      ltg, possibly log of serum triglycerides level (혈청 트리글리세리드 수준의 가능한 로그)\n",
        "        - s6      glu, blood sugar level (혈당 수치)"
      ],
      "metadata": {
        "id": "KaNKUEW_re_Y"
      }
    },
    {
      "cell_type": "code",
      "source": [
        "diabetes.target"
      ],
      "metadata": {
        "colab": {
          "base_uri": "https://localhost:8080/"
        },
        "id": "asLuhXumkiUb",
        "outputId": "7edeebfd-3d15-4796-dc16-fde4f6ca6e0f"
      },
      "execution_count": 598,
      "outputs": [
        {
          "output_type": "execute_result",
          "data": {
            "text/plain": [
              "array([151.,  75., 141., 206., 135.,  97., 138.,  63., 110., 310., 101.,\n",
              "        69., 179., 185., 118., 171., 166., 144.,  97., 168.,  68.,  49.,\n",
              "        68., 245., 184., 202., 137.,  85., 131., 283., 129.,  59., 341.,\n",
              "        87.,  65., 102., 265., 276., 252.,  90., 100.,  55.,  61.,  92.,\n",
              "       259.,  53., 190., 142.,  75., 142., 155., 225.,  59., 104., 182.,\n",
              "       128.,  52.,  37., 170., 170.,  61., 144.,  52., 128.,  71., 163.,\n",
              "       150.,  97., 160., 178.,  48., 270., 202., 111.,  85.,  42., 170.,\n",
              "       200., 252., 113., 143.,  51.,  52., 210.,  65., 141.,  55., 134.,\n",
              "        42., 111.,  98., 164.,  48.,  96.,  90., 162., 150., 279.,  92.,\n",
              "        83., 128., 102., 302., 198.,  95.,  53., 134., 144., 232.,  81.,\n",
              "       104.,  59., 246., 297., 258., 229., 275., 281., 179., 200., 200.,\n",
              "       173., 180.,  84., 121., 161.,  99., 109., 115., 268., 274., 158.,\n",
              "       107.,  83., 103., 272.,  85., 280., 336., 281., 118., 317., 235.,\n",
              "        60., 174., 259., 178., 128.,  96., 126., 288.,  88., 292.,  71.,\n",
              "       197., 186.,  25.,  84.,  96., 195.,  53., 217., 172., 131., 214.,\n",
              "        59.,  70., 220., 268., 152.,  47.,  74., 295., 101., 151., 127.,\n",
              "       237., 225.,  81., 151., 107.,  64., 138., 185., 265., 101., 137.,\n",
              "       143., 141.,  79., 292., 178.,  91., 116.,  86., 122.,  72., 129.,\n",
              "       142.,  90., 158.,  39., 196., 222., 277.,  99., 196., 202., 155.,\n",
              "        77., 191.,  70.,  73.,  49.,  65., 263., 248., 296., 214., 185.,\n",
              "        78.,  93., 252., 150.,  77., 208.,  77., 108., 160.,  53., 220.,\n",
              "       154., 259.,  90., 246., 124.,  67.,  72., 257., 262., 275., 177.,\n",
              "        71.,  47., 187., 125.,  78.,  51., 258., 215., 303., 243.,  91.,\n",
              "       150., 310., 153., 346.,  63.,  89.,  50.,  39., 103., 308., 116.,\n",
              "       145.,  74.,  45., 115., 264.,  87., 202., 127., 182., 241.,  66.,\n",
              "        94., 283.,  64., 102., 200., 265.,  94., 230., 181., 156., 233.,\n",
              "        60., 219.,  80.,  68., 332., 248.,  84., 200.,  55.,  85.,  89.,\n",
              "        31., 129.,  83., 275.,  65., 198., 236., 253., 124.,  44., 172.,\n",
              "       114., 142., 109., 180., 144., 163., 147.,  97., 220., 190., 109.,\n",
              "       191., 122., 230., 242., 248., 249., 192., 131., 237.,  78., 135.,\n",
              "       244., 199., 270., 164.,  72.,  96., 306.,  91., 214.,  95., 216.,\n",
              "       263., 178., 113., 200., 139., 139.,  88., 148.,  88., 243.,  71.,\n",
              "        77., 109., 272.,  60.,  54., 221.,  90., 311., 281., 182., 321.,\n",
              "        58., 262., 206., 233., 242., 123., 167.,  63., 197.,  71., 168.,\n",
              "       140., 217., 121., 235., 245.,  40.,  52., 104., 132.,  88.,  69.,\n",
              "       219.,  72., 201., 110.,  51., 277.,  63., 118.,  69., 273., 258.,\n",
              "        43., 198., 242., 232., 175.,  93., 168., 275., 293., 281.,  72.,\n",
              "       140., 189., 181., 209., 136., 261., 113., 131., 174., 257.,  55.,\n",
              "        84.,  42., 146., 212., 233.,  91., 111., 152., 120.,  67., 310.,\n",
              "        94., 183.,  66., 173.,  72.,  49.,  64.,  48., 178., 104., 132.,\n",
              "       220.,  57.])"
            ]
          },
          "metadata": {},
          "execution_count": 598
        }
      ]
    },
    {
      "cell_type": "code",
      "source": [
        "data = diabetes.data"
      ],
      "metadata": {
        "id": "c6SFBUkyk97l"
      },
      "execution_count": 599,
      "outputs": []
    },
    {
      "cell_type": "code",
      "source": [
        "# diabetes 의 data 는 2차원\n",
        "data.shape"
      ],
      "metadata": {
        "colab": {
          "base_uri": "https://localhost:8080/"
        },
        "id": "lc9_RMoh9fSv",
        "outputId": "435c6ab7-e07f-4928-8e5d-8e0ef64d9172"
      },
      "execution_count": 600,
      "outputs": [
        {
          "output_type": "execute_result",
          "data": {
            "text/plain": [
              "(442, 10)"
            ]
          },
          "metadata": {},
          "execution_count": 600
        }
      ]
    },
    {
      "cell_type": "markdown",
      "source": [
        "10가지 속성을 가진, 442명 분의 데이터"
      ],
      "metadata": {
        "id": "eW3AJ6disByZ"
      }
    },
    {
      "cell_type": "code",
      "source": [
        "type(data)"
      ],
      "metadata": {
        "colab": {
          "base_uri": "https://localhost:8080/"
        },
        "id": "9kd0ArCEswCB",
        "outputId": "fc4085a5-288d-4e73-e2a5-cc10d2f93335"
      },
      "execution_count": 601,
      "outputs": [
        {
          "output_type": "execute_result",
          "data": {
            "text/plain": [
              "numpy.ndarray"
            ]
          },
          "metadata": {},
          "execution_count": 601
        }
      ]
    },
    {
      "cell_type": "code",
      "source": [
        "# 첫 번째 사람의 데이타 보기\n",
        "data[0]"
      ],
      "metadata": {
        "colab": {
          "base_uri": "https://localhost:8080/"
        },
        "id": "4HskHZdSlQyU",
        "outputId": "64602007-2ff4-485a-bb08-1362e76fe650"
      },
      "execution_count": 602,
      "outputs": [
        {
          "output_type": "execute_result",
          "data": {
            "text/plain": [
              "array([ 0.03807591,  0.05068012,  0.06169621,  0.02187235, -0.0442235 ,\n",
              "       -0.03482076, -0.04340085, -0.00259226,  0.01990842, -0.01764613])"
            ]
          },
          "metadata": {},
          "execution_count": 602
        }
      ]
    },
    {
      "cell_type": "markdown",
      "source": [
        "#### (1-2) diabetes 의 data 를 df_X 에, target 을 df_y 에 저장해 주세요."
      ],
      "metadata": {
        "id": "_gs2ShFW-YG0"
      }
    },
    {
      "cell_type": "markdown",
      "source": [
        "###### pandas"
      ],
      "metadata": {
        "id": "8pOA0VZK3azy"
      }
    },
    {
      "cell_type": "code",
      "source": [
        "import pandas as pd"
      ],
      "metadata": {
        "id": "5fFI0q-slVcf"
      },
      "execution_count": 603,
      "outputs": []
    },
    {
      "cell_type": "code",
      "source": [
        "diabetes.feature_names"
      ],
      "metadata": {
        "colab": {
          "base_uri": "https://localhost:8080/"
        },
        "id": "wVOkwqMN-TGu",
        "outputId": "7554a636-9d36-4893-ca2e-1a4beba0d62e"
      },
      "execution_count": 604,
      "outputs": [
        {
          "output_type": "execute_result",
          "data": {
            "text/plain": [
              "['age', 'sex', 'bmi', 'bp', 's1', 's2', 's3', 's4', 's5', 's6']"
            ]
          },
          "metadata": {},
          "execution_count": 604
        }
      ]
    },
    {
      "cell_type": "code",
      "source": [
        "type(diabetes.feature_names)"
      ],
      "metadata": {
        "colab": {
          "base_uri": "https://localhost:8080/"
        },
        "id": "yjhxLQN_spt0",
        "outputId": "8db885e2-7f55-49ec-c59f-44f64d7c186a"
      },
      "execution_count": 605,
      "outputs": [
        {
          "output_type": "execute_result",
          "data": {
            "text/plain": [
              "list"
            ]
          },
          "metadata": {},
          "execution_count": 605
        }
      ]
    },
    {
      "cell_type": "markdown",
      "source": [
        "###### df_X 에 저장"
      ],
      "metadata": {
        "id": "7wKXrzk__sIe"
      }
    },
    {
      "cell_type": "code",
      "source": [
        "df_X = pd.DataFrame(data=data, columns=diabetes.feature_names)\n",
        "df_X"
      ],
      "metadata": {
        "colab": {
          "base_uri": "https://localhost:8080/",
          "height": 424
        },
        "id": "cgBqQiIOlvTJ",
        "outputId": "48a80fbc-3a64-4630-d51d-8acb91e2a7e1"
      },
      "execution_count": 606,
      "outputs": [
        {
          "output_type": "execute_result",
          "data": {
            "text/plain": [
              "          age       sex       bmi        bp        s1        s2        s3  \\\n",
              "0    0.038076  0.050680  0.061696  0.021872 -0.044223 -0.034821 -0.043401   \n",
              "1   -0.001882 -0.044642 -0.051474 -0.026328 -0.008449 -0.019163  0.074412   \n",
              "2    0.085299  0.050680  0.044451 -0.005671 -0.045599 -0.034194 -0.032356   \n",
              "3   -0.089063 -0.044642 -0.011595 -0.036656  0.012191  0.024991 -0.036038   \n",
              "4    0.005383 -0.044642 -0.036385  0.021872  0.003935  0.015596  0.008142   \n",
              "..        ...       ...       ...       ...       ...       ...       ...   \n",
              "437  0.041708  0.050680  0.019662  0.059744 -0.005697 -0.002566 -0.028674   \n",
              "438 -0.005515  0.050680 -0.015906 -0.067642  0.049341  0.079165 -0.028674   \n",
              "439  0.041708  0.050680 -0.015906  0.017282 -0.037344 -0.013840 -0.024993   \n",
              "440 -0.045472 -0.044642  0.039062  0.001215  0.016318  0.015283 -0.028674   \n",
              "441 -0.045472 -0.044642 -0.073030 -0.081414  0.083740  0.027809  0.173816   \n",
              "\n",
              "           s4        s5        s6  \n",
              "0   -0.002592  0.019908 -0.017646  \n",
              "1   -0.039493 -0.068330 -0.092204  \n",
              "2   -0.002592  0.002864 -0.025930  \n",
              "3    0.034309  0.022692 -0.009362  \n",
              "4   -0.002592 -0.031991 -0.046641  \n",
              "..        ...       ...       ...  \n",
              "437 -0.002592  0.031193  0.007207  \n",
              "438  0.034309 -0.018118  0.044485  \n",
              "439 -0.011080 -0.046879  0.015491  \n",
              "440  0.026560  0.044528 -0.025930  \n",
              "441 -0.039493 -0.004220  0.003064  \n",
              "\n",
              "[442 rows x 10 columns]"
            ],
            "text/html": [
              "\n",
              "  <div id=\"df-bea64624-10db-400d-a72e-41eaf63c39ce\">\n",
              "    <div class=\"colab-df-container\">\n",
              "      <div>\n",
              "<style scoped>\n",
              "    .dataframe tbody tr th:only-of-type {\n",
              "        vertical-align: middle;\n",
              "    }\n",
              "\n",
              "    .dataframe tbody tr th {\n",
              "        vertical-align: top;\n",
              "    }\n",
              "\n",
              "    .dataframe thead th {\n",
              "        text-align: right;\n",
              "    }\n",
              "</style>\n",
              "<table border=\"1\" class=\"dataframe\">\n",
              "  <thead>\n",
              "    <tr style=\"text-align: right;\">\n",
              "      <th></th>\n",
              "      <th>age</th>\n",
              "      <th>sex</th>\n",
              "      <th>bmi</th>\n",
              "      <th>bp</th>\n",
              "      <th>s1</th>\n",
              "      <th>s2</th>\n",
              "      <th>s3</th>\n",
              "      <th>s4</th>\n",
              "      <th>s5</th>\n",
              "      <th>s6</th>\n",
              "    </tr>\n",
              "  </thead>\n",
              "  <tbody>\n",
              "    <tr>\n",
              "      <th>0</th>\n",
              "      <td>0.038076</td>\n",
              "      <td>0.050680</td>\n",
              "      <td>0.061696</td>\n",
              "      <td>0.021872</td>\n",
              "      <td>-0.044223</td>\n",
              "      <td>-0.034821</td>\n",
              "      <td>-0.043401</td>\n",
              "      <td>-0.002592</td>\n",
              "      <td>0.019908</td>\n",
              "      <td>-0.017646</td>\n",
              "    </tr>\n",
              "    <tr>\n",
              "      <th>1</th>\n",
              "      <td>-0.001882</td>\n",
              "      <td>-0.044642</td>\n",
              "      <td>-0.051474</td>\n",
              "      <td>-0.026328</td>\n",
              "      <td>-0.008449</td>\n",
              "      <td>-0.019163</td>\n",
              "      <td>0.074412</td>\n",
              "      <td>-0.039493</td>\n",
              "      <td>-0.068330</td>\n",
              "      <td>-0.092204</td>\n",
              "    </tr>\n",
              "    <tr>\n",
              "      <th>2</th>\n",
              "      <td>0.085299</td>\n",
              "      <td>0.050680</td>\n",
              "      <td>0.044451</td>\n",
              "      <td>-0.005671</td>\n",
              "      <td>-0.045599</td>\n",
              "      <td>-0.034194</td>\n",
              "      <td>-0.032356</td>\n",
              "      <td>-0.002592</td>\n",
              "      <td>0.002864</td>\n",
              "      <td>-0.025930</td>\n",
              "    </tr>\n",
              "    <tr>\n",
              "      <th>3</th>\n",
              "      <td>-0.089063</td>\n",
              "      <td>-0.044642</td>\n",
              "      <td>-0.011595</td>\n",
              "      <td>-0.036656</td>\n",
              "      <td>0.012191</td>\n",
              "      <td>0.024991</td>\n",
              "      <td>-0.036038</td>\n",
              "      <td>0.034309</td>\n",
              "      <td>0.022692</td>\n",
              "      <td>-0.009362</td>\n",
              "    </tr>\n",
              "    <tr>\n",
              "      <th>4</th>\n",
              "      <td>0.005383</td>\n",
              "      <td>-0.044642</td>\n",
              "      <td>-0.036385</td>\n",
              "      <td>0.021872</td>\n",
              "      <td>0.003935</td>\n",
              "      <td>0.015596</td>\n",
              "      <td>0.008142</td>\n",
              "      <td>-0.002592</td>\n",
              "      <td>-0.031991</td>\n",
              "      <td>-0.046641</td>\n",
              "    </tr>\n",
              "    <tr>\n",
              "      <th>...</th>\n",
              "      <td>...</td>\n",
              "      <td>...</td>\n",
              "      <td>...</td>\n",
              "      <td>...</td>\n",
              "      <td>...</td>\n",
              "      <td>...</td>\n",
              "      <td>...</td>\n",
              "      <td>...</td>\n",
              "      <td>...</td>\n",
              "      <td>...</td>\n",
              "    </tr>\n",
              "    <tr>\n",
              "      <th>437</th>\n",
              "      <td>0.041708</td>\n",
              "      <td>0.050680</td>\n",
              "      <td>0.019662</td>\n",
              "      <td>0.059744</td>\n",
              "      <td>-0.005697</td>\n",
              "      <td>-0.002566</td>\n",
              "      <td>-0.028674</td>\n",
              "      <td>-0.002592</td>\n",
              "      <td>0.031193</td>\n",
              "      <td>0.007207</td>\n",
              "    </tr>\n",
              "    <tr>\n",
              "      <th>438</th>\n",
              "      <td>-0.005515</td>\n",
              "      <td>0.050680</td>\n",
              "      <td>-0.015906</td>\n",
              "      <td>-0.067642</td>\n",
              "      <td>0.049341</td>\n",
              "      <td>0.079165</td>\n",
              "      <td>-0.028674</td>\n",
              "      <td>0.034309</td>\n",
              "      <td>-0.018118</td>\n",
              "      <td>0.044485</td>\n",
              "    </tr>\n",
              "    <tr>\n",
              "      <th>439</th>\n",
              "      <td>0.041708</td>\n",
              "      <td>0.050680</td>\n",
              "      <td>-0.015906</td>\n",
              "      <td>0.017282</td>\n",
              "      <td>-0.037344</td>\n",
              "      <td>-0.013840</td>\n",
              "      <td>-0.024993</td>\n",
              "      <td>-0.011080</td>\n",
              "      <td>-0.046879</td>\n",
              "      <td>0.015491</td>\n",
              "    </tr>\n",
              "    <tr>\n",
              "      <th>440</th>\n",
              "      <td>-0.045472</td>\n",
              "      <td>-0.044642</td>\n",
              "      <td>0.039062</td>\n",
              "      <td>0.001215</td>\n",
              "      <td>0.016318</td>\n",
              "      <td>0.015283</td>\n",
              "      <td>-0.028674</td>\n",
              "      <td>0.026560</td>\n",
              "      <td>0.044528</td>\n",
              "      <td>-0.025930</td>\n",
              "    </tr>\n",
              "    <tr>\n",
              "      <th>441</th>\n",
              "      <td>-0.045472</td>\n",
              "      <td>-0.044642</td>\n",
              "      <td>-0.073030</td>\n",
              "      <td>-0.081414</td>\n",
              "      <td>0.083740</td>\n",
              "      <td>0.027809</td>\n",
              "      <td>0.173816</td>\n",
              "      <td>-0.039493</td>\n",
              "      <td>-0.004220</td>\n",
              "      <td>0.003064</td>\n",
              "    </tr>\n",
              "  </tbody>\n",
              "</table>\n",
              "<p>442 rows × 10 columns</p>\n",
              "</div>\n",
              "      <button class=\"colab-df-convert\" onclick=\"convertToInteractive('df-bea64624-10db-400d-a72e-41eaf63c39ce')\"\n",
              "              title=\"Convert this dataframe to an interactive table.\"\n",
              "              style=\"display:none;\">\n",
              "        \n",
              "  <svg xmlns=\"http://www.w3.org/2000/svg\" height=\"24px\"viewBox=\"0 0 24 24\"\n",
              "       width=\"24px\">\n",
              "    <path d=\"M0 0h24v24H0V0z\" fill=\"none\"/>\n",
              "    <path d=\"M18.56 5.44l.94 2.06.94-2.06 2.06-.94-2.06-.94-.94-2.06-.94 2.06-2.06.94zm-11 1L8.5 8.5l.94-2.06 2.06-.94-2.06-.94L8.5 2.5l-.94 2.06-2.06.94zm10 10l.94 2.06.94-2.06 2.06-.94-2.06-.94-.94-2.06-.94 2.06-2.06.94z\"/><path d=\"M17.41 7.96l-1.37-1.37c-.4-.4-.92-.59-1.43-.59-.52 0-1.04.2-1.43.59L10.3 9.45l-7.72 7.72c-.78.78-.78 2.05 0 2.83L4 21.41c.39.39.9.59 1.41.59.51 0 1.02-.2 1.41-.59l7.78-7.78 2.81-2.81c.8-.78.8-2.07 0-2.86zM5.41 20L4 18.59l7.72-7.72 1.47 1.35L5.41 20z\"/>\n",
              "  </svg>\n",
              "      </button>\n",
              "      \n",
              "  <style>\n",
              "    .colab-df-container {\n",
              "      display:flex;\n",
              "      flex-wrap:wrap;\n",
              "      gap: 12px;\n",
              "    }\n",
              "\n",
              "    .colab-df-convert {\n",
              "      background-color: #E8F0FE;\n",
              "      border: none;\n",
              "      border-radius: 50%;\n",
              "      cursor: pointer;\n",
              "      display: none;\n",
              "      fill: #1967D2;\n",
              "      height: 32px;\n",
              "      padding: 0 0 0 0;\n",
              "      width: 32px;\n",
              "    }\n",
              "\n",
              "    .colab-df-convert:hover {\n",
              "      background-color: #E2EBFA;\n",
              "      box-shadow: 0px 1px 2px rgba(60, 64, 67, 0.3), 0px 1px 3px 1px rgba(60, 64, 67, 0.15);\n",
              "      fill: #174EA6;\n",
              "    }\n",
              "\n",
              "    [theme=dark] .colab-df-convert {\n",
              "      background-color: #3B4455;\n",
              "      fill: #D2E3FC;\n",
              "    }\n",
              "\n",
              "    [theme=dark] .colab-df-convert:hover {\n",
              "      background-color: #434B5C;\n",
              "      box-shadow: 0px 1px 3px 1px rgba(0, 0, 0, 0.15);\n",
              "      filter: drop-shadow(0px 1px 2px rgba(0, 0, 0, 0.3));\n",
              "      fill: #FFFFFF;\n",
              "    }\n",
              "  </style>\n",
              "\n",
              "      <script>\n",
              "        const buttonEl =\n",
              "          document.querySelector('#df-bea64624-10db-400d-a72e-41eaf63c39ce button.colab-df-convert');\n",
              "        buttonEl.style.display =\n",
              "          google.colab.kernel.accessAllowed ? 'block' : 'none';\n",
              "\n",
              "        async function convertToInteractive(key) {\n",
              "          const element = document.querySelector('#df-bea64624-10db-400d-a72e-41eaf63c39ce');\n",
              "          const dataTable =\n",
              "            await google.colab.kernel.invokeFunction('convertToInteractive',\n",
              "                                                     [key], {});\n",
              "          if (!dataTable) return;\n",
              "\n",
              "          const docLinkHtml = 'Like what you see? Visit the ' +\n",
              "            '<a target=\"_blank\" href=https://colab.research.google.com/notebooks/data_table.ipynb>data table notebook</a>'\n",
              "            + ' to learn more about interactive tables.';\n",
              "          element.innerHTML = '';\n",
              "          dataTable['output_type'] = 'display_data';\n",
              "          await google.colab.output.renderOutput(dataTable, element);\n",
              "          const docLink = document.createElement('div');\n",
              "          docLink.innerHTML = docLinkHtml;\n",
              "          element.appendChild(docLink);\n",
              "        }\n",
              "      </script>\n",
              "    </div>\n",
              "  </div>\n",
              "  "
            ]
          },
          "metadata": {},
          "execution_count": 606
        }
      ]
    },
    {
      "cell_type": "code",
      "source": [
        "type(df_X)"
      ],
      "metadata": {
        "colab": {
          "base_uri": "https://localhost:8080/"
        },
        "id": "Rz71_EmK8fUi",
        "outputId": "16678b5b-5fa2-4637-909d-c8735eaefce8"
      },
      "execution_count": 607,
      "outputs": [
        {
          "output_type": "execute_result",
          "data": {
            "text/plain": [
              "pandas.core.frame.DataFrame"
            ]
          },
          "metadata": {},
          "execution_count": 607
        }
      ]
    },
    {
      "cell_type": "markdown",
      "source": [
        "###### df_y 에 저장"
      ],
      "metadata": {
        "id": "DuL_E3z_ADm5"
      }
    },
    {
      "cell_type": "code",
      "source": [
        "type(diabetes.target)"
      ],
      "metadata": {
        "colab": {
          "base_uri": "https://localhost:8080/"
        },
        "id": "YymaM6EVtTKI",
        "outputId": "ba764459-d4d9-44e0-cda3-3d3a3266002e"
      },
      "execution_count": 608,
      "outputs": [
        {
          "output_type": "execute_result",
          "data": {
            "text/plain": [
              "numpy.ndarray"
            ]
          },
          "metadata": {},
          "execution_count": 608
        }
      ]
    },
    {
      "cell_type": "code",
      "source": [
        "# diabetes 에서,  data 는 2차원인 반면, target 은 1차원이다.\n",
        "diabetes.target.shape"
      ],
      "metadata": {
        "colab": {
          "base_uri": "https://localhost:8080/"
        },
        "id": "xxs_-0c992ro",
        "outputId": "51d5d1cc-f510-4727-cecd-b6890da08659"
      },
      "execution_count": 609,
      "outputs": [
        {
          "output_type": "execute_result",
          "data": {
            "text/plain": [
              "(442,)"
            ]
          },
          "metadata": {},
          "execution_count": 609
        }
      ]
    },
    {
      "cell_type": "code",
      "source": [
        "# columns 에는 list 형식으로 넣어야 한다.\n",
        "df_y = pd.DataFrame(data=diabetes.target, columns=['label'])\n",
        "df_y"
      ],
      "metadata": {
        "colab": {
          "base_uri": "https://localhost:8080/",
          "height": 424
        },
        "id": "9i6Zg7dDt01Z",
        "outputId": "021fb03b-5d5e-40c2-a1e4-a5b4a9f92baf"
      },
      "execution_count": 610,
      "outputs": [
        {
          "output_type": "execute_result",
          "data": {
            "text/plain": [
              "     label\n",
              "0    151.0\n",
              "1     75.0\n",
              "2    141.0\n",
              "3    206.0\n",
              "4    135.0\n",
              "..     ...\n",
              "437  178.0\n",
              "438  104.0\n",
              "439  132.0\n",
              "440  220.0\n",
              "441   57.0\n",
              "\n",
              "[442 rows x 1 columns]"
            ],
            "text/html": [
              "\n",
              "  <div id=\"df-39e2614d-618e-4ad5-af69-a581c4ad6176\">\n",
              "    <div class=\"colab-df-container\">\n",
              "      <div>\n",
              "<style scoped>\n",
              "    .dataframe tbody tr th:only-of-type {\n",
              "        vertical-align: middle;\n",
              "    }\n",
              "\n",
              "    .dataframe tbody tr th {\n",
              "        vertical-align: top;\n",
              "    }\n",
              "\n",
              "    .dataframe thead th {\n",
              "        text-align: right;\n",
              "    }\n",
              "</style>\n",
              "<table border=\"1\" class=\"dataframe\">\n",
              "  <thead>\n",
              "    <tr style=\"text-align: right;\">\n",
              "      <th></th>\n",
              "      <th>label</th>\n",
              "    </tr>\n",
              "  </thead>\n",
              "  <tbody>\n",
              "    <tr>\n",
              "      <th>0</th>\n",
              "      <td>151.0</td>\n",
              "    </tr>\n",
              "    <tr>\n",
              "      <th>1</th>\n",
              "      <td>75.0</td>\n",
              "    </tr>\n",
              "    <tr>\n",
              "      <th>2</th>\n",
              "      <td>141.0</td>\n",
              "    </tr>\n",
              "    <tr>\n",
              "      <th>3</th>\n",
              "      <td>206.0</td>\n",
              "    </tr>\n",
              "    <tr>\n",
              "      <th>4</th>\n",
              "      <td>135.0</td>\n",
              "    </tr>\n",
              "    <tr>\n",
              "      <th>...</th>\n",
              "      <td>...</td>\n",
              "    </tr>\n",
              "    <tr>\n",
              "      <th>437</th>\n",
              "      <td>178.0</td>\n",
              "    </tr>\n",
              "    <tr>\n",
              "      <th>438</th>\n",
              "      <td>104.0</td>\n",
              "    </tr>\n",
              "    <tr>\n",
              "      <th>439</th>\n",
              "      <td>132.0</td>\n",
              "    </tr>\n",
              "    <tr>\n",
              "      <th>440</th>\n",
              "      <td>220.0</td>\n",
              "    </tr>\n",
              "    <tr>\n",
              "      <th>441</th>\n",
              "      <td>57.0</td>\n",
              "    </tr>\n",
              "  </tbody>\n",
              "</table>\n",
              "<p>442 rows × 1 columns</p>\n",
              "</div>\n",
              "      <button class=\"colab-df-convert\" onclick=\"convertToInteractive('df-39e2614d-618e-4ad5-af69-a581c4ad6176')\"\n",
              "              title=\"Convert this dataframe to an interactive table.\"\n",
              "              style=\"display:none;\">\n",
              "        \n",
              "  <svg xmlns=\"http://www.w3.org/2000/svg\" height=\"24px\"viewBox=\"0 0 24 24\"\n",
              "       width=\"24px\">\n",
              "    <path d=\"M0 0h24v24H0V0z\" fill=\"none\"/>\n",
              "    <path d=\"M18.56 5.44l.94 2.06.94-2.06 2.06-.94-2.06-.94-.94-2.06-.94 2.06-2.06.94zm-11 1L8.5 8.5l.94-2.06 2.06-.94-2.06-.94L8.5 2.5l-.94 2.06-2.06.94zm10 10l.94 2.06.94-2.06 2.06-.94-2.06-.94-.94-2.06-.94 2.06-2.06.94z\"/><path d=\"M17.41 7.96l-1.37-1.37c-.4-.4-.92-.59-1.43-.59-.52 0-1.04.2-1.43.59L10.3 9.45l-7.72 7.72c-.78.78-.78 2.05 0 2.83L4 21.41c.39.39.9.59 1.41.59.51 0 1.02-.2 1.41-.59l7.78-7.78 2.81-2.81c.8-.78.8-2.07 0-2.86zM5.41 20L4 18.59l7.72-7.72 1.47 1.35L5.41 20z\"/>\n",
              "  </svg>\n",
              "      </button>\n",
              "      \n",
              "  <style>\n",
              "    .colab-df-container {\n",
              "      display:flex;\n",
              "      flex-wrap:wrap;\n",
              "      gap: 12px;\n",
              "    }\n",
              "\n",
              "    .colab-df-convert {\n",
              "      background-color: #E8F0FE;\n",
              "      border: none;\n",
              "      border-radius: 50%;\n",
              "      cursor: pointer;\n",
              "      display: none;\n",
              "      fill: #1967D2;\n",
              "      height: 32px;\n",
              "      padding: 0 0 0 0;\n",
              "      width: 32px;\n",
              "    }\n",
              "\n",
              "    .colab-df-convert:hover {\n",
              "      background-color: #E2EBFA;\n",
              "      box-shadow: 0px 1px 2px rgba(60, 64, 67, 0.3), 0px 1px 3px 1px rgba(60, 64, 67, 0.15);\n",
              "      fill: #174EA6;\n",
              "    }\n",
              "\n",
              "    [theme=dark] .colab-df-convert {\n",
              "      background-color: #3B4455;\n",
              "      fill: #D2E3FC;\n",
              "    }\n",
              "\n",
              "    [theme=dark] .colab-df-convert:hover {\n",
              "      background-color: #434B5C;\n",
              "      box-shadow: 0px 1px 3px 1px rgba(0, 0, 0, 0.15);\n",
              "      filter: drop-shadow(0px 1px 2px rgba(0, 0, 0, 0.3));\n",
              "      fill: #FFFFFF;\n",
              "    }\n",
              "  </style>\n",
              "\n",
              "      <script>\n",
              "        const buttonEl =\n",
              "          document.querySelector('#df-39e2614d-618e-4ad5-af69-a581c4ad6176 button.colab-df-convert');\n",
              "        buttonEl.style.display =\n",
              "          google.colab.kernel.accessAllowed ? 'block' : 'none';\n",
              "\n",
              "        async function convertToInteractive(key) {\n",
              "          const element = document.querySelector('#df-39e2614d-618e-4ad5-af69-a581c4ad6176');\n",
              "          const dataTable =\n",
              "            await google.colab.kernel.invokeFunction('convertToInteractive',\n",
              "                                                     [key], {});\n",
              "          if (!dataTable) return;\n",
              "\n",
              "          const docLinkHtml = 'Like what you see? Visit the ' +\n",
              "            '<a target=\"_blank\" href=https://colab.research.google.com/notebooks/data_table.ipynb>data table notebook</a>'\n",
              "            + ' to learn more about interactive tables.';\n",
              "          element.innerHTML = '';\n",
              "          dataTable['output_type'] = 'display_data';\n",
              "          await google.colab.output.renderOutput(dataTable, element);\n",
              "          const docLink = document.createElement('div');\n",
              "          docLink.innerHTML = docLinkHtml;\n",
              "          element.appendChild(docLink);\n",
              "        }\n",
              "      </script>\n",
              "    </div>\n",
              "  </div>\n",
              "  "
            ]
          },
          "metadata": {},
          "execution_count": 610
        }
      ]
    },
    {
      "cell_type": "code",
      "source": [
        "type(df_y)"
      ],
      "metadata": {
        "colab": {
          "base_uri": "https://localhost:8080/"
        },
        "id": "ry7Tj9Xu76X5",
        "outputId": "87901056-ac48-4955-d096-24abe3aa2a8e"
      },
      "execution_count": 611,
      "outputs": [
        {
          "output_type": "execute_result",
          "data": {
            "text/plain": [
              "pandas.core.frame.DataFrame"
            ]
          },
          "metadata": {},
          "execution_count": 611
        }
      ]
    },
    {
      "cell_type": "code",
      "source": [
        "# diabetes 의 target 은 1차원 인데,\n",
        "# pandas 로 읽어들이니, 2차원으로 바뀌었다.\n",
        "df_y.shape"
      ],
      "metadata": {
        "colab": {
          "base_uri": "https://localhost:8080/"
        },
        "id": "5swFpJ4R78O8",
        "outputId": "fedfbc43-01cf-4759-ba00-c5d2cd83d2a9"
      },
      "execution_count": 612,
      "outputs": [
        {
          "output_type": "execute_result",
          "data": {
            "text/plain": [
              "(442, 1)"
            ]
          },
          "metadata": {},
          "execution_count": 612
        }
      ]
    },
    {
      "cell_type": "markdown",
      "source": [
        "---\n",
        "### (2)  모델에 입력할 데이터 X 준비하기\n",
        "* df_X 에 있는 값들을 numpy array로 변환해서 저장해 주세요.\n",
        "---"
      ],
      "metadata": {
        "id": "UOYZCLQG-LpL"
      }
    },
    {
      "cell_type": "code",
      "source": [
        "# diabetes = load_diabetes() 하면, sklearn.utils.Bunch 로 나오는데,\n",
        "# data 와 target 은 numpy.ndarray 이므로,\n",
        "# pandas에서 읽어서 .values 로 다시 numpy.ndarray 로 바꿀 필요는 없지만......\n",
        "'''\n",
        "diabetes = load_diabetes()\n",
        "X = diabetes.data\n",
        "type(X)\n",
        "'''"
      ],
      "metadata": {
        "colab": {
          "base_uri": "https://localhost:8080/",
          "height": 35
        },
        "id": "Y4qig2lCumBp",
        "outputId": "d1230617-abee-4e1b-9947-7bf51e3f293a"
      },
      "execution_count": 613,
      "outputs": [
        {
          "output_type": "execute_result",
          "data": {
            "text/plain": [
              "'\\ndiabetes = load_diabetes()\\nX = diabetes.data\\ntype(X)\\n'"
            ],
            "application/vnd.google.colaboratory.intrinsic+json": {
              "type": "string"
            }
          },
          "metadata": {},
          "execution_count": 613
        }
      ]
    },
    {
      "cell_type": "code",
      "source": [
        "df_X.loc[:, 'age':'s6']"
      ],
      "metadata": {
        "colab": {
          "base_uri": "https://localhost:8080/",
          "height": 424
        },
        "id": "HxQ5hc3o6jf7",
        "outputId": "466bd88a-8577-4248-f6e7-a9df06500835"
      },
      "execution_count": 614,
      "outputs": [
        {
          "output_type": "execute_result",
          "data": {
            "text/plain": [
              "          age       sex       bmi        bp        s1        s2        s3  \\\n",
              "0    0.038076  0.050680  0.061696  0.021872 -0.044223 -0.034821 -0.043401   \n",
              "1   -0.001882 -0.044642 -0.051474 -0.026328 -0.008449 -0.019163  0.074412   \n",
              "2    0.085299  0.050680  0.044451 -0.005671 -0.045599 -0.034194 -0.032356   \n",
              "3   -0.089063 -0.044642 -0.011595 -0.036656  0.012191  0.024991 -0.036038   \n",
              "4    0.005383 -0.044642 -0.036385  0.021872  0.003935  0.015596  0.008142   \n",
              "..        ...       ...       ...       ...       ...       ...       ...   \n",
              "437  0.041708  0.050680  0.019662  0.059744 -0.005697 -0.002566 -0.028674   \n",
              "438 -0.005515  0.050680 -0.015906 -0.067642  0.049341  0.079165 -0.028674   \n",
              "439  0.041708  0.050680 -0.015906  0.017282 -0.037344 -0.013840 -0.024993   \n",
              "440 -0.045472 -0.044642  0.039062  0.001215  0.016318  0.015283 -0.028674   \n",
              "441 -0.045472 -0.044642 -0.073030 -0.081414  0.083740  0.027809  0.173816   \n",
              "\n",
              "           s4        s5        s6  \n",
              "0   -0.002592  0.019908 -0.017646  \n",
              "1   -0.039493 -0.068330 -0.092204  \n",
              "2   -0.002592  0.002864 -0.025930  \n",
              "3    0.034309  0.022692 -0.009362  \n",
              "4   -0.002592 -0.031991 -0.046641  \n",
              "..        ...       ...       ...  \n",
              "437 -0.002592  0.031193  0.007207  \n",
              "438  0.034309 -0.018118  0.044485  \n",
              "439 -0.011080 -0.046879  0.015491  \n",
              "440  0.026560  0.044528 -0.025930  \n",
              "441 -0.039493 -0.004220  0.003064  \n",
              "\n",
              "[442 rows x 10 columns]"
            ],
            "text/html": [
              "\n",
              "  <div id=\"df-f746076b-9eb4-4764-b199-121efedbde67\">\n",
              "    <div class=\"colab-df-container\">\n",
              "      <div>\n",
              "<style scoped>\n",
              "    .dataframe tbody tr th:only-of-type {\n",
              "        vertical-align: middle;\n",
              "    }\n",
              "\n",
              "    .dataframe tbody tr th {\n",
              "        vertical-align: top;\n",
              "    }\n",
              "\n",
              "    .dataframe thead th {\n",
              "        text-align: right;\n",
              "    }\n",
              "</style>\n",
              "<table border=\"1\" class=\"dataframe\">\n",
              "  <thead>\n",
              "    <tr style=\"text-align: right;\">\n",
              "      <th></th>\n",
              "      <th>age</th>\n",
              "      <th>sex</th>\n",
              "      <th>bmi</th>\n",
              "      <th>bp</th>\n",
              "      <th>s1</th>\n",
              "      <th>s2</th>\n",
              "      <th>s3</th>\n",
              "      <th>s4</th>\n",
              "      <th>s5</th>\n",
              "      <th>s6</th>\n",
              "    </tr>\n",
              "  </thead>\n",
              "  <tbody>\n",
              "    <tr>\n",
              "      <th>0</th>\n",
              "      <td>0.038076</td>\n",
              "      <td>0.050680</td>\n",
              "      <td>0.061696</td>\n",
              "      <td>0.021872</td>\n",
              "      <td>-0.044223</td>\n",
              "      <td>-0.034821</td>\n",
              "      <td>-0.043401</td>\n",
              "      <td>-0.002592</td>\n",
              "      <td>0.019908</td>\n",
              "      <td>-0.017646</td>\n",
              "    </tr>\n",
              "    <tr>\n",
              "      <th>1</th>\n",
              "      <td>-0.001882</td>\n",
              "      <td>-0.044642</td>\n",
              "      <td>-0.051474</td>\n",
              "      <td>-0.026328</td>\n",
              "      <td>-0.008449</td>\n",
              "      <td>-0.019163</td>\n",
              "      <td>0.074412</td>\n",
              "      <td>-0.039493</td>\n",
              "      <td>-0.068330</td>\n",
              "      <td>-0.092204</td>\n",
              "    </tr>\n",
              "    <tr>\n",
              "      <th>2</th>\n",
              "      <td>0.085299</td>\n",
              "      <td>0.050680</td>\n",
              "      <td>0.044451</td>\n",
              "      <td>-0.005671</td>\n",
              "      <td>-0.045599</td>\n",
              "      <td>-0.034194</td>\n",
              "      <td>-0.032356</td>\n",
              "      <td>-0.002592</td>\n",
              "      <td>0.002864</td>\n",
              "      <td>-0.025930</td>\n",
              "    </tr>\n",
              "    <tr>\n",
              "      <th>3</th>\n",
              "      <td>-0.089063</td>\n",
              "      <td>-0.044642</td>\n",
              "      <td>-0.011595</td>\n",
              "      <td>-0.036656</td>\n",
              "      <td>0.012191</td>\n",
              "      <td>0.024991</td>\n",
              "      <td>-0.036038</td>\n",
              "      <td>0.034309</td>\n",
              "      <td>0.022692</td>\n",
              "      <td>-0.009362</td>\n",
              "    </tr>\n",
              "    <tr>\n",
              "      <th>4</th>\n",
              "      <td>0.005383</td>\n",
              "      <td>-0.044642</td>\n",
              "      <td>-0.036385</td>\n",
              "      <td>0.021872</td>\n",
              "      <td>0.003935</td>\n",
              "      <td>0.015596</td>\n",
              "      <td>0.008142</td>\n",
              "      <td>-0.002592</td>\n",
              "      <td>-0.031991</td>\n",
              "      <td>-0.046641</td>\n",
              "    </tr>\n",
              "    <tr>\n",
              "      <th>...</th>\n",
              "      <td>...</td>\n",
              "      <td>...</td>\n",
              "      <td>...</td>\n",
              "      <td>...</td>\n",
              "      <td>...</td>\n",
              "      <td>...</td>\n",
              "      <td>...</td>\n",
              "      <td>...</td>\n",
              "      <td>...</td>\n",
              "      <td>...</td>\n",
              "    </tr>\n",
              "    <tr>\n",
              "      <th>437</th>\n",
              "      <td>0.041708</td>\n",
              "      <td>0.050680</td>\n",
              "      <td>0.019662</td>\n",
              "      <td>0.059744</td>\n",
              "      <td>-0.005697</td>\n",
              "      <td>-0.002566</td>\n",
              "      <td>-0.028674</td>\n",
              "      <td>-0.002592</td>\n",
              "      <td>0.031193</td>\n",
              "      <td>0.007207</td>\n",
              "    </tr>\n",
              "    <tr>\n",
              "      <th>438</th>\n",
              "      <td>-0.005515</td>\n",
              "      <td>0.050680</td>\n",
              "      <td>-0.015906</td>\n",
              "      <td>-0.067642</td>\n",
              "      <td>0.049341</td>\n",
              "      <td>0.079165</td>\n",
              "      <td>-0.028674</td>\n",
              "      <td>0.034309</td>\n",
              "      <td>-0.018118</td>\n",
              "      <td>0.044485</td>\n",
              "    </tr>\n",
              "    <tr>\n",
              "      <th>439</th>\n",
              "      <td>0.041708</td>\n",
              "      <td>0.050680</td>\n",
              "      <td>-0.015906</td>\n",
              "      <td>0.017282</td>\n",
              "      <td>-0.037344</td>\n",
              "      <td>-0.013840</td>\n",
              "      <td>-0.024993</td>\n",
              "      <td>-0.011080</td>\n",
              "      <td>-0.046879</td>\n",
              "      <td>0.015491</td>\n",
              "    </tr>\n",
              "    <tr>\n",
              "      <th>440</th>\n",
              "      <td>-0.045472</td>\n",
              "      <td>-0.044642</td>\n",
              "      <td>0.039062</td>\n",
              "      <td>0.001215</td>\n",
              "      <td>0.016318</td>\n",
              "      <td>0.015283</td>\n",
              "      <td>-0.028674</td>\n",
              "      <td>0.026560</td>\n",
              "      <td>0.044528</td>\n",
              "      <td>-0.025930</td>\n",
              "    </tr>\n",
              "    <tr>\n",
              "      <th>441</th>\n",
              "      <td>-0.045472</td>\n",
              "      <td>-0.044642</td>\n",
              "      <td>-0.073030</td>\n",
              "      <td>-0.081414</td>\n",
              "      <td>0.083740</td>\n",
              "      <td>0.027809</td>\n",
              "      <td>0.173816</td>\n",
              "      <td>-0.039493</td>\n",
              "      <td>-0.004220</td>\n",
              "      <td>0.003064</td>\n",
              "    </tr>\n",
              "  </tbody>\n",
              "</table>\n",
              "<p>442 rows × 10 columns</p>\n",
              "</div>\n",
              "      <button class=\"colab-df-convert\" onclick=\"convertToInteractive('df-f746076b-9eb4-4764-b199-121efedbde67')\"\n",
              "              title=\"Convert this dataframe to an interactive table.\"\n",
              "              style=\"display:none;\">\n",
              "        \n",
              "  <svg xmlns=\"http://www.w3.org/2000/svg\" height=\"24px\"viewBox=\"0 0 24 24\"\n",
              "       width=\"24px\">\n",
              "    <path d=\"M0 0h24v24H0V0z\" fill=\"none\"/>\n",
              "    <path d=\"M18.56 5.44l.94 2.06.94-2.06 2.06-.94-2.06-.94-.94-2.06-.94 2.06-2.06.94zm-11 1L8.5 8.5l.94-2.06 2.06-.94-2.06-.94L8.5 2.5l-.94 2.06-2.06.94zm10 10l.94 2.06.94-2.06 2.06-.94-2.06-.94-.94-2.06-.94 2.06-2.06.94z\"/><path d=\"M17.41 7.96l-1.37-1.37c-.4-.4-.92-.59-1.43-.59-.52 0-1.04.2-1.43.59L10.3 9.45l-7.72 7.72c-.78.78-.78 2.05 0 2.83L4 21.41c.39.39.9.59 1.41.59.51 0 1.02-.2 1.41-.59l7.78-7.78 2.81-2.81c.8-.78.8-2.07 0-2.86zM5.41 20L4 18.59l7.72-7.72 1.47 1.35L5.41 20z\"/>\n",
              "  </svg>\n",
              "      </button>\n",
              "      \n",
              "  <style>\n",
              "    .colab-df-container {\n",
              "      display:flex;\n",
              "      flex-wrap:wrap;\n",
              "      gap: 12px;\n",
              "    }\n",
              "\n",
              "    .colab-df-convert {\n",
              "      background-color: #E8F0FE;\n",
              "      border: none;\n",
              "      border-radius: 50%;\n",
              "      cursor: pointer;\n",
              "      display: none;\n",
              "      fill: #1967D2;\n",
              "      height: 32px;\n",
              "      padding: 0 0 0 0;\n",
              "      width: 32px;\n",
              "    }\n",
              "\n",
              "    .colab-df-convert:hover {\n",
              "      background-color: #E2EBFA;\n",
              "      box-shadow: 0px 1px 2px rgba(60, 64, 67, 0.3), 0px 1px 3px 1px rgba(60, 64, 67, 0.15);\n",
              "      fill: #174EA6;\n",
              "    }\n",
              "\n",
              "    [theme=dark] .colab-df-convert {\n",
              "      background-color: #3B4455;\n",
              "      fill: #D2E3FC;\n",
              "    }\n",
              "\n",
              "    [theme=dark] .colab-df-convert:hover {\n",
              "      background-color: #434B5C;\n",
              "      box-shadow: 0px 1px 3px 1px rgba(0, 0, 0, 0.15);\n",
              "      filter: drop-shadow(0px 1px 2px rgba(0, 0, 0, 0.3));\n",
              "      fill: #FFFFFF;\n",
              "    }\n",
              "  </style>\n",
              "\n",
              "      <script>\n",
              "        const buttonEl =\n",
              "          document.querySelector('#df-f746076b-9eb4-4764-b199-121efedbde67 button.colab-df-convert');\n",
              "        buttonEl.style.display =\n",
              "          google.colab.kernel.accessAllowed ? 'block' : 'none';\n",
              "\n",
              "        async function convertToInteractive(key) {\n",
              "          const element = document.querySelector('#df-f746076b-9eb4-4764-b199-121efedbde67');\n",
              "          const dataTable =\n",
              "            await google.colab.kernel.invokeFunction('convertToInteractive',\n",
              "                                                     [key], {});\n",
              "          if (!dataTable) return;\n",
              "\n",
              "          const docLinkHtml = 'Like what you see? Visit the ' +\n",
              "            '<a target=\"_blank\" href=https://colab.research.google.com/notebooks/data_table.ipynb>data table notebook</a>'\n",
              "            + ' to learn more about interactive tables.';\n",
              "          element.innerHTML = '';\n",
              "          dataTable['output_type'] = 'display_data';\n",
              "          await google.colab.output.renderOutput(dataTable, element);\n",
              "          const docLink = document.createElement('div');\n",
              "          docLink.innerHTML = docLinkHtml;\n",
              "          element.appendChild(docLink);\n",
              "        }\n",
              "      </script>\n",
              "    </div>\n",
              "  </div>\n",
              "  "
            ]
          },
          "metadata": {},
          "execution_count": 614
        }
      ]
    },
    {
      "cell_type": "code",
      "source": [
        "X = df_X.loc[:, 'age':'s6'].values"
      ],
      "metadata": {
        "id": "in_lspAT8ivL"
      },
      "execution_count": 615,
      "outputs": []
    },
    {
      "cell_type": "code",
      "source": [
        "X"
      ],
      "metadata": {
        "colab": {
          "base_uri": "https://localhost:8080/"
        },
        "id": "9DTiavot5DtF",
        "outputId": "a64e7746-e79c-4bb9-965e-17efcb7bb9f6"
      },
      "execution_count": 616,
      "outputs": [
        {
          "output_type": "execute_result",
          "data": {
            "text/plain": [
              "array([[ 0.03807591,  0.05068012,  0.06169621, ..., -0.00259226,\n",
              "         0.01990842, -0.01764613],\n",
              "       [-0.00188202, -0.04464164, -0.05147406, ..., -0.03949338,\n",
              "        -0.06832974, -0.09220405],\n",
              "       [ 0.08529891,  0.05068012,  0.04445121, ..., -0.00259226,\n",
              "         0.00286377, -0.02593034],\n",
              "       ...,\n",
              "       [ 0.04170844,  0.05068012, -0.01590626, ..., -0.01107952,\n",
              "        -0.04687948,  0.01549073],\n",
              "       [-0.04547248, -0.04464164,  0.03906215, ...,  0.02655962,\n",
              "         0.04452837, -0.02593034],\n",
              "       [-0.04547248, -0.04464164, -0.0730303 , ..., -0.03949338,\n",
              "        -0.00421986,  0.00306441]])"
            ]
          },
          "metadata": {},
          "execution_count": 616
        }
      ]
    },
    {
      "cell_type": "code",
      "source": [
        "X.shape"
      ],
      "metadata": {
        "colab": {
          "base_uri": "https://localhost:8080/"
        },
        "id": "gCejVocM5Ga3",
        "outputId": "8a582018-9c82-4941-b0a3-ae405fcc1291"
      },
      "execution_count": 617,
      "outputs": [
        {
          "output_type": "execute_result",
          "data": {
            "text/plain": [
              "(442, 10)"
            ]
          },
          "metadata": {},
          "execution_count": 617
        }
      ]
    },
    {
      "cell_type": "code",
      "source": [
        "X[0]"
      ],
      "metadata": {
        "colab": {
          "base_uri": "https://localhost:8080/"
        },
        "id": "gFie8XRh5KKg",
        "outputId": "3934d1fb-7e50-4243-9e2c-e9fdb27db1ce"
      },
      "execution_count": 618,
      "outputs": [
        {
          "output_type": "execute_result",
          "data": {
            "text/plain": [
              "array([ 0.03807591,  0.05068012,  0.06169621,  0.02187235, -0.0442235 ,\n",
              "       -0.03482076, -0.04340085, -0.00259226,  0.01990842, -0.01764613])"
            ]
          },
          "metadata": {},
          "execution_count": 618
        }
      ]
    },
    {
      "cell_type": "code",
      "source": [
        "type(X)"
      ],
      "metadata": {
        "colab": {
          "base_uri": "https://localhost:8080/"
        },
        "id": "RISh1WtM8vZy",
        "outputId": "71209f26-27c6-4b1d-d383-ecdb0066f25c"
      },
      "execution_count": 619,
      "outputs": [
        {
          "output_type": "execute_result",
          "data": {
            "text/plain": [
              "numpy.ndarray"
            ]
          },
          "metadata": {},
          "execution_count": 619
        }
      ]
    },
    {
      "cell_type": "markdown",
      "source": [
        "---\n",
        "### (3)  모델에 입력할 데이터 y 준비하기\n",
        "* df_y 에 있는 값들을 numpy array로 변환해서 저장해 주세요.\n",
        "---"
      ],
      "metadata": {
        "id": "yRJICsiV-j6z"
      }
    },
    {
      "cell_type": "code",
      "source": [
        "# diabetes = load_diabetes() 하면, sklearn.utils.Bunch 로 나오는데,\n",
        "# data 와 target 은 numpy.ndarray 이므로,\n",
        "# pandas에서 읽어서 .values 로 다시 numpy.ndarray 로 바꿀 필요는 없었다.\n",
        "'''\n",
        "diabetes = load_diabetes()\n",
        "y = diabetes.target\n",
        "type(y)\n",
        "'''"
      ],
      "metadata": {
        "colab": {
          "base_uri": "https://localhost:8080/",
          "height": 35
        },
        "id": "a632Rq7bvHh-",
        "outputId": "0a596f0f-7811-4f18-a167-ada4584a16de"
      },
      "execution_count": 620,
      "outputs": [
        {
          "output_type": "execute_result",
          "data": {
            "text/plain": [
              "'\\ndiabetes = load_diabetes()\\ny = diabetes.target\\ntype(y)\\n'"
            ],
            "application/vnd.google.colaboratory.intrinsic+json": {
              "type": "string"
            }
          },
          "metadata": {},
          "execution_count": 620
        }
      ]
    },
    {
      "cell_type": "code",
      "source": [
        "# 1차원으로 됨.\n",
        "y = df_y.loc[:, 'label'].values"
      ],
      "metadata": {
        "id": "mP8OxZDXyV9y"
      },
      "execution_count": 621,
      "outputs": []
    },
    {
      "cell_type": "code",
      "source": [
        "y"
      ],
      "metadata": {
        "colab": {
          "base_uri": "https://localhost:8080/"
        },
        "id": "0qUAOeJg2eje",
        "outputId": "c6f4cee8-ccbe-4c28-9e3d-5a16dcfe6b9c"
      },
      "execution_count": 622,
      "outputs": [
        {
          "output_type": "execute_result",
          "data": {
            "text/plain": [
              "array([151.,  75., 141., 206., 135.,  97., 138.,  63., 110., 310., 101.,\n",
              "        69., 179., 185., 118., 171., 166., 144.,  97., 168.,  68.,  49.,\n",
              "        68., 245., 184., 202., 137.,  85., 131., 283., 129.,  59., 341.,\n",
              "        87.,  65., 102., 265., 276., 252.,  90., 100.,  55.,  61.,  92.,\n",
              "       259.,  53., 190., 142.,  75., 142., 155., 225.,  59., 104., 182.,\n",
              "       128.,  52.,  37., 170., 170.,  61., 144.,  52., 128.,  71., 163.,\n",
              "       150.,  97., 160., 178.,  48., 270., 202., 111.,  85.,  42., 170.,\n",
              "       200., 252., 113., 143.,  51.,  52., 210.,  65., 141.,  55., 134.,\n",
              "        42., 111.,  98., 164.,  48.,  96.,  90., 162., 150., 279.,  92.,\n",
              "        83., 128., 102., 302., 198.,  95.,  53., 134., 144., 232.,  81.,\n",
              "       104.,  59., 246., 297., 258., 229., 275., 281., 179., 200., 200.,\n",
              "       173., 180.,  84., 121., 161.,  99., 109., 115., 268., 274., 158.,\n",
              "       107.,  83., 103., 272.,  85., 280., 336., 281., 118., 317., 235.,\n",
              "        60., 174., 259., 178., 128.,  96., 126., 288.,  88., 292.,  71.,\n",
              "       197., 186.,  25.,  84.,  96., 195.,  53., 217., 172., 131., 214.,\n",
              "        59.,  70., 220., 268., 152.,  47.,  74., 295., 101., 151., 127.,\n",
              "       237., 225.,  81., 151., 107.,  64., 138., 185., 265., 101., 137.,\n",
              "       143., 141.,  79., 292., 178.,  91., 116.,  86., 122.,  72., 129.,\n",
              "       142.,  90., 158.,  39., 196., 222., 277.,  99., 196., 202., 155.,\n",
              "        77., 191.,  70.,  73.,  49.,  65., 263., 248., 296., 214., 185.,\n",
              "        78.,  93., 252., 150.,  77., 208.,  77., 108., 160.,  53., 220.,\n",
              "       154., 259.,  90., 246., 124.,  67.,  72., 257., 262., 275., 177.,\n",
              "        71.,  47., 187., 125.,  78.,  51., 258., 215., 303., 243.,  91.,\n",
              "       150., 310., 153., 346.,  63.,  89.,  50.,  39., 103., 308., 116.,\n",
              "       145.,  74.,  45., 115., 264.,  87., 202., 127., 182., 241.,  66.,\n",
              "        94., 283.,  64., 102., 200., 265.,  94., 230., 181., 156., 233.,\n",
              "        60., 219.,  80.,  68., 332., 248.,  84., 200.,  55.,  85.,  89.,\n",
              "        31., 129.,  83., 275.,  65., 198., 236., 253., 124.,  44., 172.,\n",
              "       114., 142., 109., 180., 144., 163., 147.,  97., 220., 190., 109.,\n",
              "       191., 122., 230., 242., 248., 249., 192., 131., 237.,  78., 135.,\n",
              "       244., 199., 270., 164.,  72.,  96., 306.,  91., 214.,  95., 216.,\n",
              "       263., 178., 113., 200., 139., 139.,  88., 148.,  88., 243.,  71.,\n",
              "        77., 109., 272.,  60.,  54., 221.,  90., 311., 281., 182., 321.,\n",
              "        58., 262., 206., 233., 242., 123., 167.,  63., 197.,  71., 168.,\n",
              "       140., 217., 121., 235., 245.,  40.,  52., 104., 132.,  88.,  69.,\n",
              "       219.,  72., 201., 110.,  51., 277.,  63., 118.,  69., 273., 258.,\n",
              "        43., 198., 242., 232., 175.,  93., 168., 275., 293., 281.,  72.,\n",
              "       140., 189., 181., 209., 136., 261., 113., 131., 174., 257.,  55.,\n",
              "        84.,  42., 146., 212., 233.,  91., 111., 152., 120.,  67., 310.,\n",
              "        94., 183.,  66., 173.,  72.,  49.,  64.,  48., 178., 104., 132.,\n",
              "       220.,  57.])"
            ]
          },
          "metadata": {},
          "execution_count": 622
        }
      ]
    },
    {
      "cell_type": "code",
      "source": [
        "y.shape"
      ],
      "metadata": {
        "colab": {
          "base_uri": "https://localhost:8080/"
        },
        "id": "E39Ygn8DBb8I",
        "outputId": "18631178-6efe-4e83-de8d-cd4840e3fad5"
      },
      "execution_count": 623,
      "outputs": [
        {
          "output_type": "execute_result",
          "data": {
            "text/plain": [
              "(442,)"
            ]
          },
          "metadata": {},
          "execution_count": 623
        }
      ]
    },
    {
      "cell_type": "code",
      "source": [
        "type(y)"
      ],
      "metadata": {
        "colab": {
          "base_uri": "https://localhost:8080/"
        },
        "id": "wP78NDWa87fz",
        "outputId": "335f3cf3-493f-431d-f589-11611ea07d1c"
      },
      "execution_count": 624,
      "outputs": [
        {
          "output_type": "execute_result",
          "data": {
            "text/plain": [
              "numpy.ndarray"
            ]
          },
          "metadata": {},
          "execution_count": 624
        }
      ]
    },
    {
      "cell_type": "markdown",
      "source": [
        "---\n",
        "### (4) train 데이터와 test 데이터로 분리하기\n",
        "* x 와 y 데이터를 각각 train 데이타와 test 데이터로 분리해 주세요.\n",
        "---"
      ],
      "metadata": {
        "id": "a9Gg0rpW-rgK"
      }
    },
    {
      "cell_type": "code",
      "source": [
        "# 데이타를 학습과 평가용으로 분리\n",
        "from sklearn.model_selection import train_test_split\n",
        "X_train, X_test, y_train, y_test = train_test_split(X, y, test_size=0.2, random_state=42)\n",
        "\n",
        "print(X_train.shape, y_train.shape)\n",
        "print(X_test.shape, y_test.shape)\n",
        "\n",
        "print('X_train 개수: ', len(X_train))\n",
        "print('X_test 개수 : ', len(X_test))"
      ],
      "metadata": {
        "colab": {
          "base_uri": "https://localhost:8080/"
        },
        "id": "HEnOR6sUyi7i",
        "outputId": "89b8744a-8bd5-4433-8943-1790f70a67a8"
      },
      "execution_count": 625,
      "outputs": [
        {
          "output_type": "stream",
          "name": "stdout",
          "text": [
            "(353, 10) (353,)\n",
            "(89, 10) (89,)\n",
            "X_train 개수:  353\n",
            "X_test 개수 :  89\n"
          ]
        }
      ]
    },
    {
      "cell_type": "code",
      "source": [
        "X_train.shape, y_train.shape"
      ],
      "metadata": {
        "colab": {
          "base_uri": "https://localhost:8080/"
        },
        "id": "ZTLmXW5Yzst5",
        "outputId": "a4bdcf21-f4a3-426c-b98e-d0192f0d326e"
      },
      "execution_count": 626,
      "outputs": [
        {
          "output_type": "execute_result",
          "data": {
            "text/plain": [
              "((353, 10), (353,))"
            ]
          },
          "metadata": {},
          "execution_count": 626
        }
      ]
    },
    {
      "cell_type": "code",
      "source": [
        "X_test.shape, y_test.shape"
      ],
      "metadata": {
        "colab": {
          "base_uri": "https://localhost:8080/"
        },
        "id": "yiPW_HjWzunz",
        "outputId": "77fb9b11-9335-4618-e090-29aacbddfaa7"
      },
      "execution_count": 627,
      "outputs": [
        {
          "output_type": "execute_result",
          "data": {
            "text/plain": [
              "((89, 10), (89,))"
            ]
          },
          "metadata": {},
          "execution_count": 627
        }
      ]
    },
    {
      "cell_type": "code",
      "source": [
        "y_train, y_test"
      ],
      "metadata": {
        "id": "uUe4FqjBzzXa",
        "colab": {
          "base_uri": "https://localhost:8080/"
        },
        "outputId": "d569a3c0-d9dc-4779-c70a-ed2f308f36b5"
      },
      "execution_count": 628,
      "outputs": [
        {
          "output_type": "execute_result",
          "data": {
            "text/plain": [
              "(array([144., 150., 280., 125.,  59.,  65., 281., 277., 167.,  90.,  72.,\n",
              "        178.,  88., 270., 101., 197.,  97.,  53.,  71., 262.,  52., 102.,\n",
              "        166., 189., 173., 220., 206.,  97.,  60.,  61., 242., 121., 128.,\n",
              "        104., 265., 132., 283., 174., 129., 257., 137.,  63.,  93., 232.,\n",
              "        208., 261., 179., 258., 262.,  51., 237.,  71., 139., 268.,  69.,\n",
              "        317., 249., 154., 192., 116.,  81., 122., 259., 191., 292.,  55.,\n",
              "        107., 210.,  91., 253.,  85., 252.,  59.,  78., 200.,  78., 245.,\n",
              "        175.,  42., 127.,  53.,  94., 104., 199., 265., 281., 248., 257.,\n",
              "        215., 303., 170.,  59., 277., 209., 138., 198., 124.,  96., 288.,\n",
              "        225., 265., 101.,  55., 198.,  51., 252.,  64., 220., 131., 212.,\n",
              "        142., 103., 155., 121.,  86., 111.,  65., 131.,  51., 128., 141.,\n",
              "         48., 109., 178.,  88.,  84., 216., 150.,  60.,  96., 190.,  74.,\n",
              "        279., 182., 160., 245., 276., 174., 180., 150., 196., 138.,  97.,\n",
              "        246., 321., 308., 109.,  69., 182., 258., 161., 178., 214.,  45.,\n",
              "        150., 160.,  55., 197., 185., 268., 310., 123.,  68.,  72., 185.,\n",
              "        144., 147., 168., 178., 246., 151., 127.,  83., 332., 152., 109.,\n",
              "         90.,  66., 214.,  85., 129.,  89., 259., 229., 200.,  77.,  54.,\n",
              "         31., 109., 206., 144., 118.,  83., 242., 259.,  72., 163., 181.,\n",
              "        141.,  71., 137., 195., 179., 102., 131.,  47., 235.,  77., 198.,\n",
              "         93., 162., 225., 275., 183., 306.,  81.,  55., 146., 196., 230.,\n",
              "        310.,  40., 135., 346.,  43., 128.,  77., 235.,  49.,  74.,  92.,\n",
              "         84., 263., 144., 142., 341., 115., 158., 273.,  85.,  88., 220.,\n",
              "         39.,  80., 172., 217., 336.,  52., 272., 115., 110., 131.,  71.,\n",
              "        275., 118.,  25., 100., 281., 221., 248., 200., 132.,  91.,  67.,\n",
              "        202.,  73.,  85., 275., 243.,  66., 293., 236., 243.,  87.,  39.,\n",
              "        217.,  92., 296., 292., 142.,  50.,  53., 104.,  75., 120., 142.,\n",
              "        143.,  99.,  65., 116., 233., 164.,  95.,  59., 139., 145., 177.,\n",
              "        185.,  97.,  42., 201., 241.,  70.,  78.,  49., 103.,  44., 111.,\n",
              "        191.,  47., 182.,  58., 155., 151.,  79., 104., 143., 152., 170.,\n",
              "         75., 200., 124.,  91.,  49., 163.,  53., 283., 178., 219., 200.,\n",
              "        113., 113.,  63., 114., 126., 274.,  88., 311.,  83.,  71., 134.,\n",
              "        244.,  65., 173.,  57.,  68., 141., 270., 134., 202., 148.,  64.,\n",
              "        302.]),\n",
              " array([219.,  70., 202., 230., 111.,  84., 242., 272.,  94.,  96.,  94.,\n",
              "        252.,  99., 297., 135.,  67., 295., 264., 170., 275., 310.,  64.,\n",
              "        128., 232., 129., 118., 263.,  77.,  48., 107., 140., 113.,  90.,\n",
              "        164., 180., 233.,  42.,  84., 172.,  63.,  48., 108., 156., 168.,\n",
              "         90.,  52., 200.,  87.,  90., 258., 136., 158.,  69.,  72., 171.,\n",
              "         95.,  72., 151., 168.,  60., 122.,  52., 187., 102., 214., 248.,\n",
              "        181., 110., 140., 202., 101., 222., 281.,  61.,  89.,  91., 186.,\n",
              "        220., 237., 233.,  68., 190.,  96.,  72., 153.,  98.,  37.,  63.,\n",
              "        184.]))"
            ]
          },
          "metadata": {},
          "execution_count": 628
        }
      ]
    },
    {
      "cell_type": "markdown",
      "source": [
        "---\n",
        "### (5) 모델 준비하기\n",
        "* 입력 데이터 개수에 맞는 가중치 W 와 b 를 준비해 주세요.\n",
        "* 모델함수를 구현해주세요.\n",
        "---"
      ],
      "metadata": {
        "id": "70qv-Uh6_fDo"
      }
    },
    {
      "cell_type": "markdown",
      "source": [
        "#### (5-1) 입력 데이터 개수에 맞는 가중치 W와 b를 준비해주세요."
      ],
      "metadata": {
        "id": "iEhilRQp35Iy"
      }
    },
    {
      "cell_type": "code",
      "source": [
        "import numpy as np\n",
        "W = np.random.rand(10)\n",
        "b = np.random.rand()"
      ],
      "metadata": {
        "id": "_4Y_yNS5_kyi"
      },
      "execution_count": 629,
      "outputs": []
    },
    {
      "cell_type": "code",
      "source": [
        "W"
      ],
      "metadata": {
        "colab": {
          "base_uri": "https://localhost:8080/"
        },
        "id": "UTbYTC1u_kwE",
        "outputId": "e114d10c-fa21-4a61-f003-ca007c76d989"
      },
      "execution_count": 630,
      "outputs": [
        {
          "output_type": "execute_result",
          "data": {
            "text/plain": [
              "array([0.23005472, 0.45801962, 0.02638817, 0.04286585, 0.33273045,\n",
              "       0.09102473, 0.0908021 , 0.53464949, 0.92834849, 0.92240142])"
            ]
          },
          "metadata": {},
          "execution_count": 630
        }
      ]
    },
    {
      "cell_type": "code",
      "source": [
        "b"
      ],
      "metadata": {
        "colab": {
          "base_uri": "https://localhost:8080/"
        },
        "id": "duvjvdqn_ktM",
        "outputId": "2e9a4c40-d675-424a-df67-a06a8c8d4571"
      },
      "execution_count": 631,
      "outputs": [
        {
          "output_type": "execute_result",
          "data": {
            "text/plain": [
              "0.9247690425923227"
            ]
          },
          "metadata": {},
          "execution_count": 631
        }
      ]
    },
    {
      "cell_type": "markdown",
      "source": [
        "#### (5-2) 모델 함수를 구현해주세요."
      ],
      "metadata": {
        "id": "6g12DAh23_tz"
      }
    },
    {
      "cell_type": "code",
      "source": [
        "### 모델\n",
        "def model(X, W, b):\n",
        "    predictions = 0\n",
        "    for i in range(10):\n",
        "        predictions += X[:, i] * W[i]\n",
        "    predictions += b\n",
        "    return predictions"
      ],
      "metadata": {
        "id": "nexrAKEx_khK"
      },
      "execution_count": 632,
      "outputs": []
    },
    {
      "cell_type": "markdown",
      "source": [
        "### (6) 손실함수 loss 정의하기\n",
        "* 손실함수를 MSE 함수로 정의해 주세요.\n",
        "---"
      ],
      "metadata": {
        "id": "zUVYU96NAvO4"
      }
    },
    {
      "cell_type": "code",
      "source": [
        "def MSE(a, b):\n",
        "    mse = ((a - b) ** 2).mean()  # 두 값의 차이의 제곱의 평균\n",
        "    return mse"
      ],
      "metadata": {
        "id": "lxymOopH_56X"
      },
      "execution_count": 633,
      "outputs": []
    },
    {
      "cell_type": "code",
      "source": [
        "def loss(X, W, b, y):\n",
        "    predictions = model(X, W, b)\n",
        "    L = MSE(predictions, y)\n",
        "    return L"
      ],
      "metadata": {
        "id": "TAccdgGN_8MQ"
      },
      "execution_count": 634,
      "outputs": []
    },
    {
      "cell_type": "markdown",
      "source": [
        "---\n",
        "### (7) 기울기를 구하는 gradient 함수 구하기\n",
        "* 기울기를 계산하는 gradient 함수를 구현해 주세요.\n",
        "---"
      ],
      "metadata": {
        "id": "8YzFERaDBQdu"
      }
    },
    {
      "cell_type": "code",
      "source": [
        "def gradient(X, W, b, y):\n",
        "    # N은 가중치의 개수\n",
        "    N = len(W)\n",
        "    \n",
        "    # y_pred 준비\n",
        "    y_pred = model(X, W, b)\n",
        "    \n",
        "    # 공식에 맞게 gradient 계산\n",
        "    dW = 1/N * 2 * X.T.dot(y_pred - y)\n",
        "        \n",
        "    # b의 gradient 계산\n",
        "    db = 2 * (y_pred - y).mean()\n",
        "    return dW, db"
      ],
      "metadata": {
        "id": "8ZzWpHPY_9-N"
      },
      "execution_count": 635,
      "outputs": []
    },
    {
      "cell_type": "code",
      "source": [
        "dW, db = gradient(X, W, b, y)\n",
        "print(\"dW:\", dW)\n",
        "print(\"db:\", db)"
      ],
      "metadata": {
        "colab": {
          "base_uri": "https://localhost:8080/"
        },
        "id": "EcOs0z7C__q_",
        "outputId": "fda4d9d8-54e3-4481-a7e0-3112a273e5bf"
      },
      "execution_count": 636,
      "outputs": [
        {
          "output_type": "stream",
          "name": "stdout",
          "text": [
            "dW: [ -60.62316931  -13.74113741 -189.64828754 -142.71125622  -68.33471151\n",
            "  -56.07321635  127.60195217 -138.99911416 -182.82550331 -123.46885382]\n",
            "db: -302.4174302406072\n"
          ]
        }
      ]
    },
    {
      "cell_type": "markdown",
      "source": [
        "---\n",
        "### (8) 하이퍼 파라미터 인 학습률 설정하기\n",
        "* 학습률, learning rate 를 설정해 주세요.\n",
        "* 만약 학습이 잘 되지 않는다면 learning rate 값을 한번 여러가지로 설정하며 실험해 보세요.\n",
        "---"
      ],
      "metadata": {
        "id": "XjZ5zKFU_kA4"
      }
    },
    {
      "cell_type": "code",
      "source": [
        "#LEARNING_RATE = 0.0001\n",
        "LEARNING_RATE = 0.2"
      ],
      "metadata": {
        "id": "mOAKxwLpBoIa"
      },
      "execution_count": 637,
      "outputs": []
    },
    {
      "cell_type": "markdown",
      "source": [
        "---\n",
        "### (9) 모델 학습하기\n",
        "* 정의된 손실함수와 기울기 함수로 모델을 학습해주세요.\n",
        "* loss값이 충분히 떨어질 때까지 학습을 진행해 주세요.\n",
        "* 입력하는 데이터인 X 에 들어가는 특성 컬럼들을 몇 개 빼도 괜찮습니다. 다양한 데이터로 실험해 보세요.\n",
        "---"
      ],
      "metadata": {
        "id": "ISzleZCoDV_0"
      }
    },
    {
      "cell_type": "code",
      "source": [
        "losses = []\n",
        "\n",
        "#for i in range(1, 3001):\n",
        "for i in range(1, 10001):\n",
        "    dW, db = gradient(X_train, W, b, y_train)\n",
        "    W -= LEARNING_RATE * dW\n",
        "    b -= LEARNING_RATE * db\n",
        "    L = loss(X_train, W, b, y_train)\n",
        "    losses.append(L)\n",
        "    if i % 100 == 0:\n",
        "        print('Iteration %d : Loss %0.4f' % (i, L))"
      ],
      "metadata": {
        "colab": {
          "base_uri": "https://localhost:8080/"
        },
        "id": "AuoqYyJeBoGQ",
        "outputId": "48bf9220-8621-45b8-cb81-27aab4cee27a"
      },
      "execution_count": 638,
      "outputs": [
        {
          "output_type": "stream",
          "name": "stdout",
          "text": [
            "Iteration 100 : Loss 2901.7223\n",
            "Iteration 200 : Loss 2896.4559\n",
            "Iteration 300 : Loss 2894.7880\n",
            "Iteration 400 : Loss 2893.2760\n",
            "Iteration 500 : Loss 2891.8541\n",
            "Iteration 600 : Loss 2890.5151\n",
            "Iteration 700 : Loss 2889.2536\n",
            "Iteration 800 : Loss 2888.0650\n",
            "Iteration 900 : Loss 2886.9448\n",
            "Iteration 1000 : Loss 2885.8891\n",
            "Iteration 1100 : Loss 2884.8940\n",
            "Iteration 1200 : Loss 2883.9561\n",
            "Iteration 1300 : Loss 2883.0720\n",
            "Iteration 1400 : Loss 2882.2387\n",
            "Iteration 1500 : Loss 2881.4532\n",
            "Iteration 1600 : Loss 2880.7128\n",
            "Iteration 1700 : Loss 2880.0149\n",
            "Iteration 1800 : Loss 2879.3570\n",
            "Iteration 1900 : Loss 2878.7368\n",
            "Iteration 2000 : Loss 2878.1522\n",
            "Iteration 2100 : Loss 2877.6012\n",
            "Iteration 2200 : Loss 2877.0817\n",
            "Iteration 2300 : Loss 2876.5921\n",
            "Iteration 2400 : Loss 2876.1306\n",
            "Iteration 2500 : Loss 2875.6955\n",
            "Iteration 2600 : Loss 2875.2854\n",
            "Iteration 2700 : Loss 2874.8988\n",
            "Iteration 2800 : Loss 2874.5344\n",
            "Iteration 2900 : Loss 2874.1909\n",
            "Iteration 3000 : Loss 2873.8671\n",
            "Iteration 3100 : Loss 2873.5619\n",
            "Iteration 3200 : Loss 2873.2742\n",
            "Iteration 3300 : Loss 2873.0030\n",
            "Iteration 3400 : Loss 2872.7473\n",
            "Iteration 3500 : Loss 2872.5063\n",
            "Iteration 3600 : Loss 2872.2792\n",
            "Iteration 3700 : Loss 2872.0650\n",
            "Iteration 3800 : Loss 2871.8632\n",
            "Iteration 3900 : Loss 2871.6729\n",
            "Iteration 4000 : Loss 2871.4936\n",
            "Iteration 4100 : Loss 2871.3245\n",
            "Iteration 4200 : Loss 2871.1652\n",
            "Iteration 4300 : Loss 2871.0149\n",
            "Iteration 4400 : Loss 2870.8733\n",
            "Iteration 4500 : Loss 2870.7399\n",
            "Iteration 4600 : Loss 2870.6140\n",
            "Iteration 4700 : Loss 2870.4954\n",
            "Iteration 4800 : Loss 2870.3836\n",
            "Iteration 4900 : Loss 2870.2783\n",
            "Iteration 5000 : Loss 2870.1789\n",
            "Iteration 5100 : Loss 2870.0853\n",
            "Iteration 5200 : Loss 2869.9970\n",
            "Iteration 5300 : Loss 2869.9138\n",
            "Iteration 5400 : Loss 2869.8354\n",
            "Iteration 5500 : Loss 2869.7614\n",
            "Iteration 5600 : Loss 2869.6917\n",
            "Iteration 5700 : Loss 2869.6260\n",
            "Iteration 5800 : Loss 2869.5641\n",
            "Iteration 5900 : Loss 2869.5057\n",
            "Iteration 6000 : Loss 2869.4507\n",
            "Iteration 6100 : Loss 2869.3989\n",
            "Iteration 6200 : Loss 2869.3500\n",
            "Iteration 6300 : Loss 2869.3039\n",
            "Iteration 6400 : Loss 2869.2604\n",
            "Iteration 6500 : Loss 2869.2195\n",
            "Iteration 6600 : Loss 2869.1809\n",
            "Iteration 6700 : Loss 2869.1445\n",
            "Iteration 6800 : Loss 2869.1102\n",
            "Iteration 6900 : Loss 2869.0779\n",
            "Iteration 7000 : Loss 2869.0474\n",
            "Iteration 7100 : Loss 2869.0187\n",
            "Iteration 7200 : Loss 2868.9916\n",
            "Iteration 7300 : Loss 2868.9660\n",
            "Iteration 7400 : Loss 2868.9420\n",
            "Iteration 7500 : Loss 2868.9193\n",
            "Iteration 7600 : Loss 2868.8979\n",
            "Iteration 7700 : Loss 2868.8778\n",
            "Iteration 7800 : Loss 2868.8588\n",
            "Iteration 7900 : Loss 2868.8409\n",
            "Iteration 8000 : Loss 2868.8240\n",
            "Iteration 8100 : Loss 2868.8081\n",
            "Iteration 8200 : Loss 2868.7931\n",
            "Iteration 8300 : Loss 2868.7789\n",
            "Iteration 8400 : Loss 2868.7656\n",
            "Iteration 8500 : Loss 2868.7530\n",
            "Iteration 8600 : Loss 2868.7412\n",
            "Iteration 8700 : Loss 2868.7300\n",
            "Iteration 8800 : Loss 2868.7195\n",
            "Iteration 8900 : Loss 2868.7096\n",
            "Iteration 9000 : Loss 2868.7002\n",
            "Iteration 9100 : Loss 2868.6914\n",
            "Iteration 9200 : Loss 2868.6831\n",
            "Iteration 9300 : Loss 2868.6753\n",
            "Iteration 9400 : Loss 2868.6679\n",
            "Iteration 9500 : Loss 2868.6609\n",
            "Iteration 9600 : Loss 2868.6544\n",
            "Iteration 9700 : Loss 2868.6482\n",
            "Iteration 9800 : Loss 2868.6424\n",
            "Iteration 9900 : Loss 2868.6369\n",
            "Iteration 10000 : Loss 2868.6317\n"
          ]
        }
      ]
    },
    {
      "cell_type": "code",
      "source": [
        "import matplotlib.pyplot as plt\n",
        "plt.plot(losses)\n",
        "plt.show()"
      ],
      "metadata": {
        "colab": {
          "base_uri": "https://localhost:8080/",
          "height": 265
        },
        "id": "CG3CVae5BoDw",
        "outputId": "1dcb99d5-9266-414e-8964-ce691f4dfc28"
      },
      "execution_count": 639,
      "outputs": [
        {
          "output_type": "display_data",
          "data": {
            "text/plain": [
              "<Figure size 432x288 with 1 Axes>"
            ],
            "image/png": "[encoded data removed]"
          },
          "metadata": {
            "needs_background": "light"
          }
        }
      ]
    },
    {
      "cell_type": "code",
      "source": [
        "W, b"
      ],
      "metadata": {
        "colab": {
          "base_uri": "https://localhost:8080/"
        },
        "id": "bZEjydOkBoBJ",
        "outputId": "b8c637fb-733b-4f73-85fc-ba4e7dd16f60"
      },
      "execution_count": 640,
      "outputs": [
        {
          "output_type": "execute_result",
          "data": {
            "text/plain": [
              "(array([  38.15524362, -241.87217667,  543.30485555,  347.43167845,\n",
              "        -886.16611176,  482.50735942,  143.08708628,  269.06801155,\n",
              "         718.82880457,   48.99438087]), 151.34334454455245)"
            ]
          },
          "metadata": {},
          "execution_count": 640
        }
      ]
    },
    {
      "cell_type": "markdown",
      "source": [
        "---\n",
        "### (10) test 데이터에 대한 성능 확인하기\n",
        "* test 데이터에 대한 성능을 확인해 주세요.\n",
        "---"
      ],
      "metadata": {
        "id": "xmFAEEgmEYfg"
      }
    },
    {
      "cell_type": "code",
      "source": [
        "prediction = model(X_test, W, b)\n",
        "mse = loss(X_test, W, b, y_test)\n",
        "mse"
      ],
      "metadata": {
        "colab": {
          "base_uri": "https://localhost:8080/"
        },
        "id": "z9PrmquzBzjd",
        "outputId": "521035c8-654c-442e-a95b-d764dd59567b"
      },
      "execution_count": 641,
      "outputs": [
        {
          "output_type": "execute_result",
          "data": {
            "text/plain": [
              "2898.4407228603104"
            ]
          },
          "metadata": {},
          "execution_count": 641
        }
      ]
    },
    {
      "cell_type": "markdown",
      "source": [
        "---\n",
        "### (11) 정답 데이터와 예측한 데이터 시각화 하기\n",
        "* x축에는 X 데이터의 첫 번째 컬럼을, y축에는 정답인 target 데이터를 넣어서 모델이 예측한 데이터를 시각화 해주세요.\n",
        "---"
      ],
      "metadata": {
        "id": "GEh6Gvn2Eheb"
      }
    },
    {
      "cell_type": "code",
      "source": [
        "plt.scatter(X_train[:, 0], y_train)\n",
        "plt.scatter(X_test[:, 0], prediction)\n",
        "plt.show()"
      ],
      "metadata": {
        "colab": {
          "base_uri": "https://localhost:8080/",
          "height": 265
        },
        "id": "XGACW_6l9BCi",
        "outputId": "a24aa745-e32a-4834-ee5e-10ea88871cdb"
      },
      "execution_count": 642,
      "outputs": [
        {
          "output_type": "display_data",
          "data": {
            "text/plain": [
              "<Figure size 432x288 with 1 Axes>"
            ],
            "image/png": "[encoded data removed]"
          },
          "metadata": {
            "needs_background": "light"
          }
        }
      ]
    },
    {
      "cell_type": "code",
      "source": [
        "plt.scatter(X_test[:, 0], y_test)\n",
        "plt.scatter(X_test[:, 0], prediction)\n",
        "plt.show()"
      ],
      "metadata": {
        "colab": {
          "base_uri": "https://localhost:8080/",
          "height": 265
        },
        "id": "w3hTLM6HBzhT",
        "outputId": "d7941bb6-b9a6-4a88-c109-3f78e921b585"
      },
      "execution_count": 643,
      "outputs": [
        {
          "output_type": "display_data",
          "data": {
            "text/plain": [
              "<Figure size 432x288 with 1 Axes>"
            ],
            "image/png": "[encoded data removed]"
          },
          "metadata": {
            "needs_background": "light"
          }
        }
      ]
    },
    {
      "cell_type": "markdown",
      "source": [
        "---\n",
        "---\n",
        "---\n",
        "사이킷런 과 비교\n",
        "---\n",
        "---\n",
        "---\n",
        "\n"
      ],
      "metadata": {
        "id": "s8Lf32YYEnpm"
      }
    },
    {
      "cell_type": "code",
      "source": [
        "from sklearn.datasets import load_diabetes\n",
        "diabetes_sk = load_diabetes()\n",
        "data_sk = diabetes_sk.data"
      ],
      "metadata": {
        "id": "E0athqK3ojNl"
      },
      "execution_count": 644,
      "outputs": []
    },
    {
      "cell_type": "code",
      "source": [
        "import pandas as pd"
      ],
      "metadata": {
        "id": "LYa2YFmLoqCQ"
      },
      "execution_count": 645,
      "outputs": []
    },
    {
      "cell_type": "code",
      "source": [
        "df_X_sk = pd.DataFrame(data=data_sk, columns=diabetes_sk.feature_names)\n",
        "# df_y_sk = pd.DataFrame(data=diabetes_sk.target, columns=['label'])"
      ],
      "metadata": {
        "id": "WhnG5YtyojK9"
      },
      "execution_count": 646,
      "outputs": []
    },
    {
      "cell_type": "code",
      "source": [
        "X_sk = df_X_sk.loc[:, 'age':'s6'].values\n",
        "y_sk = diabetes_sk.target"
      ],
      "metadata": {
        "id": "rETeonZfojH7"
      },
      "execution_count": 647,
      "outputs": []
    },
    {
      "cell_type": "code",
      "source": [
        "from sklearn.model_selection import train_test_split\n",
        "X_sk_train, X_sk_test, y_sk_train, y_sk_test = train_test_split(X_sk, y_sk, test_size=0.2, random_state=42)"
      ],
      "metadata": {
        "id": "wyGnSNenoi_R"
      },
      "execution_count": 648,
      "outputs": []
    },
    {
      "cell_type": "code",
      "source": [
        "from sklearn.linear_model import LinearRegression\n",
        "model_sk = LinearRegression()\n",
        "\n",
        "print(model_sk._estimator_type)"
      ],
      "metadata": {
        "colab": {
          "base_uri": "https://localhost:8080/"
        },
        "id": "9H-js72Tz8A4",
        "outputId": "ec522be7-d727-4b92-881f-5e5f656cc7d1"
      },
      "execution_count": 649,
      "outputs": [
        {
          "output_type": "stream",
          "name": "stdout",
          "text": [
            "regressor\n"
          ]
        }
      ]
    },
    {
      "cell_type": "code",
      "source": [
        "# 학습\n",
        "model_sk.fit(X_sk_train, y_sk_train)"
      ],
      "metadata": {
        "colab": {
          "base_uri": "https://localhost:8080/"
        },
        "id": "UiQovU4Oz77l",
        "outputId": "84394f0b-07cd-4ae1-c302-7bb138efcb68"
      },
      "execution_count": 650,
      "outputs": [
        {
          "output_type": "execute_result",
          "data": {
            "text/plain": [
              "LinearRegression()"
            ]
          },
          "metadata": {},
          "execution_count": 650
        }
      ]
    },
    {
      "cell_type": "code",
      "source": [
        "# 예측\n",
        "y_sk_pred = model_sk.predict(X_sk_test)\n",
        "y_sk_pred"
      ],
      "metadata": {
        "colab": {
          "base_uri": "https://localhost:8080/"
        },
        "id": "8X5pwNb7z74P",
        "outputId": "9ffb3ae0-d35b-4325-e7d8-e036d61dee01"
      },
      "execution_count": 651,
      "outputs": [
        {
          "output_type": "execute_result",
          "data": {
            "text/plain": [
              "array([139.5483133 , 179.52030578, 134.04133298, 291.41193598,\n",
              "       123.78723656,  92.17357677, 258.23409704, 181.33895238,\n",
              "        90.22217862, 108.63143298,  94.13938654, 168.43379636,\n",
              "        53.50669663, 206.63040068, 100.13238561, 130.66881649,\n",
              "       219.53270758, 250.78291772, 196.36682356, 218.57497401,\n",
              "       207.35002447,  88.48361667,  70.43428801, 188.95725301,\n",
              "       154.88720039, 159.35957695, 188.31587948, 180.38835506,\n",
              "        47.98988446, 108.97514644, 174.78080029,  86.36598906,\n",
              "       132.95890535, 184.5410226 , 173.83298051, 190.35863287,\n",
              "       124.41740796, 119.65426903, 147.95402494,  59.05311211,\n",
              "        71.62636914, 107.68722902, 165.45544477, 155.00784964,\n",
              "       171.04558668,  61.45763075,  71.66975626, 114.96330486,\n",
              "        51.57808027, 167.57781958, 152.52505798,  62.95827693,\n",
              "       103.49862017, 109.20495627, 175.63844013, 154.60247734,\n",
              "        94.41476124, 210.74244148, 120.25601864,  77.61590087,\n",
              "       187.93503183, 206.49543321, 140.63018684, 105.59463059,\n",
              "       130.704246  , 202.18650868, 171.1330116 , 164.91246096,\n",
              "       124.72637597, 144.81210187, 181.99631481, 199.41234515,\n",
              "       234.21402489, 145.96053305,  79.86349114, 157.36828831,\n",
              "       192.74737754, 208.8980067 , 158.58505486, 206.0226849 ,\n",
              "       107.47978402, 140.93428553,  54.81856678,  55.92807758,\n",
              "       115.00974554,  78.95886675,  81.55731377,  54.3774778 ,\n",
              "       166.25477778])"
            ]
          },
          "metadata": {},
          "execution_count": 651
        }
      ]
    },
    {
      "cell_type": "code",
      "source": [
        "y_sk_pred.shape"
      ],
      "metadata": {
        "colab": {
          "base_uri": "https://localhost:8080/"
        },
        "id": "8swnbZ782Ffo",
        "outputId": "32242b9b-0e96-4138-9733-382324118a6a"
      },
      "execution_count": 652,
      "outputs": [
        {
          "output_type": "execute_result",
          "data": {
            "text/plain": [
              "(89,)"
            ]
          },
          "metadata": {},
          "execution_count": 652
        }
      ]
    },
    {
      "cell_type": "code",
      "source": [
        "y_sk_test"
      ],
      "metadata": {
        "colab": {
          "base_uri": "https://localhost:8080/"
        },
        "id": "pMjI44qOz7w8",
        "outputId": "18d0d408-9fef-4204-dd86-52bac2ca8dfb"
      },
      "execution_count": 653,
      "outputs": [
        {
          "output_type": "execute_result",
          "data": {
            "text/plain": [
              "array([219.,  70., 202., 230., 111.,  84., 242., 272.,  94.,  96.,  94.,\n",
              "       252.,  99., 297., 135.,  67., 295., 264., 170., 275., 310.,  64.,\n",
              "       128., 232., 129., 118., 263.,  77.,  48., 107., 140., 113.,  90.,\n",
              "       164., 180., 233.,  42.,  84., 172.,  63.,  48., 108., 156., 168.,\n",
              "        90.,  52., 200.,  87.,  90., 258., 136., 158.,  69.,  72., 171.,\n",
              "        95.,  72., 151., 168.,  60., 122.,  52., 187., 102., 214., 248.,\n",
              "       181., 110., 140., 202., 101., 222., 281.,  61.,  89.,  91., 186.,\n",
              "       220., 237., 233.,  68., 190.,  96.,  72., 153.,  98.,  37.,  63.,\n",
              "       184.])"
            ]
          },
          "metadata": {},
          "execution_count": 653
        }
      ]
    },
    {
      "cell_type": "code",
      "source": [
        "y_sk_test.shape"
      ],
      "metadata": {
        "colab": {
          "base_uri": "https://localhost:8080/"
        },
        "id": "VuNOOkwC2LAL",
        "outputId": "6c675f33-32de-4d8e-d841-ce18f01362ba"
      },
      "execution_count": 654,
      "outputs": [
        {
          "output_type": "execute_result",
          "data": {
            "text/plain": [
              "(89,)"
            ]
          },
          "metadata": {},
          "execution_count": 654
        }
      ]
    },
    {
      "cell_type": "markdown",
      "source": [
        "학습용 데이터 자체에서도 절반 정도이므로,\n",
        "예측치는 학습한대로 결과가 나왔다는 생각이 든다."
      ],
      "metadata": {
        "id": "EM4Li7cy5z7h"
      }
    },
    {
      "cell_type": "code",
      "source": [
        "model_sk.score(X_sk_train, y_sk_train)"
      ],
      "metadata": {
        "colab": {
          "base_uri": "https://localhost:8080/"
        },
        "id": "eueypAfJ5KgH",
        "outputId": "3a42b46c-3921-4935-8870-e1917b11c74e"
      },
      "execution_count": 655,
      "outputs": [
        {
          "output_type": "execute_result",
          "data": {
            "text/plain": [
              "0.5279198995709651"
            ]
          },
          "metadata": {},
          "execution_count": 655
        }
      ]
    },
    {
      "cell_type": "code",
      "source": [
        "model_sk.score(X_sk_test, y_sk_pred)"
      ],
      "metadata": {
        "colab": {
          "base_uri": "https://localhost:8080/"
        },
        "id": "DYbq4j7D19rG",
        "outputId": "5dccab6e-f2eb-40fe-9149-31b8bd54a6e6"
      },
      "execution_count": 656,
      "outputs": [
        {
          "output_type": "execute_result",
          "data": {
            "text/plain": [
              "1.0"
            ]
          },
          "metadata": {},
          "execution_count": 656
        }
      ]
    },
    {
      "cell_type": "code",
      "source": [
        "model_sk.score(X_sk_test, y_sk_test)"
      ],
      "metadata": {
        "colab": {
          "base_uri": "https://localhost:8080/"
        },
        "id": "YoH0p21KxFkW",
        "outputId": "4b51fd76-910d-47c0-a8c3-a3cfec67aa66"
      },
      "execution_count": 657,
      "outputs": [
        {
          "output_type": "execute_result",
          "data": {
            "text/plain": [
              "0.452606602161738"
            ]
          },
          "metadata": {},
          "execution_count": 657
        }
      ]
    },
    {
      "cell_type": "markdown",
      "source": [
        "###### RMSE (Root Mean Squared Error)"
      ],
      "metadata": {
        "id": "JzWSkAGo79Qu"
      }
    },
    {
      "cell_type": "code",
      "source": [
        "from sklearn.metrics import mean_squared_error\n",
        "\n",
        "mse = mean_squared_error(y_sk_test, y_sk_pred)\n",
        "mse"
      ],
      "metadata": {
        "colab": {
          "base_uri": "https://localhost:8080/"
        },
        "id": "ja4CQ-iR1K_4",
        "outputId": "fd278a13-64f5-4c3b-a33e-e4e3330c27f3"
      },
      "execution_count": 658,
      "outputs": [
        {
          "output_type": "execute_result",
          "data": {
            "text/plain": [
              "2900.1732878832318"
            ]
          },
          "metadata": {},
          "execution_count": 658
        }
      ]
    },
    {
      "cell_type": "code",
      "source": [
        "import matplotlib.pyplot as plt\n",
        "plt.scatter(X_sk_test[:, 0], y_sk_test, label=\"true\")\n",
        "plt.scatter(X_sk_test[:, 0], y_sk_pred, label=\"pred\")\n",
        "plt.legend()\n",
        "plt.show()"
      ],
      "metadata": {
        "colab": {
          "base_uri": "https://localhost:8080/",
          "height": 265
        },
        "id": "fPMpSvgT1Y6M",
        "outputId": "1bd7b877-0205-4067-af3d-44ebc0d04778"
      },
      "execution_count": 659,
      "outputs": [
        {
          "output_type": "display_data",
          "data": {
            "text/plain": [
              "<Figure size 432x288 with 1 Axes>"
            ],
            "image/png": "[encoded data removed]"
          },
          "metadata": {
            "needs_background": "light"
          }
        }
      ]
    },
    {
      "cell_type": "code",
      "source": [
        "X_sk_test[:, 0]"
      ],
      "metadata": {
        "colab": {
          "base_uri": "https://localhost:8080/"
        },
        "id": "_l5YAM6mAscm",
        "outputId": "b874d5d1-b525-4139-ec8d-bfba475b859c"
      },
      "execution_count": 660,
      "outputs": [
        {
          "output_type": "execute_result",
          "data": {
            "text/plain": [
              "array([ 0.04534098,  0.09256398,  0.06350368,  0.09619652,  0.01264814,\n",
              "        0.0090156 , -0.00914709, -0.02367725, -0.09269548, -0.06000263,\n",
              "       -0.04183994,  0.00538306, -0.08906294,  0.01991321, -0.01277963,\n",
              "       -0.03457486,  0.04170844,  0.06350368, -0.03094232,  0.04897352,\n",
              "       -0.07090025,  0.04897352, -0.04183994,  0.05987114, -0.06000263,\n",
              "        0.04170844,  0.03081083,  0.03807591, -0.05637009,  0.01628068,\n",
              "        0.02717829, -0.10359309, -0.00188202,  0.02717829,  0.09619652,\n",
              "       -0.07816532, -0.00914709, -0.00188202,  0.06713621,  0.01991321,\n",
              "       -0.00188202,  0.06713621,  0.04170844,  0.11072668,  0.04170844,\n",
              "       -0.01641217, -0.09632802,  0.03081083, -0.02004471, -0.06000263,\n",
              "        0.00538306, -0.09632802,  0.02717829,  0.01991321, -0.05273755,\n",
              "       -0.02730979, -0.02367725,  0.03807591, -0.02730979, -0.0382074 ,\n",
              "       -0.02367725, -0.04183994, -0.06000263,  0.01628068, -0.04183994,\n",
              "        0.07440129, -0.05273755,  0.05260606, -0.10722563, -0.06726771,\n",
              "       -0.07453279, -0.00188202,  0.05987114, -0.06000263,  0.06713621,\n",
              "        0.0090156 , -0.02730979, -0.04547248,  0.04534098,  0.01264814,\n",
              "       -0.0854304 , -0.05637009, -0.04910502, -0.02730979,  0.00175052,\n",
              "        0.01264814, -0.02730979, -0.02367725, -0.06363517])"
            ]
          },
          "metadata": {},
          "execution_count": 660
        }
      ]
    },
    {
      "cell_type": "markdown",
      "source": [
        "---\n",
        "### 회고\n",
        "---"
      ],
      "metadata": {
        "id": "rnBJFM5G8Vtm"
      }
    },
    {
      "cell_type": "markdown",
      "source": [
        "    10개의 특성값으로,\n",
        "    1년 이후 질병 진행에 대한 양적 측정값을 예측하는 문제였습니다.\n",
        "    선형회귀 문제였지만, 1차원 방정식을 보고 쉽게 생각했다가, 이러한 형태로 나와서 당황하였습니다.\n",
        "\n",
        "    앞에서 자체적으로 만들었던 함수로 돌려보고,\n",
        "     아무래도 기본적인 모델이라서 크게 신뢰는 하지 않았고,\n",
        "    사이킷런은 뭔가 제대로 되어 있을 것이라고 추측하였으나,\n",
        "    돌려본 결과가 너무 비슷하게 나와서 놀랐습니다.\n",
        "\n",
        "    혹시, 데이터나 함수가 영향을 주어서,\n",
        "    같게 나오지는 의심하여,\n",
        "    완전히 분리하여 돌려보았지만,\n",
        "    결과가 유사하게 나왔습니다\n",
        "    "
      ],
      "metadata": {
        "id": "1M2xyxjx-PYW"
      }
    }
  ]
}