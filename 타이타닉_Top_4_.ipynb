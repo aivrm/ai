{
  "nbformat": 4,
  "nbformat_minor": 0,
  "metadata": {
    "colab": {
      "name": "타이타닉 Top 4%",
      "provenance": [],
      "collapsed_sections": [],
      "history_visible": true,
      "authorship_tag": "ABX9TyOdUsOk3snnC03lTWDFzNDr",
      "include_colab_link": true
    },
    "kernelspec": {
      "name": "python3",
      "display_name": "Python 3"
    },
    "language_info": {
      "name": "python"
    }
  },
  "cells": [
    {
      "cell_type": "markdown",
      "metadata": {
        "id": "view-in-github",
        "colab_type": "text"
      },
      "source": [
        "<a href=\"https://colab.research.google.com/github/aivrm/ai/blob/main/%ED%83%80%EC%9D%B4%ED%83%80%EB%8B%89_Top_4_.ipynb\" target=\"_parent\"><img src=\"https://colab.research.google.com/assets/colab-badge.svg\" alt=\"Open In Colab\"/></a>"
      ]
    },
    {
      "cell_type": "markdown",
      "source": [
        "# 앙상블 모델링으로 타이타닉 톱 4%\n",
        "\n",
        "https://www.kaggle.com/code/yassineghouzam/titanic-top-4-with-ensemble-modeling\n"
      ],
      "metadata": {
        "id": "7XwEo1EKghKH"
      }
    },
    {
      "cell_type": "markdown",
      "source": [
        "---\n",
        "* 1 소개\n",
        "\n",
        "* 2 로드 하고 데이터 체크\n",
        "        2.1 데이터 로드\n",
        "        2.2 Outlier 감지\n",
        "        2.3 joining train 과 test 셋\n",
        "        2.4 널과 없는(잘못된) 값 체크\n",
        "\n",
        "* 3 특성 분석\n",
        "        3.1 숫자 값\n",
        "        3.2 범주 값\n",
        "\n",
        "* 4 없는 값 채우기\n",
        "        4.1 나이\n",
        "\n",
        "* 5 특성 엔지니어링\n",
        "        5.1 이름/타이틀\n",
        "        5.2 가족 사이즈\n",
        "        5.3 객실\n",
        "        5.4 티켓\n",
        "\n",
        "* 6 모델링\n",
        "        6.1 단순 모델링\n",
        "            6.1.1 상호 입증 모델\n",
        "            6.1.2 최고의 모델을 위한 하이퍼파라미터 튜닝\n",
        "            6.1.3 학습곡선 그리기\n",
        "            6.1.4 트리 기반 분류기의 특성 중요도\n",
        "\n",
        "        6.2 앙상블 모델\n",
        "            6.2.1 결합 모델\n",
        "\n",
        "        6.3 예측\n",
        "            6.3.1 예측과 결과 제출\n",
        "---\n"
      ],
      "metadata": {
        "id": "9yBeSiidhVeT"
      }
    },
    {
      "cell_type": "markdown",
      "source": [
        "---\n",
        "## 1. 소개\n",
        "\n",
        "* 특성 분석\n",
        "* 특성 엔지니어링\n",
        "* 모델링\n",
        "---"
      ],
      "metadata": {
        "id": "E27sfXG2msNE"
      }
    },
    {
      "cell_type": "code",
      "source": [
        "import pandas as pd\n",
        "import numpy as np\n",
        "import matplotlib.pyplot as plt\n",
        "import seaborn as sns\n",
        "\n",
        "from collections import Counter\n",
        "\n",
        "from sklearn.ensemble import RandomForestClassifier, AdaBoostClassifier, GradientBoostingClassifier, ExtraTreesClassifier, VotingClassifier\n",
        "from sklearn.discriminant_analysis import LinearDiscriminantAnalysis\n",
        "from sklearn.linear_model import LogisticRegression\n",
        "from sklearn.neighbors import KNeighborsClassifier\n",
        "from sklearn.tree import DecisionTreeClassifier\n",
        "from sklearn.neural_network import MLPClassifier\n",
        "from sklearn.svm import SVC\n",
        "from sklearn.model_selection import GridSearchCV, cross_val_score, StratifiedKFold, learning_curve\n",
        "\n",
        "sns.set(style='white', context='notebook', palette='deep')"
      ],
      "metadata": {
        "id": "0WT44I2_nfuN"
      },
      "execution_count": 2,
      "outputs": []
    },
    {
      "cell_type": "markdown",
      "source": [
        "---\n",
        "## 2. 데이터 로드 와 체크\n",
        "---"
      ],
      "metadata": {
        "id": "3XVRPK_SnE9P"
      }
    },
    {
      "cell_type": "markdown",
      "source": [
        "### 2.1 데이터 로드"
      ],
      "metadata": {
        "id": "HfVOmdblnS_J"
      }
    },
    {
      "cell_type": "markdown",
      "source": [
        "### 2.2 Outlier 감지"
      ],
      "metadata": {
        "id": "IOUZ_yRyorHY"
      }
    },
    {
      "cell_type": "markdown",
      "source": [
        "### 2.3 joining 훈련과 테스트 셋"
      ],
      "metadata": {
        "id": "l7NmTIKto0Ci"
      }
    },
    {
      "cell_type": "markdown",
      "source": [
        "### 2.4 널 과 빈 값 검사"
      ],
      "metadata": {
        "id": "L95m1ueOo7aJ"
      }
    },
    {
      "cell_type": "markdown",
      "source": [
        "---\n",
        "## 3. 특성 분석\n",
        "---"
      ],
      "metadata": {
        "id": "Q6L7sHpapEfW"
      }
    },
    {
      "cell_type": "markdown",
      "source": [
        "### 3.1 숫자값"
      ],
      "metadata": {
        "id": "fIKrYBzqpIrh"
      }
    },
    {
      "cell_type": "markdown",
      "source": [
        "### 3.2 범주값"
      ],
      "metadata": {
        "id": "2M64A-HnpTbD"
      }
    },
    {
      "cell_type": "markdown",
      "source": [
        "---\n",
        "## 4. 빈 값 채우기\n",
        "---"
      ],
      "metadata": {
        "id": "cCPEBm26pXgd"
      }
    },
    {
      "cell_type": "markdown",
      "source": [
        "### 4.1 나이"
      ],
      "metadata": {
        "id": "rU6mC1kZpeGk"
      }
    },
    {
      "cell_type": "markdown",
      "source": [
        "---\n",
        "## 5. 특성 엔지니어링\n",
        "---"
      ],
      "metadata": {
        "id": "--Nd4MH-pheq"
      }
    },
    {
      "cell_type": "markdown",
      "source": [
        "### 5.1 이름/타이틀"
      ],
      "metadata": {
        "id": "TW1iw4DIqdTW"
      }
    },
    {
      "cell_type": "markdown",
      "source": [
        "### 5.2 가족 사이즈"
      ],
      "metadata": {
        "id": "g2dtcQ6YqhlK"
      }
    },
    {
      "cell_type": "markdown",
      "source": [
        "### 5.3 객실"
      ],
      "metadata": {
        "id": "e40jkb_iqlfG"
      }
    },
    {
      "cell_type": "markdown",
      "source": [
        "### 5.4 티켓"
      ],
      "metadata": {
        "id": "O-R2_r39qoFb"
      }
    },
    {
      "cell_type": "markdown",
      "source": [
        "---\n",
        "## 6. 모델링\n",
        "---"
      ],
      "metadata": {
        "id": "htgH8QcwqreH"
      }
    },
    {
      "cell_type": "markdown",
      "source": [
        "### 6.1 단순 모델링\n",
        "\n",
        "\n",
        "\n"
      ],
      "metadata": {
        "id": "9__abFpFqwvQ"
      }
    },
    {
      "cell_type": "markdown",
      "source": [
        "#### 6.1.2 최고의 모델을 위한 하이퍼마라미터 튜닝"
      ],
      "metadata": {
        "id": "DYaTXSEGrEnd"
      }
    },
    {
      "cell_type": "markdown",
      "source": [
        "#### 6.1.3 학습 곡선 그리기"
      ],
      "metadata": {
        "id": "kwEacxE3rIyH"
      }
    },
    {
      "cell_type": "markdown",
      "source": [
        "#### 6.1.4 트리 기반 분류기의 특성 중요도"
      ],
      "metadata": {
        "id": "lLZ4oc5SrJlE"
      }
    },
    {
      "cell_type": "code",
      "source": [
        ""
      ],
      "metadata": {
        "id": "Cxvfr5BEnSd7"
      },
      "execution_count": null,
      "outputs": []
    },
    {
      "cell_type": "markdown",
      "source": [
        "### 6.2 앙상블 모델링"
      ],
      "metadata": {
        "id": "aiWAaYH0rm4-"
      }
    },
    {
      "cell_type": "code",
      "execution_count": null,
      "metadata": {
        "id": "3iNQXvSTggdo"
      },
      "outputs": [],
      "source": [
        ""
      ]
    },
    {
      "cell_type": "markdown",
      "source": [
        "#### 6.2.1 모델 결합"
      ],
      "metadata": {
        "id": "c9vZHiZlrrX8"
      }
    },
    {
      "cell_type": "markdown",
      "source": [
        "### 6.3 예측"
      ],
      "metadata": {
        "id": "Zzg_w8y-ruRL"
      }
    },
    {
      "cell_type": "markdown",
      "source": [
        "#### 6.3.1 예측 과 결과 제출"
      ],
      "metadata": {
        "id": "tVN-9ebHr1T5"
      }
    },
    {
      "cell_type": "code",
      "source": [
        ""
      ],
      "metadata": {
        "id": "PKc1lAibr38g"
      },
      "execution_count": null,
      "outputs": []
    }
  ]
}