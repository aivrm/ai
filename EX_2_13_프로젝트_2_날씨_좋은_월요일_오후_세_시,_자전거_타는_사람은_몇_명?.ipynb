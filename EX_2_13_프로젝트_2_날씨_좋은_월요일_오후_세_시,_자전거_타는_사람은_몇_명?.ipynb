{
  "nbformat": 4,
  "nbformat_minor": 0,
  "metadata": {
    "colab": {
      "name": "EX 2-13. 프로젝트 2 : 날씨 좋은 월요일 오후 세 시, 자전거 타는 사람은 몇 명?.ipynb",
      "provenance": [],
      "collapsed_sections": [],
      "authorship_tag": "ABX9TyPIgUqCZKXb0aTdS4/5YUwJ",
      "include_colab_link": true
    },
    "kernelspec": {
      "name": "python3",
      "display_name": "Python 3"
    },
    "language_info": {
      "name": "python"
    }
  },
  "cells": [
    {
      "cell_type": "markdown",
      "metadata": {
        "id": "view-in-github",
        "colab_type": "text"
      },
      "source": [
        "<a href=\"https://colab.research.google.com/github/aivrm/ai/blob/main/EX_2_13_%ED%94%84%EB%A1%9C%EC%A0%9D%ED%8A%B8_2_%EB%82%A0%EC%94%A8_%EC%A2%8B%EC%9D%80_%EC%9B%94%EC%9A%94%EC%9D%BC_%EC%98%A4%ED%9B%84_%EC%84%B8_%EC%8B%9C%2C_%EC%9E%90%EC%A0%84%EA%B1%B0_%ED%83%80%EB%8A%94_%EC%82%AC%EB%9E%8C%EC%9D%80_%EB%AA%87_%EB%AA%85%3F.ipynb\" target=\"_parent\"><img src=\"https://colab.research.google.com/assets/colab-badge.svg\" alt=\"Open In Colab\"/></a>"
      ]
    },
    {
      "cell_type": "markdown",
      "source": [
        "# EX 2-13. 프로젝트 2 : 날씨 좋은 월요일 오후 세 시, 자전거 타는 사람은 몇 명?"
      ],
      "metadata": {
        "id": "x3G3dCwmH_sV"
      }
    },
    {
      "cell_type": "markdown",
      "source": [
        ""
      ],
      "metadata": {
        "id": "MX3YLARpIZHf"
      }
    },
    {
      "cell_type": "markdown",
      "source": [
        "---\n",
        "### (1) 데이터 가져오기\n",
        "* 터미널에서 ~/data/data/bike-sharing-demand 경로에 train.csv 데이터를 train 변수로 가져 옵니다.\n",
        "* 여기에서 데이터를 상세히 확인할 수 있습니다.\n",
        "---"
      ],
      "metadata": {
        "id": "AJsqJVMfLZfI"
      }
    },
    {
      "cell_type": "markdown",
      "source": [
        "---\n",
        "● Bike Sharing Demand\n",
        "\n",
        "* Forecast use of a city bikeshare system\n",
        "\n",
        "https://www.kaggle.com/c/bike-sharing-demand/data\n",
        "\n",
        "---"
      ],
      "metadata": {
        "id": "QGpnQpKyLrSh"
      }
    },
    {
      "cell_type": "code",
      "execution_count": null,
      "metadata": {
        "id": "wbCz8wRegLU5"
      },
      "outputs": [],
      "source": [
        "from sklearn.datasets import load_diabetes"
      ]
    },
    {
      "cell_type": "code",
      "source": [
        "diabetes = load_diabetes()"
      ],
      "metadata": {
        "id": "xzegHIowhJ3k"
      },
      "execution_count": null,
      "outputs": []
    },
    {
      "cell_type": "code",
      "source": [
        "# 내용 설명\n",
        "print(diabetes.DESCR)"
      ],
      "metadata": {
        "colab": {
          "base_uri": "https://localhost:8080/"
        },
        "id": "sAO8SrBWgrQY",
        "outputId": "82dbc225-ffdf-4303-ecc1-75cebcfb9041"
      },
      "execution_count": null,
      "outputs": [
        {
          "output_type": "stream",
          "name": "stdout",
          "text": [
            ".. _diabetes_dataset:\n",
            "\n",
            "Diabetes dataset\n",
            "----------------\n",
            "\n",
            "Ten baseline variables, age, sex, body mass index, average blood\n",
            "pressure, and six blood serum measurements were obtained for each of n =\n",
            "442 diabetes patients, as well as the response of interest, a\n",
            "quantitative measure of disease progression one year after baseline.\n",
            "\n",
            "**Data Set Characteristics:**\n",
            "\n",
            "  :Number of Instances: 442\n",
            "\n",
            "  :Number of Attributes: First 10 columns are numeric predictive values\n",
            "\n",
            "  :Target: Column 11 is a quantitative measure of disease progression one year after baseline\n",
            "\n",
            "  :Attribute Information:\n",
            "      - age     age in years\n",
            "      - sex\n",
            "      - bmi     body mass index\n",
            "      - bp      average blood pressure\n",
            "      - s1      tc, total serum cholesterol\n",
            "      - s2      ldl, low-density lipoproteins\n",
            "      - s3      hdl, high-density lipoproteins\n",
            "      - s4      tch, total cholesterol / HDL\n",
            "      - s5      ltg, possibly log of serum triglycerides level\n",
            "      - s6      glu, blood sugar level\n",
            "\n",
            "Note: Each of these 10 feature variables have been mean centered and scaled by the standard deviation times `n_samples` (i.e. the sum of squares of each column totals 1).\n",
            "\n",
            "Source URL:\n",
            "https://www4.stat.ncsu.edu/~boos/var.select/diabetes.html\n",
            "\n",
            "For more information see:\n",
            "Bradley Efron, Trevor Hastie, Iain Johnstone and Robert Tibshirani (2004) \"Least Angle Regression,\" Annals of Statistics (with discussion), 407-499.\n",
            "(https://web.stanford.edu/~hastie/Papers/LARS/LeastAngle_2002.pdf)\n"
          ]
        }
      ]
    },
    {
      "cell_type": "code",
      "source": [
        "# 데이터셋을 대충 보기\n",
        "diabetes"
      ],
      "metadata": {
        "colab": {
          "base_uri": "https://localhost:8080/"
        },
        "id": "ZV4JTXpXgg4z",
        "outputId": "c056cff7-5e32-44a3-86e9-ac2bdd0a3e40"
      },
      "execution_count": null,
      "outputs": [
        {
          "output_type": "execute_result",
          "data": {
            "text/plain": [
              "{'DESCR': '.. _diabetes_dataset:\\n\\nDiabetes dataset\\n----------------\\n\\nTen baseline variables, age, sex, body mass index, average blood\\npressure, and six blood serum measurements were obtained for each of n =\\n442 diabetes patients, as well as the response of interest, a\\nquantitative measure of disease progression one year after baseline.\\n\\n**Data Set Characteristics:**\\n\\n  :Number of Instances: 442\\n\\n  :Number of Attributes: First 10 columns are numeric predictive values\\n\\n  :Target: Column 11 is a quantitative measure of disease progression one year after baseline\\n\\n  :Attribute Information:\\n      - age     age in years\\n      - sex\\n      - bmi     body mass index\\n      - bp      average blood pressure\\n      - s1      tc, total serum cholesterol\\n      - s2      ldl, low-density lipoproteins\\n      - s3      hdl, high-density lipoproteins\\n      - s4      tch, total cholesterol / HDL\\n      - s5      ltg, possibly log of serum triglycerides level\\n      - s6      glu, blood sugar level\\n\\nNote: Each of these 10 feature variables have been mean centered and scaled by the standard deviation times `n_samples` (i.e. the sum of squares of each column totals 1).\\n\\nSource URL:\\nhttps://www4.stat.ncsu.edu/~boos/var.select/diabetes.html\\n\\nFor more information see:\\nBradley Efron, Trevor Hastie, Iain Johnstone and Robert Tibshirani (2004) \"Least Angle Regression,\" Annals of Statistics (with discussion), 407-499.\\n(https://web.stanford.edu/~hastie/Papers/LARS/LeastAngle_2002.pdf)',\n",
              " 'data': array([[ 0.03807591,  0.05068012,  0.06169621, ..., -0.00259226,\n",
              "          0.01990842, -0.01764613],\n",
              "        [-0.00188202, -0.04464164, -0.05147406, ..., -0.03949338,\n",
              "         -0.06832974, -0.09220405],\n",
              "        [ 0.08529891,  0.05068012,  0.04445121, ..., -0.00259226,\n",
              "          0.00286377, -0.02593034],\n",
              "        ...,\n",
              "        [ 0.04170844,  0.05068012, -0.01590626, ..., -0.01107952,\n",
              "         -0.04687948,  0.01549073],\n",
              "        [-0.04547248, -0.04464164,  0.03906215, ...,  0.02655962,\n",
              "          0.04452837, -0.02593034],\n",
              "        [-0.04547248, -0.04464164, -0.0730303 , ..., -0.03949338,\n",
              "         -0.00421986,  0.00306441]]),\n",
              " 'data_filename': 'diabetes_data.csv.gz',\n",
              " 'data_module': 'sklearn.datasets.data',\n",
              " 'feature_names': ['age',\n",
              "  'sex',\n",
              "  'bmi',\n",
              "  'bp',\n",
              "  's1',\n",
              "  's2',\n",
              "  's3',\n",
              "  's4',\n",
              "  's5',\n",
              "  's6'],\n",
              " 'frame': None,\n",
              " 'target': array([151.,  75., 141., 206., 135.,  97., 138.,  63., 110., 310., 101.,\n",
              "         69., 179., 185., 118., 171., 166., 144.,  97., 168.,  68.,  49.,\n",
              "         68., 245., 184., 202., 137.,  85., 131., 283., 129.,  59., 341.,\n",
              "         87.,  65., 102., 265., 276., 252.,  90., 100.,  55.,  61.,  92.,\n",
              "        259.,  53., 190., 142.,  75., 142., 155., 225.,  59., 104., 182.,\n",
              "        128.,  52.,  37., 170., 170.,  61., 144.,  52., 128.,  71., 163.,\n",
              "        150.,  97., 160., 178.,  48., 270., 202., 111.,  85.,  42., 170.,\n",
              "        200., 252., 113., 143.,  51.,  52., 210.,  65., 141.,  55., 134.,\n",
              "         42., 111.,  98., 164.,  48.,  96.,  90., 162., 150., 279.,  92.,\n",
              "         83., 128., 102., 302., 198.,  95.,  53., 134., 144., 232.,  81.,\n",
              "        104.,  59., 246., 297., 258., 229., 275., 281., 179., 200., 200.,\n",
              "        173., 180.,  84., 121., 161.,  99., 109., 115., 268., 274., 158.,\n",
              "        107.,  83., 103., 272.,  85., 280., 336., 281., 118., 317., 235.,\n",
              "         60., 174., 259., 178., 128.,  96., 126., 288.,  88., 292.,  71.,\n",
              "        197., 186.,  25.,  84.,  96., 195.,  53., 217., 172., 131., 214.,\n",
              "         59.,  70., 220., 268., 152.,  47.,  74., 295., 101., 151., 127.,\n",
              "        237., 225.,  81., 151., 107.,  64., 138., 185., 265., 101., 137.,\n",
              "        143., 141.,  79., 292., 178.,  91., 116.,  86., 122.,  72., 129.,\n",
              "        142.,  90., 158.,  39., 196., 222., 277.,  99., 196., 202., 155.,\n",
              "         77., 191.,  70.,  73.,  49.,  65., 263., 248., 296., 214., 185.,\n",
              "         78.,  93., 252., 150.,  77., 208.,  77., 108., 160.,  53., 220.,\n",
              "        154., 259.,  90., 246., 124.,  67.,  72., 257., 262., 275., 177.,\n",
              "         71.,  47., 187., 125.,  78.,  51., 258., 215., 303., 243.,  91.,\n",
              "        150., 310., 153., 346.,  63.,  89.,  50.,  39., 103., 308., 116.,\n",
              "        145.,  74.,  45., 115., 264.,  87., 202., 127., 182., 241.,  66.,\n",
              "         94., 283.,  64., 102., 200., 265.,  94., 230., 181., 156., 233.,\n",
              "         60., 219.,  80.,  68., 332., 248.,  84., 200.,  55.,  85.,  89.,\n",
              "         31., 129.,  83., 275.,  65., 198., 236., 253., 124.,  44., 172.,\n",
              "        114., 142., 109., 180., 144., 163., 147.,  97., 220., 190., 109.,\n",
              "        191., 122., 230., 242., 248., 249., 192., 131., 237.,  78., 135.,\n",
              "        244., 199., 270., 164.,  72.,  96., 306.,  91., 214.,  95., 216.,\n",
              "        263., 178., 113., 200., 139., 139.,  88., 148.,  88., 243.,  71.,\n",
              "         77., 109., 272.,  60.,  54., 221.,  90., 311., 281., 182., 321.,\n",
              "         58., 262., 206., 233., 242., 123., 167.,  63., 197.,  71., 168.,\n",
              "        140., 217., 121., 235., 245.,  40.,  52., 104., 132.,  88.,  69.,\n",
              "        219.,  72., 201., 110.,  51., 277.,  63., 118.,  69., 273., 258.,\n",
              "         43., 198., 242., 232., 175.,  93., 168., 275., 293., 281.,  72.,\n",
              "        140., 189., 181., 209., 136., 261., 113., 131., 174., 257.,  55.,\n",
              "         84.,  42., 146., 212., 233.,  91., 111., 152., 120.,  67., 310.,\n",
              "         94., 183.,  66., 173.,  72.,  49.,  64.,  48., 178., 104., 132.,\n",
              "        220.,  57.]),\n",
              " 'target_filename': 'diabetes_target.csv.gz'}"
            ]
          },
          "metadata": {},
          "execution_count": 511
        }
      ]
    },
    {
      "cell_type": "code",
      "source": [
        "dir(diabetes)"
      ],
      "metadata": {
        "colab": {
          "base_uri": "https://localhost:8080/"
        },
        "id": "8urKs9j-hW1x",
        "outputId": "dbbbfa99-8e01-4dc3-d2e8-06d337affe12"
      },
      "execution_count": null,
      "outputs": [
        {
          "output_type": "execute_result",
          "data": {
            "text/plain": [
              "['DESCR',\n",
              " 'data',\n",
              " 'data_filename',\n",
              " 'data_module',\n",
              " 'feature_names',\n",
              " 'frame',\n",
              " 'target',\n",
              " 'target_filename']"
            ]
          },
          "metadata": {},
          "execution_count": 512
        }
      ]
    },
    {
      "cell_type": "code",
      "source": [
        "print(dir(diabetes))"
      ],
      "metadata": {
        "colab": {
          "base_uri": "https://localhost:8080/"
        },
        "id": "lmX4leD6kB6g",
        "outputId": "5bf3040a-533f-4f6f-b183-959cddae5b04"
      },
      "execution_count": null,
      "outputs": [
        {
          "output_type": "stream",
          "name": "stdout",
          "text": [
            "['DESCR', 'data', 'data_filename', 'data_module', 'feature_names', 'frame', 'target', 'target_filename']\n"
          ]
        }
      ]
    },
    {
      "cell_type": "code",
      "source": [
        "diabetes.keys()"
      ],
      "metadata": {
        "colab": {
          "base_uri": "https://localhost:8080/"
        },
        "id": "2r8IFKIvgkVW",
        "outputId": "1d14b78f-0ccd-49ad-d38b-3518a168c9de"
      },
      "execution_count": null,
      "outputs": [
        {
          "output_type": "execute_result",
          "data": {
            "text/plain": [
              "dict_keys(['data', 'target', 'frame', 'DESCR', 'feature_names', 'data_filename', 'target_filename', 'data_module'])"
            ]
          },
          "metadata": {},
          "execution_count": 514
        }
      ]
    },
    {
      "cell_type": "code",
      "source": [
        "diabetes.feature_names"
      ],
      "metadata": {
        "colab": {
          "base_uri": "https://localhost:8080/"
        },
        "id": "q7zGmHAIkGd2",
        "outputId": "845493ee-ff7b-42c9-f00e-46d4aee6c804"
      },
      "execution_count": null,
      "outputs": [
        {
          "output_type": "execute_result",
          "data": {
            "text/plain": [
              "['age', 'sex', 'bmi', 'bp', 's1', 's2', 's3', 's4', 's5', 's6']"
            ]
          },
          "metadata": {},
          "execution_count": 515
        }
      ]
    },
    {
      "cell_type": "code",
      "source": [
        "for i, feature_name in enumerate(diabetes.feature_names):\n",
        "    print('feature ', i+1, feature_name)"
      ],
      "metadata": {
        "colab": {
          "base_uri": "https://localhost:8080/"
        },
        "id": "DVQY4EqOoCtu",
        "outputId": "5812a643-07dc-4377-c8a6-282fb7ddbddc"
      },
      "execution_count": null,
      "outputs": [
        {
          "output_type": "stream",
          "name": "stdout",
          "text": [
            "feature  1 age\n",
            "feature  2 sex\n",
            "feature  3 bmi\n",
            "feature  4 bp\n",
            "feature  5 s1\n",
            "feature  6 s2\n",
            "feature  7 s3\n",
            "feature  8 s4\n",
            "feature  9 s5\n",
            "feature  10 s6\n"
          ]
        }
      ]
    },
    {
      "cell_type": "code",
      "source": [
        "'''\n",
        "440명의 10가지 속성\n",
        "      - age     (나이)\n",
        "      - sex     (성별)\n",
        "      - bmi     body mass index (BMI: 체질량지수)\n",
        "      - bp      average blood pressure (평균 혈압)\n",
        "      - s1      tc, total serum cholesterol (혈청 콜레스테롤)\n",
        "      - s2      ldl, low-density lipoproteins (저밀도 지단백질)\n",
        "      - s3      hdl, high-density lipoproteins (고밀도 지단백질)\n",
        "      - s4      tch, total cholesterol / HDL (총 콜레스테롤)\n",
        "      - s5      ltg, possibly log of serum triglycerides level (혈청 트리글리세리드 수준의 가능한 로그)\n",
        "      - s6      glu, blood sugar level (혈당 수치)\n",
        "'''"
      ],
      "metadata": {
        "colab": {
          "base_uri": "https://localhost:8080/",
          "height": 109
        },
        "id": "B7OR1U-SicN0",
        "outputId": "82224d50-9f30-4530-815c-ab83deb18099"
      },
      "execution_count": null,
      "outputs": [
        {
          "output_type": "execute_result",
          "data": {
            "text/plain": [
              "'\\n440명의 10가지 속성\\n      - age     (나이)\\n      - sex     (성별)\\n      - bmi     body mass index (BMI: 체질량지수)\\n      - bp      average blood pressure (평균 혈압)\\n      - s1      tc, total serum cholesterol (혈청 콜레스테롤)\\n      - s2      ldl, low-density lipoproteins (저밀도 지단백질)\\n      - s3      hdl, high-density lipoproteins (고밀도 지단백질)\\n      - s4      tch, total cholesterol / HDL (총 콜레스테롤)\\n      - s5      ltg, possibly log of serum triglycerides level (혈청 트리글리세리드 수준의 가능한 로그)\\n      - s6      glu, blood sugar level (혈당 수치)\\n'"
            ],
            "application/vnd.google.colaboratory.intrinsic+json": {
              "type": "string"
            }
          },
          "metadata": {},
          "execution_count": 517
        }
      ]
    },
    {
      "cell_type": "code",
      "source": [
        "diabetes.target"
      ],
      "metadata": {
        "colab": {
          "base_uri": "https://localhost:8080/"
        },
        "id": "asLuhXumkiUb",
        "outputId": "30b224e8-481e-4c0c-c6a3-4899186f9984"
      },
      "execution_count": null,
      "outputs": [
        {
          "output_type": "execute_result",
          "data": {
            "text/plain": [
              "array([151.,  75., 141., 206., 135.,  97., 138.,  63., 110., 310., 101.,\n",
              "        69., 179., 185., 118., 171., 166., 144.,  97., 168.,  68.,  49.,\n",
              "        68., 245., 184., 202., 137.,  85., 131., 283., 129.,  59., 341.,\n",
              "        87.,  65., 102., 265., 276., 252.,  90., 100.,  55.,  61.,  92.,\n",
              "       259.,  53., 190., 142.,  75., 142., 155., 225.,  59., 104., 182.,\n",
              "       128.,  52.,  37., 170., 170.,  61., 144.,  52., 128.,  71., 163.,\n",
              "       150.,  97., 160., 178.,  48., 270., 202., 111.,  85.,  42., 170.,\n",
              "       200., 252., 113., 143.,  51.,  52., 210.,  65., 141.,  55., 134.,\n",
              "        42., 111.,  98., 164.,  48.,  96.,  90., 162., 150., 279.,  92.,\n",
              "        83., 128., 102., 302., 198.,  95.,  53., 134., 144., 232.,  81.,\n",
              "       104.,  59., 246., 297., 258., 229., 275., 281., 179., 200., 200.,\n",
              "       173., 180.,  84., 121., 161.,  99., 109., 115., 268., 274., 158.,\n",
              "       107.,  83., 103., 272.,  85., 280., 336., 281., 118., 317., 235.,\n",
              "        60., 174., 259., 178., 128.,  96., 126., 288.,  88., 292.,  71.,\n",
              "       197., 186.,  25.,  84.,  96., 195.,  53., 217., 172., 131., 214.,\n",
              "        59.,  70., 220., 268., 152.,  47.,  74., 295., 101., 151., 127.,\n",
              "       237., 225.,  81., 151., 107.,  64., 138., 185., 265., 101., 137.,\n",
              "       143., 141.,  79., 292., 178.,  91., 116.,  86., 122.,  72., 129.,\n",
              "       142.,  90., 158.,  39., 196., 222., 277.,  99., 196., 202., 155.,\n",
              "        77., 191.,  70.,  73.,  49.,  65., 263., 248., 296., 214., 185.,\n",
              "        78.,  93., 252., 150.,  77., 208.,  77., 108., 160.,  53., 220.,\n",
              "       154., 259.,  90., 246., 124.,  67.,  72., 257., 262., 275., 177.,\n",
              "        71.,  47., 187., 125.,  78.,  51., 258., 215., 303., 243.,  91.,\n",
              "       150., 310., 153., 346.,  63.,  89.,  50.,  39., 103., 308., 116.,\n",
              "       145.,  74.,  45., 115., 264.,  87., 202., 127., 182., 241.,  66.,\n",
              "        94., 283.,  64., 102., 200., 265.,  94., 230., 181., 156., 233.,\n",
              "        60., 219.,  80.,  68., 332., 248.,  84., 200.,  55.,  85.,  89.,\n",
              "        31., 129.,  83., 275.,  65., 198., 236., 253., 124.,  44., 172.,\n",
              "       114., 142., 109., 180., 144., 163., 147.,  97., 220., 190., 109.,\n",
              "       191., 122., 230., 242., 248., 249., 192., 131., 237.,  78., 135.,\n",
              "       244., 199., 270., 164.,  72.,  96., 306.,  91., 214.,  95., 216.,\n",
              "       263., 178., 113., 200., 139., 139.,  88., 148.,  88., 243.,  71.,\n",
              "        77., 109., 272.,  60.,  54., 221.,  90., 311., 281., 182., 321.,\n",
              "        58., 262., 206., 233., 242., 123., 167.,  63., 197.,  71., 168.,\n",
              "       140., 217., 121., 235., 245.,  40.,  52., 104., 132.,  88.,  69.,\n",
              "       219.,  72., 201., 110.,  51., 277.,  63., 118.,  69., 273., 258.,\n",
              "        43., 198., 242., 232., 175.,  93., 168., 275., 293., 281.,  72.,\n",
              "       140., 189., 181., 209., 136., 261., 113., 131., 174., 257.,  55.,\n",
              "        84.,  42., 146., 212., 233.,  91., 111., 152., 120.,  67., 310.,\n",
              "        94., 183.,  66., 173.,  72.,  49.,  64.,  48., 178., 104., 132.,\n",
              "       220.,  57.])"
            ]
          },
          "metadata": {},
          "execution_count": 518
        }
      ]
    },
    {
      "cell_type": "markdown",
      "source": [
        ""
      ],
      "metadata": {
        "id": "GpIrBgShn_K7"
      }
    },
    {
      "cell_type": "markdown",
      "source": [
        ""
      ],
      "metadata": {
        "id": "97HDdEuJn_lJ"
      }
    },
    {
      "cell_type": "code",
      "source": [
        "data = diabetes.data"
      ],
      "metadata": {
        "id": "c6SFBUkyk97l"
      },
      "execution_count": null,
      "outputs": []
    },
    {
      "cell_type": "code",
      "source": [
        "data[0]"
      ],
      "metadata": {
        "colab": {
          "base_uri": "https://localhost:8080/"
        },
        "id": "4HskHZdSlQyU",
        "outputId": "f18f1bfa-766f-455c-b697-82693851676a"
      },
      "execution_count": null,
      "outputs": [
        {
          "output_type": "execute_result",
          "data": {
            "text/plain": [
              "array([ 0.03807591,  0.05068012,  0.06169621,  0.02187235, -0.0442235 ,\n",
              "       -0.03482076, -0.04340085, -0.00259226,  0.01990842, -0.01764613])"
            ]
          },
          "metadata": {},
          "execution_count": 520
        }
      ]
    },
    {
      "cell_type": "markdown",
      "source": [
        "---\n",
        "### (2) datetime 컬럼을 datetime 자료형으로 변환하고 연, 월, 일, 시, 분, 초까지 6가지 컬럼 생성하기\n",
        "* to_datetime 활용 : \n",
        "https://pandas.pydata.org/pandas-docs/stable/reference/api/pandas.to_datetime.html#pandas.to_datetime\n",
        "\n",
        "* pandas datetime extract year month day 키워드로 검색해 보기\n",
        "\n",
        "---"
      ],
      "metadata": {
        "id": "e-npOBiHlWyw"
      }
    },
    {
      "cell_type": "code",
      "source": [
        "import pandas as pd"
      ],
      "metadata": {
        "id": "5fFI0q-slVcf"
      },
      "execution_count": null,
      "outputs": []
    },
    {
      "cell_type": "code",
      "source": [
        "df_X = pd.DataFrame(data=data, columns=diabetes.feature_names)\n",
        "df_X"
      ],
      "metadata": {
        "colab": {
          "base_uri": "https://localhost:8080/",
          "height": 468
        },
        "id": "cgBqQiIOlvTJ",
        "outputId": "8cef34c5-0fe9-4128-8a5c-2bac9f29170c"
      },
      "execution_count": null,
      "outputs": [
        {
          "output_type": "execute_result",
          "data": {
            "text/plain": [
              "          age       sex       bmi        bp        s1        s2        s3  \\\n",
              "0    0.038076  0.050680  0.061696  0.021872 -0.044223 -0.034821 -0.043401   \n",
              "1   -0.001882 -0.044642 -0.051474 -0.026328 -0.008449 -0.019163  0.074412   \n",
              "2    0.085299  0.050680  0.044451 -0.005671 -0.045599 -0.034194 -0.032356   \n",
              "3   -0.089063 -0.044642 -0.011595 -0.036656  0.012191  0.024991 -0.036038   \n",
              "4    0.005383 -0.044642 -0.036385  0.021872  0.003935  0.015596  0.008142   \n",
              "..        ...       ...       ...       ...       ...       ...       ...   \n",
              "437  0.041708  0.050680  0.019662  0.059744 -0.005697 -0.002566 -0.028674   \n",
              "438 -0.005515  0.050680 -0.015906 -0.067642  0.049341  0.079165 -0.028674   \n",
              "439  0.041708  0.050680 -0.015906  0.017282 -0.037344 -0.013840 -0.024993   \n",
              "440 -0.045472 -0.044642  0.039062  0.001215  0.016318  0.015283 -0.028674   \n",
              "441 -0.045472 -0.044642 -0.073030 -0.081414  0.083740  0.027809  0.173816   \n",
              "\n",
              "           s4        s5        s6  \n",
              "0   -0.002592  0.019908 -0.017646  \n",
              "1   -0.039493 -0.068330 -0.092204  \n",
              "2   -0.002592  0.002864 -0.025930  \n",
              "3    0.034309  0.022692 -0.009362  \n",
              "4   -0.002592 -0.031991 -0.046641  \n",
              "..        ...       ...       ...  \n",
              "437 -0.002592  0.031193  0.007207  \n",
              "438  0.034309 -0.018118  0.044485  \n",
              "439 -0.011080 -0.046879  0.015491  \n",
              "440  0.026560  0.044528 -0.025930  \n",
              "441 -0.039493 -0.004220  0.003064  \n",
              "\n",
              "[442 rows x 10 columns]"
            ],
            "text/html": [
              "\n",
              "  <div id=\"df-b32a2295-8100-40a9-842d-6b16666329f3\">\n",
              "    <div class=\"colab-df-container\">\n",
              "      <div>\n",
              "<style scoped>\n",
              "    .dataframe tbody tr th:only-of-type {\n",
              "        vertical-align: middle;\n",
              "    }\n",
              "\n",
              "    .dataframe tbody tr th {\n",
              "        vertical-align: top;\n",
              "    }\n",
              "\n",
              "    .dataframe thead th {\n",
              "        text-align: right;\n",
              "    }\n",
              "</style>\n",
              "<table border=\"1\" class=\"dataframe\">\n",
              "  <thead>\n",
              "    <tr style=\"text-align: right;\">\n",
              "      <th></th>\n",
              "      <th>age</th>\n",
              "      <th>sex</th>\n",
              "      <th>bmi</th>\n",
              "      <th>bp</th>\n",
              "      <th>s1</th>\n",
              "      <th>s2</th>\n",
              "      <th>s3</th>\n",
              "      <th>s4</th>\n",
              "      <th>s5</th>\n",
              "      <th>s6</th>\n",
              "    </tr>\n",
              "  </thead>\n",
              "  <tbody>\n",
              "    <tr>\n",
              "      <th>0</th>\n",
              "      <td>0.038076</td>\n",
              "      <td>0.050680</td>\n",
              "      <td>0.061696</td>\n",
              "      <td>0.021872</td>\n",
              "      <td>-0.044223</td>\n",
              "      <td>-0.034821</td>\n",
              "      <td>-0.043401</td>\n",
              "      <td>-0.002592</td>\n",
              "      <td>0.019908</td>\n",
              "      <td>-0.017646</td>\n",
              "    </tr>\n",
              "    <tr>\n",
              "      <th>1</th>\n",
              "      <td>-0.001882</td>\n",
              "      <td>-0.044642</td>\n",
              "      <td>-0.051474</td>\n",
              "      <td>-0.026328</td>\n",
              "      <td>-0.008449</td>\n",
              "      <td>-0.019163</td>\n",
              "      <td>0.074412</td>\n",
              "      <td>-0.039493</td>\n",
              "      <td>-0.068330</td>\n",
              "      <td>-0.092204</td>\n",
              "    </tr>\n",
              "    <tr>\n",
              "      <th>2</th>\n",
              "      <td>0.085299</td>\n",
              "      <td>0.050680</td>\n",
              "      <td>0.044451</td>\n",
              "      <td>-0.005671</td>\n",
              "      <td>-0.045599</td>\n",
              "      <td>-0.034194</td>\n",
              "      <td>-0.032356</td>\n",
              "      <td>-0.002592</td>\n",
              "      <td>0.002864</td>\n",
              "      <td>-0.025930</td>\n",
              "    </tr>\n",
              "    <tr>\n",
              "      <th>3</th>\n",
              "      <td>-0.089063</td>\n",
              "      <td>-0.044642</td>\n",
              "      <td>-0.011595</td>\n",
              "      <td>-0.036656</td>\n",
              "      <td>0.012191</td>\n",
              "      <td>0.024991</td>\n",
              "      <td>-0.036038</td>\n",
              "      <td>0.034309</td>\n",
              "      <td>0.022692</td>\n",
              "      <td>-0.009362</td>\n",
              "    </tr>\n",
              "    <tr>\n",
              "      <th>4</th>\n",
              "      <td>0.005383</td>\n",
              "      <td>-0.044642</td>\n",
              "      <td>-0.036385</td>\n",
              "      <td>0.021872</td>\n",
              "      <td>0.003935</td>\n",
              "      <td>0.015596</td>\n",
              "      <td>0.008142</td>\n",
              "      <td>-0.002592</td>\n",
              "      <td>-0.031991</td>\n",
              "      <td>-0.046641</td>\n",
              "    </tr>\n",
              "    <tr>\n",
              "      <th>...</th>\n",
              "      <td>...</td>\n",
              "      <td>...</td>\n",
              "      <td>...</td>\n",
              "      <td>...</td>\n",
              "      <td>...</td>\n",
              "      <td>...</td>\n",
              "      <td>...</td>\n",
              "      <td>...</td>\n",
              "      <td>...</td>\n",
              "      <td>...</td>\n",
              "    </tr>\n",
              "    <tr>\n",
              "      <th>437</th>\n",
              "      <td>0.041708</td>\n",
              "      <td>0.050680</td>\n",
              "      <td>0.019662</td>\n",
              "      <td>0.059744</td>\n",
              "      <td>-0.005697</td>\n",
              "      <td>-0.002566</td>\n",
              "      <td>-0.028674</td>\n",
              "      <td>-0.002592</td>\n",
              "      <td>0.031193</td>\n",
              "      <td>0.007207</td>\n",
              "    </tr>\n",
              "    <tr>\n",
              "      <th>438</th>\n",
              "      <td>-0.005515</td>\n",
              "      <td>0.050680</td>\n",
              "      <td>-0.015906</td>\n",
              "      <td>-0.067642</td>\n",
              "      <td>0.049341</td>\n",
              "      <td>0.079165</td>\n",
              "      <td>-0.028674</td>\n",
              "      <td>0.034309</td>\n",
              "      <td>-0.018118</td>\n",
              "      <td>0.044485</td>\n",
              "    </tr>\n",
              "    <tr>\n",
              "      <th>439</th>\n",
              "      <td>0.041708</td>\n",
              "      <td>0.050680</td>\n",
              "      <td>-0.015906</td>\n",
              "      <td>0.017282</td>\n",
              "      <td>-0.037344</td>\n",
              "      <td>-0.013840</td>\n",
              "      <td>-0.024993</td>\n",
              "      <td>-0.011080</td>\n",
              "      <td>-0.046879</td>\n",
              "      <td>0.015491</td>\n",
              "    </tr>\n",
              "    <tr>\n",
              "      <th>440</th>\n",
              "      <td>-0.045472</td>\n",
              "      <td>-0.044642</td>\n",
              "      <td>0.039062</td>\n",
              "      <td>0.001215</td>\n",
              "      <td>0.016318</td>\n",
              "      <td>0.015283</td>\n",
              "      <td>-0.028674</td>\n",
              "      <td>0.026560</td>\n",
              "      <td>0.044528</td>\n",
              "      <td>-0.025930</td>\n",
              "    </tr>\n",
              "    <tr>\n",
              "      <th>441</th>\n",
              "      <td>-0.045472</td>\n",
              "      <td>-0.044642</td>\n",
              "      <td>-0.073030</td>\n",
              "      <td>-0.081414</td>\n",
              "      <td>0.083740</td>\n",
              "      <td>0.027809</td>\n",
              "      <td>0.173816</td>\n",
              "      <td>-0.039493</td>\n",
              "      <td>-0.004220</td>\n",
              "      <td>0.003064</td>\n",
              "    </tr>\n",
              "  </tbody>\n",
              "</table>\n",
              "<p>442 rows × 10 columns</p>\n",
              "</div>\n",
              "      <button class=\"colab-df-convert\" onclick=\"convertToInteractive('df-b32a2295-8100-40a9-842d-6b16666329f3')\"\n",
              "              title=\"Convert this dataframe to an interactive table.\"\n",
              "              style=\"display:none;\">\n",
              "        \n",
              "  <svg xmlns=\"http://www.w3.org/2000/svg\" height=\"24px\"viewBox=\"0 0 24 24\"\n",
              "       width=\"24px\">\n",
              "    <path d=\"M0 0h24v24H0V0z\" fill=\"none\"/>\n",
              "    <path d=\"M18.56 5.44l.94 2.06.94-2.06 2.06-.94-2.06-.94-.94-2.06-.94 2.06-2.06.94zm-11 1L8.5 8.5l.94-2.06 2.06-.94-2.06-.94L8.5 2.5l-.94 2.06-2.06.94zm10 10l.94 2.06.94-2.06 2.06-.94-2.06-.94-.94-2.06-.94 2.06-2.06.94z\"/><path d=\"M17.41 7.96l-1.37-1.37c-.4-.4-.92-.59-1.43-.59-.52 0-1.04.2-1.43.59L10.3 9.45l-7.72 7.72c-.78.78-.78 2.05 0 2.83L4 21.41c.39.39.9.59 1.41.59.51 0 1.02-.2 1.41-.59l7.78-7.78 2.81-2.81c.8-.78.8-2.07 0-2.86zM5.41 20L4 18.59l7.72-7.72 1.47 1.35L5.41 20z\"/>\n",
              "  </svg>\n",
              "      </button>\n",
              "      \n",
              "  <style>\n",
              "    .colab-df-container {\n",
              "      display:flex;\n",
              "      flex-wrap:wrap;\n",
              "      gap: 12px;\n",
              "    }\n",
              "\n",
              "    .colab-df-convert {\n",
              "      background-color: #E8F0FE;\n",
              "      border: none;\n",
              "      border-radius: 50%;\n",
              "      cursor: pointer;\n",
              "      display: none;\n",
              "      fill: #1967D2;\n",
              "      height: 32px;\n",
              "      padding: 0 0 0 0;\n",
              "      width: 32px;\n",
              "    }\n",
              "\n",
              "    .colab-df-convert:hover {\n",
              "      background-color: #E2EBFA;\n",
              "      box-shadow: 0px 1px 2px rgba(60, 64, 67, 0.3), 0px 1px 3px 1px rgba(60, 64, 67, 0.15);\n",
              "      fill: #174EA6;\n",
              "    }\n",
              "\n",
              "    [theme=dark] .colab-df-convert {\n",
              "      background-color: #3B4455;\n",
              "      fill: #D2E3FC;\n",
              "    }\n",
              "\n",
              "    [theme=dark] .colab-df-convert:hover {\n",
              "      background-color: #434B5C;\n",
              "      box-shadow: 0px 1px 3px 1px rgba(0, 0, 0, 0.15);\n",
              "      filter: drop-shadow(0px 1px 2px rgba(0, 0, 0, 0.3));\n",
              "      fill: #FFFFFF;\n",
              "    }\n",
              "  </style>\n",
              "\n",
              "      <script>\n",
              "        const buttonEl =\n",
              "          document.querySelector('#df-b32a2295-8100-40a9-842d-6b16666329f3 button.colab-df-convert');\n",
              "        buttonEl.style.display =\n",
              "          google.colab.kernel.accessAllowed ? 'block' : 'none';\n",
              "\n",
              "        async function convertToInteractive(key) {\n",
              "          const element = document.querySelector('#df-b32a2295-8100-40a9-842d-6b16666329f3');\n",
              "          const dataTable =\n",
              "            await google.colab.kernel.invokeFunction('convertToInteractive',\n",
              "                                                     [key], {});\n",
              "          if (!dataTable) return;\n",
              "\n",
              "          const docLinkHtml = 'Like what you see? Visit the ' +\n",
              "            '<a target=\"_blank\" href=https://colab.research.google.com/notebooks/data_table.ipynb>data table notebook</a>'\n",
              "            + ' to learn more about interactive tables.';\n",
              "          element.innerHTML = '';\n",
              "          dataTable['output_type'] = 'display_data';\n",
              "          await google.colab.output.renderOutput(dataTable, element);\n",
              "          const docLink = document.createElement('div');\n",
              "          docLink.innerHTML = docLinkHtml;\n",
              "          element.appendChild(docLink);\n",
              "        }\n",
              "      </script>\n",
              "    </div>\n",
              "  </div>\n",
              "  "
            ]
          },
          "metadata": {},
          "execution_count": 522
        }
      ]
    },
    {
      "cell_type": "code",
      "source": [
        "type(df_X)"
      ],
      "metadata": {
        "colab": {
          "base_uri": "https://localhost:8080/"
        },
        "id": "Rz71_EmK8fUi",
        "outputId": "77784299-a38b-48bc-8e69-7921f69f03d7"
      },
      "execution_count": null,
      "outputs": [
        {
          "output_type": "execute_result",
          "data": {
            "text/plain": [
              "pandas.core.frame.DataFrame"
            ]
          },
          "metadata": {},
          "execution_count": 523
        }
      ]
    },
    {
      "cell_type": "code",
      "source": [
        "X = df_X.values"
      ],
      "metadata": {
        "id": "in_lspAT8ivL"
      },
      "execution_count": null,
      "outputs": []
    },
    {
      "cell_type": "code",
      "source": [
        "type(X)"
      ],
      "metadata": {
        "colab": {
          "base_uri": "https://localhost:8080/"
        },
        "id": "RISh1WtM8vZy",
        "outputId": "38e40000-eda7-48e9-cc7a-a1dbd7e9a071"
      },
      "execution_count": null,
      "outputs": [
        {
          "output_type": "execute_result",
          "data": {
            "text/plain": [
              "numpy.ndarray"
            ]
          },
          "metadata": {},
          "execution_count": 525
        }
      ]
    },
    {
      "cell_type": "markdown",
      "source": [
        "---\n",
        "### (3) year, month, day, hour, minute, second 데이터 개수 시각화 하기\n",
        "* sns.countplot 활용해서 시각화 하기\n",
        "* subplot 을 활용해서 한 번에 6개의 그래프 함께 시각화 하기\n",
        "\n",
        "---"
      ],
      "metadata": {
        "id": "yRJICsiV-j6z"
      }
    },
    {
      "cell_type": "code",
      "source": [
        "y = diabetes.target"
      ],
      "metadata": {
        "id": "U7_ZUgcI86T7"
      },
      "execution_count": null,
      "outputs": []
    },
    {
      "cell_type": "code",
      "source": [
        "type(y)"
      ],
      "metadata": {
        "colab": {
          "base_uri": "https://localhost:8080/"
        },
        "id": "wP78NDWa87fz",
        "outputId": "995720bd-98a3-420f-9832-ecde1fb6dc9c"
      },
      "execution_count": null,
      "outputs": [
        {
          "output_type": "execute_result",
          "data": {
            "text/plain": [
              "numpy.ndarray"
            ]
          },
          "metadata": {},
          "execution_count": 527
        }
      ]
    },
    {
      "cell_type": "markdown",
      "source": [
        "---\n",
        "### (4) X, y 컬럼 선택 및 train/test 데이터 분리\n",
        "* X(feature) 에는 어떤 데이터 컬럼을 넣어야 될지 고민해 봅시다 데이터 컬럼을 추가하거나 빼면서 잘 조합하여 데이터를 넣기 바랍니다. 만일 모든 데이터 컬럼(특징)을 넣는다면 오차 값이 말도 안 되게 적게 나올 수도 있습니다. ex) count를 예측하는데 casual,registered 컬럼이 필요할까요?\n",
        "\n",
        "* count 값을 맞추고자 하므로, y 변수에 count 컬럼의 데이터 넣기\n",
        "\n",
        "---"
      ],
      "metadata": {
        "id": "a9Gg0rpW-rgK"
      }
    },
    {
      "cell_type": "code",
      "source": [
        "# 데이타를 학습과 평가용으로 분리\n",
        "from sklearn.model_selection import train_test_split\n",
        "X_train, X_test, y_train, y_test = train_test_split(X, y, test_size=0.2, random_state=42)\n",
        "\n",
        "print(X_train.shape, y_train.shape)\n",
        "print(X_test.shape, y_test.shape)\n",
        "\n",
        "print('X_train 개수: ', len(X_train))\n",
        "print('X_test 개수 : ', len(X_test))"
      ],
      "metadata": {
        "colab": {
          "base_uri": "https://localhost:8080/"
        },
        "id": "HEnOR6sUyi7i",
        "outputId": "6673514d-87d9-43b3-9ed9-52d2003024ec"
      },
      "execution_count": null,
      "outputs": [
        {
          "output_type": "stream",
          "name": "stdout",
          "text": [
            "(353, 10) (353,)\n",
            "(89, 10) (89,)\n",
            "X_train 개수:  353\n",
            "X_test 개수 :  89\n"
          ]
        }
      ]
    },
    {
      "cell_type": "code",
      "source": [
        "X_train.shape, y_train.shape"
      ],
      "metadata": {
        "colab": {
          "base_uri": "https://localhost:8080/"
        },
        "id": "ZTLmXW5Yzst5",
        "outputId": "d52a8fed-e1b2-44ae-9966-c29e452a3fc8"
      },
      "execution_count": null,
      "outputs": [
        {
          "output_type": "execute_result",
          "data": {
            "text/plain": [
              "((353, 10), (353,))"
            ]
          },
          "metadata": {},
          "execution_count": 529
        }
      ]
    },
    {
      "cell_type": "code",
      "source": [
        "X_test.shape, y_test.shape"
      ],
      "metadata": {
        "colab": {
          "base_uri": "https://localhost:8080/"
        },
        "id": "yiPW_HjWzunz",
        "outputId": "f0580830-47e4-48cb-cc63-ba65c0790151"
      },
      "execution_count": null,
      "outputs": [
        {
          "output_type": "execute_result",
          "data": {
            "text/plain": [
              "((89, 10), (89,))"
            ]
          },
          "metadata": {},
          "execution_count": 530
        }
      ]
    },
    {
      "cell_type": "code",
      "source": [
        "y_train, y_test"
      ],
      "metadata": {
        "colab": {
          "base_uri": "https://localhost:8080/"
        },
        "id": "uUe4FqjBzzXa",
        "outputId": "b9069a81-516b-4a48-eb48-ca2413fdae8c"
      },
      "execution_count": null,
      "outputs": [
        {
          "output_type": "execute_result",
          "data": {
            "text/plain": [
              "(array([144., 150., 280., 125.,  59.,  65., 281., 277., 167.,  90.,  72.,\n",
              "        178.,  88., 270., 101., 197.,  97.,  53.,  71., 262.,  52., 102.,\n",
              "        166., 189., 173., 220., 206.,  97.,  60.,  61., 242., 121., 128.,\n",
              "        104., 265., 132., 283., 174., 129., 257., 137.,  63.,  93., 232.,\n",
              "        208., 261., 179., 258., 262.,  51., 237.,  71., 139., 268.,  69.,\n",
              "        317., 249., 154., 192., 116.,  81., 122., 259., 191., 292.,  55.,\n",
              "        107., 210.,  91., 253.,  85., 252.,  59.,  78., 200.,  78., 245.,\n",
              "        175.,  42., 127.,  53.,  94., 104., 199., 265., 281., 248., 257.,\n",
              "        215., 303., 170.,  59., 277., 209., 138., 198., 124.,  96., 288.,\n",
              "        225., 265., 101.,  55., 198.,  51., 252.,  64., 220., 131., 212.,\n",
              "        142., 103., 155., 121.,  86., 111.,  65., 131.,  51., 128., 141.,\n",
              "         48., 109., 178.,  88.,  84., 216., 150.,  60.,  96., 190.,  74.,\n",
              "        279., 182., 160., 245., 276., 174., 180., 150., 196., 138.,  97.,\n",
              "        246., 321., 308., 109.,  69., 182., 258., 161., 178., 214.,  45.,\n",
              "        150., 160.,  55., 197., 185., 268., 310., 123.,  68.,  72., 185.,\n",
              "        144., 147., 168., 178., 246., 151., 127.,  83., 332., 152., 109.,\n",
              "         90.,  66., 214.,  85., 129.,  89., 259., 229., 200.,  77.,  54.,\n",
              "         31., 109., 206., 144., 118.,  83., 242., 259.,  72., 163., 181.,\n",
              "        141.,  71., 137., 195., 179., 102., 131.,  47., 235.,  77., 198.,\n",
              "         93., 162., 225., 275., 183., 306.,  81.,  55., 146., 196., 230.,\n",
              "        310.,  40., 135., 346.,  43., 128.,  77., 235.,  49.,  74.,  92.,\n",
              "         84., 263., 144., 142., 341., 115., 158., 273.,  85.,  88., 220.,\n",
              "         39.,  80., 172., 217., 336.,  52., 272., 115., 110., 131.,  71.,\n",
              "        275., 118.,  25., 100., 281., 221., 248., 200., 132.,  91.,  67.,\n",
              "        202.,  73.,  85., 275., 243.,  66., 293., 236., 243.,  87.,  39.,\n",
              "        217.,  92., 296., 292., 142.,  50.,  53., 104.,  75., 120., 142.,\n",
              "        143.,  99.,  65., 116., 233., 164.,  95.,  59., 139., 145., 177.,\n",
              "        185.,  97.,  42., 201., 241.,  70.,  78.,  49., 103.,  44., 111.,\n",
              "        191.,  47., 182.,  58., 155., 151.,  79., 104., 143., 152., 170.,\n",
              "         75., 200., 124.,  91.,  49., 163.,  53., 283., 178., 219., 200.,\n",
              "        113., 113.,  63., 114., 126., 274.,  88., 311.,  83.,  71., 134.,\n",
              "        244.,  65., 173.,  57.,  68., 141., 270., 134., 202., 148.,  64.,\n",
              "        302.]),\n",
              " array([219.,  70., 202., 230., 111.,  84., 242., 272.,  94.,  96.,  94.,\n",
              "        252.,  99., 297., 135.,  67., 295., 264., 170., 275., 310.,  64.,\n",
              "        128., 232., 129., 118., 263.,  77.,  48., 107., 140., 113.,  90.,\n",
              "        164., 180., 233.,  42.,  84., 172.,  63.,  48., 108., 156., 168.,\n",
              "         90.,  52., 200.,  87.,  90., 258., 136., 158.,  69.,  72., 171.,\n",
              "         95.,  72., 151., 168.,  60., 122.,  52., 187., 102., 214., 248.,\n",
              "        181., 110., 140., 202., 101., 222., 281.,  61.,  89.,  91., 186.,\n",
              "        220., 237., 233.,  68., 190.,  96.,  72., 153.,  98.,  37.,  63.,\n",
              "        184.]))"
            ]
          },
          "metadata": {},
          "execution_count": 531
        }
      ]
    },
    {
      "cell_type": "markdown",
      "source": [
        "---\n",
        "### (5) LinearRegression 모델 학습\n",
        "* sklearn의 LinearRegression 모델 불러오기 및 학습하기\n",
        "\n",
        "---"
      ],
      "metadata": {
        "id": "70qv-Uh6_fDo"
      }
    },
    {
      "cell_type": "markdown",
      "source": [
        "#### W , b"
      ],
      "metadata": {
        "id": "pevUXraQA7mh"
      }
    },
    {
      "cell_type": "code",
      "source": [
        "import numpy as np\n",
        "W = np.random.rand(10)\n",
        "b = np.random.rand()"
      ],
      "metadata": {
        "id": "_4Y_yNS5_kyi"
      },
      "execution_count": null,
      "outputs": []
    },
    {
      "cell_type": "code",
      "source": [
        "W"
      ],
      "metadata": {
        "colab": {
          "base_uri": "https://localhost:8080/"
        },
        "id": "UTbYTC1u_kwE",
        "outputId": "c3450aa7-00ab-4822-952d-4c3e81ddecc6"
      },
      "execution_count": null,
      "outputs": [
        {
          "output_type": "execute_result",
          "data": {
            "text/plain": [
              "array([0.82093226, 0.02482723, 0.22774868, 0.19993502, 0.77514248,\n",
              "       0.18517354, 0.67046186, 0.65415298, 0.55915335, 0.18512389])"
            ]
          },
          "metadata": {},
          "execution_count": 533
        }
      ]
    },
    {
      "cell_type": "code",
      "source": [
        "b"
      ],
      "metadata": {
        "colab": {
          "base_uri": "https://localhost:8080/"
        },
        "id": "duvjvdqn_ktM",
        "outputId": "e7371e93-1c83-4198-fad4-9f7e04afbef8"
      },
      "execution_count": null,
      "outputs": [
        {
          "output_type": "execute_result",
          "data": {
            "text/plain": [
              "0.6683488827355871"
            ]
          },
          "metadata": {},
          "execution_count": 534
        }
      ]
    },
    {
      "cell_type": "markdown",
      "source": [
        "#### 모델"
      ],
      "metadata": {
        "id": "uG5XV5SNBBS9"
      }
    },
    {
      "cell_type": "code",
      "source": [
        "### 모델\n",
        "def model(X, W, b):\n",
        "    predictions = 0\n",
        "    for i in range(10):\n",
        "        predictions += X[:, i] * W[i]\n",
        "    predictions += b\n",
        "    return predictions"
      ],
      "metadata": {
        "id": "nexrAKEx_khK"
      },
      "execution_count": null,
      "outputs": []
    },
    {
      "cell_type": "markdown",
      "source": [
        "---\n",
        "### (6) 학습된 모델로 X_test에 대한 예측값 출력 및 손실함수값 계산\n",
        "* 학습된 모델에 X_test를 입력해서 예측값 출력하기\n",
        "* 모델이 예측한 값과 정답 target 간의 손실함수 값 계산하기\n",
        "* mse 값과 함께 rmse 값도 계산하기\n",
        "\n",
        "---"
      ],
      "metadata": {
        "id": "zUVYU96NAvO4"
      }
    },
    {
      "cell_type": "code",
      "source": [
        "def MSE(a, b):\n",
        "    mse = ((a - b) ** 2).mean()  # 두 값의 차이의 제곱의 평균\n",
        "    return mse"
      ],
      "metadata": {
        "id": "lxymOopH_56X"
      },
      "execution_count": null,
      "outputs": []
    },
    {
      "cell_type": "code",
      "source": [
        "def loss(X, W, b, y):\n",
        "    predictions = model(X, W, b)\n",
        "    L = MSE(predictions, y)\n",
        "    return L"
      ],
      "metadata": {
        "id": "TAccdgGN_8MQ"
      },
      "execution_count": null,
      "outputs": []
    },
    {
      "cell_type": "markdown",
      "source": [
        "---\n",
        "### (7) x축은 temp 또는 humidity로, y축은 count로 예측 결과 시각화하기\n",
        "* x축에 X 데이터 중 temp 데이터를, y축에는 count 데이터를 넣어서 시각화하기\n",
        "* x축에 X 데이터 중 humidity 데이터를, y축에는 count 데이터를 넣어서 시각화하기\n",
        "\n",
        "---\n"
      ],
      "metadata": {
        "id": "8YzFERaDBQdu"
      }
    },
    {
      "cell_type": "code",
      "source": [
        "def gradient(X, W, b, y):\n",
        "    # N은 가중치의 개수\n",
        "    N = len(W)\n",
        "    \n",
        "    # y_pred 준비\n",
        "    y_pred = model(X, W, b)\n",
        "    \n",
        "    # 공식에 맞게 gradient 계산\n",
        "    dW = 1/N * 2 * X.T.dot(y_pred - y)\n",
        "        \n",
        "    # b의 gradient 계산\n",
        "    db = 2 * (y_pred - y).mean()\n",
        "    return dW, db"
      ],
      "metadata": {
        "id": "8ZzWpHPY_9-N"
      },
      "execution_count": null,
      "outputs": []
    },
    {
      "cell_type": "code",
      "source": [
        "dW, db = gradient(X, W, b, y)\n",
        "print(\"dW:\", dW)\n",
        "print(\"db:\", db)"
      ],
      "metadata": {
        "colab": {
          "base_uri": "https://localhost:8080/"
        },
        "id": "EcOs0z7C__q_",
        "outputId": "e07dfad1-d72d-4d95-994c-99ef1aac2a19"
      },
      "execution_count": null,
      "outputs": [
        {
          "output_type": "stream",
          "name": "stdout",
          "text": [
            "dW: [ -60.54324596  -13.86808659 -189.67723272 -142.72140271  -68.25115363\n",
            "  -56.01851233  127.77445307 -139.08749679 -182.89835492 -123.59254389]\n",
            "db: -302.9302705603207\n"
          ]
        }
      ]
    },
    {
      "cell_type": "markdown",
      "source": [
        "### (8) 하이퍼 파라미터 인 학습률 설정하기"
      ],
      "metadata": {
        "id": "XjZ5zKFU_kA4"
      }
    },
    {
      "cell_type": "code",
      "source": [
        "#LEARNING_RATE = 0.0001\n",
        "LEARNING_RATE = 0.1"
      ],
      "metadata": {
        "id": "mOAKxwLpBoIa"
      },
      "execution_count": null,
      "outputs": []
    },
    {
      "cell_type": "markdown",
      "source": [
        "### (9) 모델 학습하기"
      ],
      "metadata": {
        "id": "ISzleZCoDV_0"
      }
    },
    {
      "cell_type": "code",
      "source": [
        "losses = []\n",
        "\n",
        "for i in range(1, 1001):\n",
        "    dW, db = gradient(X_train, W, b, y_train)\n",
        "    W -= LEARNING_RATE * dW\n",
        "    b -= LEARNING_RATE * db\n",
        "    L = loss(X_train, W, b, y_train)\n",
        "    losses.append(L)\n",
        "    if i % 10 == 0:\n",
        "        print('Iteration %d : Loss %0.4f' % (i, L))"
      ],
      "metadata": {
        "colab": {
          "base_uri": "https://localhost:8080/"
        },
        "id": "AuoqYyJeBoGQ",
        "outputId": "cac5dddd-9595-4e9d-eab0-ad2287c04af7"
      },
      "execution_count": null,
      "outputs": [
        {
          "output_type": "stream",
          "name": "stdout",
          "text": [
            "Iteration 10 : Loss 4524.6373\n",
            "Iteration 20 : Loss 3657.9599\n",
            "Iteration 30 : Loss 3381.5528\n",
            "Iteration 40 : Loss 3229.1506\n",
            "Iteration 50 : Loss 3132.5393\n",
            "Iteration 60 : Loss 3067.0732\n",
            "Iteration 70 : Loss 3021.2694\n",
            "Iteration 80 : Loss 2988.6833\n",
            "Iteration 90 : Loss 2965.2542\n",
            "Iteration 100 : Loss 2948.2679\n",
            "Iteration 110 : Loss 2935.8585\n",
            "Iteration 120 : Loss 2926.7245\n",
            "Iteration 130 : Loss 2919.9499\n",
            "Iteration 140 : Loss 2914.8858\n",
            "Iteration 150 : Loss 2911.0694\n",
            "Iteration 160 : Loss 2908.1691\n",
            "Iteration 170 : Loss 2905.9456\n",
            "Iteration 180 : Loss 2904.2255\n",
            "Iteration 190 : Loss 2902.8823\n",
            "Iteration 200 : Loss 2901.8231\n",
            "Iteration 210 : Loss 2900.9791\n",
            "Iteration 220 : Loss 2900.2995\n",
            "Iteration 230 : Loss 2899.7462\n",
            "Iteration 240 : Loss 2899.2904\n",
            "Iteration 250 : Loss 2898.9106\n",
            "Iteration 260 : Loss 2898.5900\n",
            "Iteration 270 : Loss 2898.3161\n",
            "Iteration 280 : Loss 2898.0791\n",
            "Iteration 290 : Loss 2897.8714\n",
            "Iteration 300 : Loss 2897.6872\n",
            "Iteration 310 : Loss 2897.5217\n",
            "Iteration 320 : Loss 2897.3714\n",
            "Iteration 330 : Loss 2897.2333\n",
            "Iteration 340 : Loss 2897.1052\n",
            "Iteration 350 : Loss 2896.9853\n",
            "Iteration 360 : Loss 2896.8719\n",
            "Iteration 370 : Loss 2896.7641\n",
            "Iteration 380 : Loss 2896.6608\n",
            "Iteration 390 : Loss 2896.5612\n",
            "Iteration 400 : Loss 2896.4647\n",
            "Iteration 410 : Loss 2896.3709\n",
            "Iteration 420 : Loss 2896.2792\n",
            "Iteration 430 : Loss 2896.1894\n",
            "Iteration 440 : Loss 2896.1012\n",
            "Iteration 450 : Loss 2896.0142\n",
            "Iteration 460 : Loss 2895.9285\n",
            "Iteration 470 : Loss 2895.8437\n",
            "Iteration 480 : Loss 2895.7598\n",
            "Iteration 490 : Loss 2895.6766\n",
            "Iteration 500 : Loss 2895.5942\n",
            "Iteration 510 : Loss 2895.5123\n",
            "Iteration 520 : Loss 2895.4309\n",
            "Iteration 530 : Loss 2895.3501\n",
            "Iteration 540 : Loss 2895.2697\n",
            "Iteration 550 : Loss 2895.1897\n",
            "Iteration 560 : Loss 2895.1100\n",
            "Iteration 570 : Loss 2895.0308\n",
            "Iteration 580 : Loss 2894.9518\n",
            "Iteration 590 : Loss 2894.8732\n",
            "Iteration 600 : Loss 2894.7949\n",
            "Iteration 610 : Loss 2894.7169\n",
            "Iteration 620 : Loss 2894.6392\n",
            "Iteration 630 : Loss 2894.5617\n",
            "Iteration 640 : Loss 2894.4845\n",
            "Iteration 650 : Loss 2894.4076\n",
            "Iteration 660 : Loss 2894.3309\n",
            "Iteration 670 : Loss 2894.2545\n",
            "Iteration 680 : Loss 2894.1784\n",
            "Iteration 690 : Loss 2894.1024\n",
            "Iteration 700 : Loss 2894.0268\n",
            "Iteration 710 : Loss 2893.9513\n",
            "Iteration 720 : Loss 2893.8761\n",
            "Iteration 730 : Loss 2893.8011\n",
            "Iteration 740 : Loss 2893.7264\n",
            "Iteration 750 : Loss 2893.6519\n",
            "Iteration 760 : Loss 2893.5776\n",
            "Iteration 770 : Loss 2893.5035\n",
            "Iteration 780 : Loss 2893.4297\n",
            "Iteration 790 : Loss 2893.3561\n",
            "Iteration 800 : Loss 2893.2827\n",
            "Iteration 810 : Loss 2893.2095\n",
            "Iteration 820 : Loss 2893.1366\n",
            "Iteration 830 : Loss 2893.0639\n",
            "Iteration 840 : Loss 2892.9914\n",
            "Iteration 850 : Loss 2892.9191\n",
            "Iteration 860 : Loss 2892.8471\n",
            "Iteration 870 : Loss 2892.7752\n",
            "Iteration 880 : Loss 2892.7036\n",
            "Iteration 890 : Loss 2892.6322\n",
            "Iteration 900 : Loss 2892.5610\n",
            "Iteration 910 : Loss 2892.4900\n",
            "Iteration 920 : Loss 2892.4192\n",
            "Iteration 930 : Loss 2892.3487\n",
            "Iteration 940 : Loss 2892.2783\n",
            "Iteration 950 : Loss 2892.2082\n",
            "Iteration 960 : Loss 2892.1383\n",
            "Iteration 970 : Loss 2892.0686\n",
            "Iteration 980 : Loss 2891.9991\n",
            "Iteration 990 : Loss 2891.9298\n",
            "Iteration 1000 : Loss 2891.8607\n"
          ]
        }
      ]
    },
    {
      "cell_type": "code",
      "source": [
        "import matplotlib.pyplot as plt\n",
        "plt.plot(losses)\n",
        "plt.show()"
      ],
      "metadata": {
        "colab": {
          "base_uri": "https://localhost:8080/",
          "height": 265
        },
        "id": "CG3CVae5BoDw",
        "outputId": "8e8c9646-9d0b-4f7c-cf15-5cd4cea0374a"
      },
      "execution_count": null,
      "outputs": [
        {
          "output_type": "display_data",
          "data": {
            "text/plain": [
              "<Figure size 432x288 with 1 Axes>"
            ],
            "image/png": "[encoded data removed]"
          },
          "metadata": {
            "needs_background": "light"
          }
        }
      ]
    },
    {
      "cell_type": "code",
      "source": [
        "W, b"
      ],
      "metadata": {
        "colab": {
          "base_uri": "https://localhost:8080/"
        },
        "id": "bZEjydOkBoBJ",
        "outputId": "39d9b36d-026f-4628-f987-2e772bbb5386"
      },
      "execution_count": null,
      "outputs": [
        {
          "output_type": "execute_result",
          "data": {
            "text/plain": [
              "(array([  42.00177429, -240.26673627,  556.837388  ,  342.96340103,\n",
              "        -181.61982842,  -67.98972878, -175.57418874,  167.51483959,\n",
              "         450.07100959,   54.06672334]), 151.30723616010854)"
            ]
          },
          "metadata": {},
          "execution_count": 543
        }
      ]
    },
    {
      "cell_type": "markdown",
      "source": [
        "### (10) test 데이터에 대한 성능 확인하기"
      ],
      "metadata": {
        "id": "xmFAEEgmEYfg"
      }
    },
    {
      "cell_type": "code",
      "source": [
        "prediction = model(X_test, W, b)\n",
        "mse = loss(X_test, W, b, y_test)\n",
        "mse"
      ],
      "metadata": {
        "colab": {
          "base_uri": "https://localhost:8080/"
        },
        "id": "z9PrmquzBzjd",
        "outputId": "7515e7ba-77b9-44f8-f213-812fa611dbf8"
      },
      "execution_count": null,
      "outputs": [
        {
          "output_type": "execute_result",
          "data": {
            "text/plain": [
              "2885.5628339155883"
            ]
          },
          "metadata": {},
          "execution_count": 544
        }
      ]
    },
    {
      "cell_type": "markdown",
      "source": [
        "### (11) 정답 데이터와 예측한 데이터 시각화 하기"
      ],
      "metadata": {
        "id": "GEh6Gvn2Eheb"
      }
    },
    {
      "cell_type": "code",
      "source": [
        "plt.scatter(X_test[:, 0], y_test)\n",
        "plt.scatter(X_test[:, 0], prediction)\n",
        "plt.show()"
      ],
      "metadata": {
        "colab": {
          "base_uri": "https://localhost:8080/",
          "height": 265
        },
        "id": "w3hTLM6HBzhT",
        "outputId": "cacdb21a-ee9d-4cfd-b906-5cb5d5a36ed7"
      },
      "execution_count": null,
      "outputs": [
        {
          "output_type": "display_data",
          "data": {
            "text/plain": [
              "<Figure size 432x288 with 1 Axes>"
            ],
            "image/png": "[encoded data removed]"
          },
          "metadata": {
            "needs_background": "light"
          }
        }
      ]
    },
    {
      "cell_type": "markdown",
      "source": [
        "---\n",
        "---\n",
        "---\n",
        "사이킷런 과 비교\n",
        "---\n",
        "---\n",
        "---\n",
        "\n"
      ],
      "metadata": {
        "id": "s8Lf32YYEnpm"
      }
    },
    {
      "cell_type": "code",
      "source": [
        "from sklearn.linear_model import LinearRegression\n",
        "model = LinearRegression()\n",
        "print(model._estimator_type)"
      ],
      "metadata": {
        "colab": {
          "base_uri": "https://localhost:8080/"
        },
        "id": "9H-js72Tz8A4",
        "outputId": "6f4499f5-8888-4bd4-8fd2-eee3d09b671e"
      },
      "execution_count": null,
      "outputs": [
        {
          "output_type": "stream",
          "name": "stdout",
          "text": [
            "regressor\n"
          ]
        }
      ]
    },
    {
      "cell_type": "code",
      "source": [
        "model = LinearRegression()"
      ],
      "metadata": {
        "id": "pcv8nkKuz7-C"
      },
      "execution_count": null,
      "outputs": []
    },
    {
      "cell_type": "code",
      "source": [
        "# 학습\n",
        "model.fit(X_train, y_train)"
      ],
      "metadata": {
        "colab": {
          "base_uri": "https://localhost:8080/"
        },
        "id": "UiQovU4Oz77l",
        "outputId": "68911c59-0278-4ed5-ccf5-056b92cb1966"
      },
      "execution_count": null,
      "outputs": [
        {
          "output_type": "execute_result",
          "data": {
            "text/plain": [
              "LinearRegression()"
            ]
          },
          "metadata": {},
          "execution_count": 548
        }
      ]
    },
    {
      "cell_type": "code",
      "source": [
        "# 예측\n",
        "y_pred = model.predict(X_test)\n",
        "y_pred"
      ],
      "metadata": {
        "colab": {
          "base_uri": "https://localhost:8080/"
        },
        "id": "8X5pwNb7z74P",
        "outputId": "51c0d59a-4e7f-4e96-dda5-300e54a55040"
      },
      "execution_count": null,
      "outputs": [
        {
          "output_type": "execute_result",
          "data": {
            "text/plain": [
              "array([139.5483133 , 179.52030578, 134.04133298, 291.41193598,\n",
              "       123.78723656,  92.17357677, 258.23409704, 181.33895238,\n",
              "        90.22217862, 108.63143298,  94.13938654, 168.43379636,\n",
              "        53.50669663, 206.63040068, 100.13238561, 130.66881649,\n",
              "       219.53270758, 250.78291772, 196.36682356, 218.57497401,\n",
              "       207.35002447,  88.48361667,  70.43428801, 188.95725301,\n",
              "       154.88720039, 159.35957695, 188.31587948, 180.38835506,\n",
              "        47.98988446, 108.97514644, 174.78080029,  86.36598906,\n",
              "       132.95890535, 184.5410226 , 173.83298051, 190.35863287,\n",
              "       124.41740796, 119.65426903, 147.95402494,  59.05311211,\n",
              "        71.62636914, 107.68722902, 165.45544477, 155.00784964,\n",
              "       171.04558668,  61.45763075,  71.66975626, 114.96330486,\n",
              "        51.57808027, 167.57781958, 152.52505798,  62.95827693,\n",
              "       103.49862017, 109.20495627, 175.63844013, 154.60247734,\n",
              "        94.41476124, 210.74244148, 120.25601864,  77.61590087,\n",
              "       187.93503183, 206.49543321, 140.63018684, 105.59463059,\n",
              "       130.704246  , 202.18650868, 171.1330116 , 164.91246096,\n",
              "       124.72637597, 144.81210187, 181.99631481, 199.41234515,\n",
              "       234.21402489, 145.96053305,  79.86349114, 157.36828831,\n",
              "       192.74737754, 208.8980067 , 158.58505486, 206.0226849 ,\n",
              "       107.47978402, 140.93428553,  54.81856678,  55.92807758,\n",
              "       115.00974554,  78.95886675,  81.55731377,  54.3774778 ,\n",
              "       166.25477778])"
            ]
          },
          "metadata": {},
          "execution_count": 549
        }
      ]
    },
    {
      "cell_type": "code",
      "source": [
        "y_pred.shape"
      ],
      "metadata": {
        "colab": {
          "base_uri": "https://localhost:8080/"
        },
        "id": "8swnbZ782Ffo",
        "outputId": "6d1fe12a-0427-4c10-caa8-35e9b7430b76"
      },
      "execution_count": null,
      "outputs": [
        {
          "output_type": "execute_result",
          "data": {
            "text/plain": [
              "(89,)"
            ]
          },
          "metadata": {},
          "execution_count": 550
        }
      ]
    },
    {
      "cell_type": "code",
      "source": [
        "y_test"
      ],
      "metadata": {
        "colab": {
          "base_uri": "https://localhost:8080/"
        },
        "id": "pMjI44qOz7w8",
        "outputId": "ccb4f87d-e82a-43fd-f6a0-192106a6ce2d"
      },
      "execution_count": null,
      "outputs": [
        {
          "output_type": "execute_result",
          "data": {
            "text/plain": [
              "array([219.,  70., 202., 230., 111.,  84., 242., 272.,  94.,  96.,  94.,\n",
              "       252.,  99., 297., 135.,  67., 295., 264., 170., 275., 310.,  64.,\n",
              "       128., 232., 129., 118., 263.,  77.,  48., 107., 140., 113.,  90.,\n",
              "       164., 180., 233.,  42.,  84., 172.,  63.,  48., 108., 156., 168.,\n",
              "        90.,  52., 200.,  87.,  90., 258., 136., 158.,  69.,  72., 171.,\n",
              "        95.,  72., 151., 168.,  60., 122.,  52., 187., 102., 214., 248.,\n",
              "       181., 110., 140., 202., 101., 222., 281.,  61.,  89.,  91., 186.,\n",
              "       220., 237., 233.,  68., 190.,  96.,  72., 153.,  98.,  37.,  63.,\n",
              "       184.])"
            ]
          },
          "metadata": {},
          "execution_count": 551
        }
      ]
    },
    {
      "cell_type": "code",
      "source": [
        "y_test.shape"
      ],
      "metadata": {
        "colab": {
          "base_uri": "https://localhost:8080/"
        },
        "id": "VuNOOkwC2LAL",
        "outputId": "341ffe8c-4308-4401-9c19-30ddc384e344"
      },
      "execution_count": null,
      "outputs": [
        {
          "output_type": "execute_result",
          "data": {
            "text/plain": [
              "(89,)"
            ]
          },
          "metadata": {},
          "execution_count": 552
        }
      ]
    },
    {
      "cell_type": "code",
      "source": [
        "from sklearn.metrics import mean_squared_error\n",
        "\n",
        "mse = mean_squared_error(y_test, y_pred)\n",
        "mse"
      ],
      "metadata": {
        "colab": {
          "base_uri": "https://localhost:8080/"
        },
        "id": "ja4CQ-iR1K_4",
        "outputId": "d57b9848-e727-4407-a1bf-96ae0674f6d1"
      },
      "execution_count": null,
      "outputs": [
        {
          "output_type": "execute_result",
          "data": {
            "text/plain": [
              "2900.1732878832318"
            ]
          },
          "metadata": {},
          "execution_count": 553
        }
      ]
    },
    {
      "cell_type": "code",
      "source": [
        "import matplotlib.pyplot as plt\n",
        "plt.scatter(X_test[:, 0], y_test, label=\"true\")\n",
        "plt.scatter(X_test[:, 0], y_pred, label=\"pred\")\n",
        "plt.legend()\n",
        "plt.show()"
      ],
      "metadata": {
        "colab": {
          "base_uri": "https://localhost:8080/",
          "height": 265
        },
        "id": "fPMpSvgT1Y6M",
        "outputId": "7563cd68-f6b3-4285-c6fc-9bb967948ca4"
      },
      "execution_count": null,
      "outputs": [
        {
          "output_type": "display_data",
          "data": {
            "text/plain": [
              "<Figure size 432x288 with 1 Axes>"
            ],
            "image/png": "[encoded data removed]"
          },
          "metadata": {
            "needs_background": "light"
          }
        }
      ]
    }
  ]
}