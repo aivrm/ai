{
  "nbformat": 4,
  "nbformat_minor": 0,
  "metadata": {
    "colab": {
      "name": "EX 5-7. 가위바위보 분류기.ipynb",
      "provenance": [],
      "collapsed_sections": [],
      "machine_shape": "hm",
      "mount_file_id": "11WbEX3IuMT7szb3Y6yD1QV_VZ2o7KI3J",
      "authorship_tag": "ABX9TyOLXgI2qsplPL5n0BM4Hcfp",
      "include_colab_link": true
    },
    "kernelspec": {
      "name": "python3",
      "display_name": "Python 3"
    },
    "language_info": {
      "name": "python"
    },
    "accelerator": "GPU",
    "gpuClass": "standard"
  },
  "cells": [
    {
      "cell_type": "markdown",
      "metadata": {
        "id": "view-in-github",
        "colab_type": "text"
      },
      "source": [
        "<a href=\"https://colab.research.google.com/github/aivrm/ai/blob/main/EX_5_7_%EA%B0%80%EC%9C%84%EB%B0%94%EC%9C%84%EB%B3%B4_%EB%B6%84%EB%A5%98%EA%B8%B0.ipynb\" target=\"_parent\"><img src=\"https://colab.research.google.com/assets/colab-badge.svg\" alt=\"Open In Colab\"/></a>"
      ]
    },
    {
      "cell_type": "markdown",
      "source": [
        "---\n",
        "## 5-7. 미니 프로젝트 : 가위바위보 분류기를 만들자\n",
        "\n",
        "---"
      ],
      "metadata": {
        "id": "SX9jpzBJtiiV"
      }
    },
    {
      "cell_type": "code",
      "execution_count": 1,
      "metadata": {
        "id": "q99OOAJUtZfz",
        "colab": {
          "base_uri": "https://localhost:8080/"
        },
        "outputId": "f2ff4901-cbdb-4f02-ae09-aaecd060295c"
      },
      "outputs": [
        {
          "output_type": "stream",
          "name": "stdout",
          "text": [
            "2.8.2\n",
            "1.21.6\n"
          ]
        }
      ],
      "source": [
        "import tensorflow as tf\n",
        "import numpy as np\n",
        "\n",
        "print(tf.__version__)\n",
        "print(np.__version__)"
      ]
    },
    {
      "cell_type": "markdown",
      "source": [
        "---\n",
        "아래의 사이트에서,  가위,바위,보 이미지를 각각 100개씩 캡쳐하여 zip화일로 받는다. (224x224 픽셀의 이미지임)\n",
        "\n",
        "Teachable Machine\n",
        "\n",
        "https://teachablemachine.withgoogle.com/\n",
        "\n",
        "---\n"
      ],
      "metadata": {
        "id": "oe44rDL-t05-"
      }
    },
    {
      "cell_type": "markdown",
      "source": [
        "---\n",
        "가위 는 scissor.zip\n",
        "\n",
        "바위 는 rock.zip\n",
        "\n",
        "보 는 paper.zip 로 이름을 바꾸고,\n",
        "\n",
        "각각의 zip화일에는 이미지 100개씩 들어있도록 한다.  (224x224 픽셀의 이미지들임)\n",
        "\n",
        "---"
      ],
      "metadata": {
        "id": "1HFc9EfcszFL"
      }
    },
    {
      "cell_type": "markdown",
      "source": [
        "---\n",
        "~/aiffel/aiffel/rock_scissor_paper 디렉토리에,\n",
        "\n",
        "scissor, rock, paper 디렉토리를 만든다.\n",
        "\n",
        "해당 디렉토리에 맞는 zip화일을 넣고,\n",
        "\n",
        "unzip으로 압축을 푼다.\n",
        "\n",
        "---"
      ],
      "metadata": {
        "id": "Snugq_kttGNX"
      }
    },
    {
      "cell_type": "code",
      "source": [
        "from PIL import Image\n",
        "import glob\n",
        "import os\n",
        "\n",
        "print(\"PIL 라이브러리 import 완료!\")"
      ],
      "metadata": {
        "colab": {
          "base_uri": "https://localhost:8080/"
        },
        "id": "nbsQPDP8t3KB",
        "outputId": "90c4af87-a642-4f59-c0c6-a3dc7d575d93"
      },
      "execution_count": 2,
      "outputs": [
        {
          "output_type": "stream",
          "name": "stdout",
          "text": [
            "PIL 라이브러리 import 완료!\n"
          ]
        }
      ]
    },
    {
      "cell_type": "markdown",
      "source": [
        "---\n",
        "위에서 획득한 이미지는 224x224 픽셀인데,\n",
        "\n",
        "28x28 픽셀의 이미지로 리사이즈 한다.\n",
        "\n",
        "---"
      ],
      "metadata": {
        "id": "P7eFUdIptx8e"
      }
    },
    {
      "cell_type": "code",
      "source": [
        "# 28x28 픽셀로 리사이즈\n",
        "def resize_images(img_path):\n",
        "    images = glob.glob(img_path + \"/*.jpg\")\n",
        "\n",
        "    print(len(images), \" images to be resized.\")\n",
        "\n",
        "    # 파일마다 모두 28x28 사이즈로 바꾸어 저장합니다.\n",
        "    target_size = (28, 28)\n",
        "\n",
        "    for img in images:\n",
        "        old_img = Image.open(img)\n",
        "        new_img = old_img.resize(target_size, Image.ANTIALIAS)\n",
        "        new_img.save(img, \"JPEG\")\n",
        "\n",
        "    print(len(images), \" images resized.\")"
      ],
      "metadata": {
        "id": "-fZB1yKmzAFU"
      },
      "execution_count": 3,
      "outputs": []
    },
    {
      "cell_type": "code",
      "source": [
        "from os.path import join\n",
        "DIR_img = '/content/drive/MyDrive/_aiffel/aiffel/rock_scissor_paper'"
      ],
      "metadata": {
        "id": "j6SgKAsNm4oG"
      },
      "execution_count": 4,
      "outputs": []
    },
    {
      "cell_type": "code",
      "source": [
        "# 가위 이미지가 저장된 scissor 디렉토리 아래의 모든 jpg 파일을 28x28 픽셀로\n",
        "#image_dir_path = os.getenv(\"HOME\") + \"/aiffel/rock_scissor_paper/scissor\"\n",
        "image_dir_path = join(DIR_img, 'scissor')\n",
        "resize_images(image_dir_path)\n",
        "\n",
        "print(\"가위 이미지 resize 완료!\")"
      ],
      "metadata": {
        "id": "FJJYlUG21TSI",
        "colab": {
          "base_uri": "https://localhost:8080/"
        },
        "outputId": "3b02d3f7-4e14-4c3e-e83f-af608a616408"
      },
      "execution_count": 5,
      "outputs": [
        {
          "output_type": "stream",
          "name": "stdout",
          "text": [
            "100  images to be resized.\n",
            "100  images resized.\n",
            "가위 이미지 resize 완료!\n"
          ]
        }
      ]
    },
    {
      "cell_type": "code",
      "source": [
        "# 바위 이미지가 저장된 rock 디렉토리 아래의 모든 jpg 파일을 28x28 픽셀로\n",
        "#image_dir_path = os.getenv(\"HOME\") + \"/aiffel/rock_scissor_paper/rock\"\n",
        "image_dir_path = join(DIR_img, 'rock')\n",
        "resize_images(image_dir_path)\n",
        "\n",
        "print(\"바위 이미지 resize 완료!\")"
      ],
      "metadata": {
        "id": "MjAsj_4R1Woh",
        "colab": {
          "base_uri": "https://localhost:8080/"
        },
        "outputId": "5b2e481b-3f99-4e94-d9df-2a77a1c79482"
      },
      "execution_count": 6,
      "outputs": [
        {
          "output_type": "stream",
          "name": "stdout",
          "text": [
            "100  images to be resized.\n",
            "100  images resized.\n",
            "바위 이미지 resize 완료!\n"
          ]
        }
      ]
    },
    {
      "cell_type": "code",
      "source": [
        "# 보 이미지가 저장된 paper 디렉토리 아래의 모든 jpg 파일을 28x28 픽셀로\n",
        "#image_dir_path = os.getenv(\"HOME\") + \"/aiffel/rock_scissor_paper/paper\"\n",
        "image_dir_path = join(DIR_img, 'paper')\n",
        "resize_images(image_dir_path)\n",
        "\n",
        "print(\"보 이미지 resize 완료!\")"
      ],
      "metadata": {
        "id": "7MXMfsH71Xjy",
        "colab": {
          "base_uri": "https://localhost:8080/"
        },
        "outputId": "1647e3e4-cb65-4d8f-c8f3-61c2be97c1a9"
      },
      "execution_count": 7,
      "outputs": [
        {
          "output_type": "stream",
          "name": "stdout",
          "text": [
            "100  images to be resized.\n",
            "100  images resized.\n",
            "보 이미지 resize 완료!\n"
          ]
        }
      ]
    },
    {
      "cell_type": "markdown",
      "source": [
        "---\n",
        "scissor, rock, paper 디렉토리의 jpg 이미지들을, 편리하게 읽어들이는 함수\n",
        "\n",
        "---"
      ],
      "metadata": {
        "id": "vKrtFOuow5vr"
      }
    },
    {
      "cell_type": "code",
      "source": [
        "# scissor, rock, paper 디렉토리의 jpg 이미지들을, 편리하게 읽어들이는 함수\n",
        "def load_data(img_path, number_of_data=300):    # 가위바위보 이미지 갯수 총합 300장\n",
        "\n",
        "    # 가위:0 | 바위:1 | 보:2\n",
        "    img_size = 28\n",
        "    color = 3\n",
        "\n",
        "    # 이미지 데이터와 라벨(가위:0 | 바위:1 | 보:2) 데이터를 담을 행렬(matrix) 영역을 생성합니다.\n",
        "    imgs = np.zeros(number_of_data * img_size * img_size * color, dtype = np.int32).reshape(number_of_data, img_size, img_size, color)\n",
        "    labels = np.zeros(number_of_data, dtype = np.int32)\n",
        "\n",
        "    idx = 0\n",
        "    for file in glob.iglob(img_path + '/scissor/*.jpg'):\n",
        "        img = np.array(Image.open(file), dtype = np.int32)\n",
        "        imgs[idx, :, :, :] = img    # 데이터 영역에 이미지 행력을 복사\n",
        "        labels[idx]=0   # 가위 : 0\n",
        "        idx=idx+1\n",
        "\n",
        "    for file in glob.iglob(img_path+'/rock/*.jpg'):\n",
        "        img = np.array(Image.open(file),dtype=np.int32)\n",
        "        imgs[idx,:,:,:]=img    # 데이터 영역에 이미지 행렬을 복사\n",
        "        labels[idx]=1   # 바위 : 1\n",
        "        idx=idx+1  \n",
        "    \n",
        "    for file in glob.iglob(img_path+'/paper/*.jpg'):\n",
        "        img = np.array(Image.open(file),dtype=np.int32)\n",
        "        imgs[idx,:,:,:]=img    # 데이터 영역에 이미지 행렬을 복사\n",
        "        labels[idx]=2   # 보 : 2\n",
        "        idx=idx+1\n",
        "        \n",
        "    print(\"학습데이터(x_train)의 이미지 개수는\", idx,\"입니다.\")\n",
        "    return imgs, labels"
      ],
      "metadata": {
        "id": "1qRA-gMkxEoi"
      },
      "execution_count": 8,
      "outputs": []
    },
    {
      "cell_type": "markdown",
      "source": [
        "---\n",
        "정규화\n",
        "\n",
        "---"
      ],
      "metadata": {
        "id": "lwqMKPvrxRho"
      }
    },
    {
      "cell_type": "code",
      "source": [
        "print(DIR_img)"
      ],
      "metadata": {
        "colab": {
          "base_uri": "https://localhost:8080/"
        },
        "id": "yz3oy2kD6cp7",
        "outputId": "155f4905-bbbf-4feb-f307-d4d0a0354ab3"
      },
      "execution_count": 9,
      "outputs": [
        {
          "output_type": "stream",
          "name": "stdout",
          "text": [
            "/content/drive/MyDrive/_aiffel/aiffel/rock_scissor_paper\n"
          ]
        }
      ]
    },
    {
      "cell_type": "code",
      "source": [
        "#image_dir_path = os.getenv(\"HOME\") + \"/aiffel/rock_scissor_paper\"\n",
        "\n",
        "(x_train, y_train) = load_data(DIR_img)\n",
        "\n",
        "# 정규화\n",
        "x_train_norm = x_train/255.0   # 입력은 0~1 사이의 값으로 정규화\n",
        "\n",
        "print(\"x_train shape: {}\".format(x_train.shape))\n",
        "print(\"y_train shape: {}\".format(y_train.shape))"
      ],
      "metadata": {
        "colab": {
          "base_uri": "https://localhost:8080/"
        },
        "id": "wbS6PQDYxUxK",
        "outputId": "de1b4087-b401-41cd-adb0-1bf645e982ee"
      },
      "execution_count": 10,
      "outputs": [
        {
          "output_type": "stream",
          "name": "stdout",
          "text": [
            "학습데이터(x_train)의 이미지 개수는 300 입니다.\n",
            "x_train shape: (300, 28, 28, 3)\n",
            "y_train shape: (300,)\n"
          ]
        }
      ]
    },
    {
      "cell_type": "markdown",
      "source": [
        "---\n",
        "샘플로 하나 확인\n",
        "\n",
        "---"
      ],
      "metadata": {
        "id": "n7JEnqXLxx27"
      }
    },
    {
      "cell_type": "code",
      "source": [
        "import matplotlib.pyplot as plt\n",
        "\n",
        "plt.imshow(x_train[0])\n",
        "print('라벨: ', y_train[0])"
      ],
      "metadata": {
        "id": "0CTpAffax0SJ",
        "colab": {
          "base_uri": "https://localhost:8080/",
          "height": 283
        },
        "outputId": "212e97ab-4c83-42e0-b803-e6a5c46cc371"
      },
      "execution_count": 11,
      "outputs": [
        {
          "output_type": "stream",
          "name": "stdout",
          "text": [
            "라벨:  0\n"
          ]
        },
        {
          "output_type": "display_data",
          "data": {
            "text/plain": [
              "<Figure size 432x288 with 1 Axes>"
            ],
            "image/png": "[encoded data removed]"
          },
          "metadata": {
            "needs_background": "light"
          }
        }
      ]
    },
    {
      "cell_type": "markdown",
      "source": [
        "---\n",
        "딥러닝 네트웍 설계\n",
        "\n",
        "---"
      ],
      "metadata": {
        "id": "0BZDK1n8yQZP"
      }
    },
    {
      "cell_type": "code",
      "source": [
        "import tensorflow as tf\n",
        "from tensorflow import keras\n",
        "import numpy as np\n",
        "\n",
        "# hyperpameters\n",
        "n_channel_1 = 16\n",
        "n_channel_2 = 32\n",
        "n_dense = 64\n",
        "\n",
        "n_train_epoch = 10\n",
        "\n",
        "# tensorflow.keras 의 Sequential API\n",
        "model = keras.models.Sequential()\n",
        "model.add(keras.layers.Conv2D(n_channel_1, (3,3), activation='relu', input_shape=(28,28,3))) # 입력 이미지의 형태\n",
        "model.add(keras.layers.MaxPool2D(2,2))\n",
        "model.add(keras.layers.Conv2D(n_channel_2, (3,3), activation='relu'))    # 입력 이미지가 다양할수록 더 많은 특징을 보자.\n",
        "model.add(keras.layers.MaxPooling2D((2,2)))\n",
        "model.add(keras.layers.Flatten())\n",
        "model.add(keras.layers.Dense(n_dense, activation='relu'))    # 분류기 알고리즘을 얼마나 복잡하게 할 것인가? (복잡한 문제일수록 이 수를 증가시킬 것)\n",
        "model.add(keras.layers.Dense(3, activation='softmax')) # 분류기의 최종 class 수 (여기서는 3개)\n",
        "\n",
        "print('Model에 추가된 Layer 개수: ', len(model.layers))\n",
        "\n",
        "# 모델 개요\n",
        "model.summary()"
      ],
      "metadata": {
        "id": "eO0s6gzIyWML",
        "colab": {
          "base_uri": "https://localhost:8080/"
        },
        "outputId": "a65983d5-3806-4b2b-dc87-a29119dd05c8"
      },
      "execution_count": 12,
      "outputs": [
        {
          "output_type": "stream",
          "name": "stdout",
          "text": [
            "Model에 추가된 Layer 개수:  7\n",
            "Model: \"sequential\"\n",
            "_________________________________________________________________\n",
            " Layer (type)                Output Shape              Param #   \n",
            "=================================================================\n",
            " conv2d (Conv2D)             (None, 26, 26, 16)        448       \n",
            "                                                                 \n",
            " max_pooling2d (MaxPooling2D  (None, 13, 13, 16)       0         \n",
            " )                                                               \n",
            "                                                                 \n",
            " conv2d_1 (Conv2D)           (None, 11, 11, 32)        4640      \n",
            "                                                                 \n",
            " max_pooling2d_1 (MaxPooling  (None, 5, 5, 32)         0         \n",
            " 2D)                                                             \n",
            "                                                                 \n",
            " flatten (Flatten)           (None, 800)               0         \n",
            "                                                                 \n",
            " dense (Dense)               (None, 64)                51264     \n",
            "                                                                 \n",
            " dense_1 (Dense)             (None, 3)                 195       \n",
            "                                                                 \n",
            "=================================================================\n",
            "Total params: 56,547\n",
            "Trainable params: 56,547\n",
            "Non-trainable params: 0\n",
            "_________________________________________________________________\n"
          ]
        }
      ]
    },
    {
      "cell_type": "markdown",
      "source": [
        "---\n",
        "딥러닝 네트웍 학습\n",
        "\n",
        "---"
      ],
      "metadata": {
        "id": "102NA7LRyZnQ"
      }
    },
    {
      "cell_type": "code",
      "source": [
        "# Reshape\n",
        "'''\n",
        "print(\"Before Reshape - x_train_norm shape : {}\".format(x_train_norm.shape))\n",
        "x_train_reshaped = x_train_norm.reshape( -1, 28, 28, 3) # 데이터 갯수에 -1을 쓰면, reshape시 자동계산됩니다.\n",
        "print(\"After Reshape - x_train_reshaped shape : {}\".format(x_train_reshaped.shape))\n",
        "'''"
      ],
      "metadata": {
        "id": "xeahRuBjXL1o",
        "colab": {
          "base_uri": "https://localhost:8080/",
          "height": 54
        },
        "outputId": "d81bfc7d-6a38-4ea8-e5ee-d16313c57a66"
      },
      "execution_count": 13,
      "outputs": [
        {
          "output_type": "execute_result",
          "data": {
            "text/plain": [
              "'\\nprint(\"Before Reshape - x_train_norm shape : {}\".format(x_train_norm.shape))\\nx_train_reshaped = x_train_norm.reshape( -1, 28, 28, 3) # 데이터 갯수에 -1을 쓰면, reshape시 자동계산됩니다.\\nprint(\"After Reshape - x_train_reshaped shape : {}\".format(x_train_reshaped.shape))\\n'"
            ],
            "application/vnd.google.colaboratory.intrinsic+json": {
              "type": "string"
            }
          },
          "metadata": {},
          "execution_count": 13
        }
      ]
    },
    {
      "cell_type": "code",
      "source": [
        "# 학습\n",
        "model.compile(optimizer='adam', # 아담\n",
        "              loss='sparse_categorical_crossentropy',\n",
        "              metrics=['accuracy'])\n",
        "# model.fit(x_train_reshaped, y_train, epochs=n_train_epoch)\n",
        "model.fit(x_train_norm, y_train, epochs=n_train_epoch)"
      ],
      "metadata": {
        "id": "TpKw9D02yamm",
        "colab": {
          "base_uri": "https://localhost:8080/"
        },
        "outputId": "2ec97824-8569-4a36-bbd2-0b79bee2b3c6"
      },
      "execution_count": 14,
      "outputs": [
        {
          "output_type": "stream",
          "name": "stdout",
          "text": [
            "Epoch 1/10\n",
            "10/10 [==============================] - 12s 12ms/step - loss: 1.0903 - accuracy: 0.4433\n",
            "Epoch 2/10\n",
            "10/10 [==============================] - 0s 3ms/step - loss: 1.0281 - accuracy: 0.5033\n",
            "Epoch 3/10\n",
            "10/10 [==============================] - 0s 3ms/step - loss: 0.9412 - accuracy: 0.9467\n",
            "Epoch 4/10\n",
            "10/10 [==============================] - 0s 3ms/step - loss: 0.8288 - accuracy: 0.8300\n",
            "Epoch 5/10\n",
            "10/10 [==============================] - 0s 3ms/step - loss: 0.6909 - accuracy: 0.8600\n",
            "Epoch 6/10\n",
            "10/10 [==============================] - 0s 3ms/step - loss: 0.5229 - accuracy: 0.9567\n",
            "Epoch 7/10\n",
            "10/10 [==============================] - 0s 3ms/step - loss: 0.3436 - accuracy: 0.9967\n",
            "Epoch 8/10\n",
            "10/10 [==============================] - 0s 3ms/step - loss: 0.2184 - accuracy: 0.9967\n",
            "Epoch 9/10\n",
            "10/10 [==============================] - 0s 3ms/step - loss: 0.1372 - accuracy: 1.0000\n",
            "Epoch 10/10\n",
            "10/10 [==============================] - 0s 3ms/step - loss: 0.0757 - accuracy: 1.0000\n"
          ]
        },
        {
          "output_type": "execute_result",
          "data": {
            "text/plain": [
              "<keras.callbacks.History at 0x7f94903e8690>"
            ]
          },
          "metadata": {},
          "execution_count": 14
        }
      ]
    },
    {
      "cell_type": "markdown",
      "source": [
        "---\n",
        "테스트\n",
        "\n",
        "---"
      ],
      "metadata": {
        "id": "Q1H7a-mYyd_4"
      }
    },
    {
      "cell_type": "markdown",
      "source": [
        "테스트용 이미지 300개를 ~/aiffel/aiffel/rock_scissor_paper/test 폴더에 넣는다.\n",
        "\n",
        "가위, 바위, 보 순서로 각각 100개씩 넣음."
      ],
      "metadata": {
        "id": "Xt2weqV7yixv"
      }
    },
    {
      "cell_type": "markdown",
      "source": [
        "---\n",
        "테스트용 데이터 28x28로 리사이즈"
      ],
      "metadata": {
        "id": "mFr39iTB0-TX"
      }
    },
    {
      "cell_type": "code",
      "source": [
        "# test 이미지가 저장된 디렉토리 아래의 모든 jpg 파일을 읽어들여서 resize\n",
        "#image_dir_path = os.getenv(\"HOME\") + \"/aiffel/rock_scissor_paper/test\"\n",
        "'''\n",
        "image_dir_path = join(DIR_img, 'test')\n",
        "resize_images(image_dir_path)\n",
        "print(\"test 이미지 resize 완료!\")\n",
        "'''\n",
        "# 1개의 디렉토리에서 화일명 순서로 label을 식별 불가했음."
      ],
      "metadata": {
        "id": "2oUxRW3SzuEq",
        "colab": {
          "base_uri": "https://localhost:8080/",
          "height": 35
        },
        "outputId": "a4952f77-4e1c-46bb-d224-c593fc5f1f85"
      },
      "execution_count": 15,
      "outputs": [
        {
          "output_type": "execute_result",
          "data": {
            "text/plain": [
              "'\\nimage_dir_path = join(DIR_img, \\'test\\')\\nresize_images(image_dir_path)\\nprint(\"test 이미지 resize 완료!\")\\n'"
            ],
            "application/vnd.google.colaboratory.intrinsic+json": {
              "type": "string"
            }
          },
          "metadata": {},
          "execution_count": 15
        }
      ]
    },
    {
      "cell_type": "code",
      "source": [
        "from os.path import join\n",
        "DIR_img = '/content/drive/MyDrive/_aiffel/aiffel/rock_scissor_paper'\n",
        "\n",
        "# TEST용 데이터 리사이즈\n",
        "image_dir_path = join(DIR_img, 'test/scissor')\n",
        "resize_images(image_dir_path)\n",
        "print(\"Test용 가위 이미지 resize 완료!\")\n",
        "\n",
        "image_dir_path = join(DIR_img, 'test/rock')\n",
        "resize_images(image_dir_path)\n",
        "print(\"Test용 바위 이미지 resize 완료!\")\n",
        "\n",
        "image_dir_path = join(DIR_img, 'test/paper')\n",
        "resize_images(image_dir_path)\n",
        "print(\"Test용 보 이미지 resize 완료!\")"
      ],
      "metadata": {
        "colab": {
          "base_uri": "https://localhost:8080/"
        },
        "id": "RJRVuJkfSJpd",
        "outputId": "b0abbfd5-fa98-4175-98f3-5180e04b0f2a"
      },
      "execution_count": 16,
      "outputs": [
        {
          "output_type": "stream",
          "name": "stdout",
          "text": [
            "100  images to be resized.\n",
            "100  images resized.\n",
            "Test용 가위 이미지 resize 완료!\n",
            "100  images to be resized.\n",
            "100  images resized.\n",
            "Test용 바위 이미지 resize 완료!\n",
            "100  images to be resized.\n",
            "100  images resized.\n",
            "Test용 보 이미지 resize 완료!\n"
          ]
        }
      ]
    },
    {
      "cell_type": "markdown",
      "source": [
        "---\n",
        "테스트용 데이터 로딩"
      ],
      "metadata": {
        "id": "QcXemcDT1E-u"
      }
    },
    {
      "cell_type": "code",
      "source": [
        "# 테스트 데이터용 load 함수\n",
        "'''\n",
        "def load_test_data(img_path, number_of_data=300):  # 가위바위보 이미지 개수 총합에 주의하세요.\n",
        "    # 가위 : 0, 바위 : 1, 보 : 2\n",
        "    img_size=28\n",
        "    color=3\n",
        "    #이미지 데이터와 라벨(가위 : 0, 바위 : 1, 보 : 2) 데이터를 담을 행렬(matrix) 영역을 생성합니다.\n",
        "    imgs=np.zeros(number_of_data*img_size*img_size*color,dtype=np.int32).reshape(number_of_data,img_size,img_size,color)\n",
        "    labels=np.zeros(number_of_data,dtype=np.int32)\n",
        "\n",
        "    idx=0\n",
        "    for file in glob.iglob(img_path+'/test/*.jpg'):\n",
        "        img = np.array(Image.open(file),dtype=np.int32)\n",
        "        imgs[idx,:,:,:]=img    # 데이터 영역에 이미지 행렬을 복사\n",
        "\n",
        "        if(idx <= 100):\n",
        "            labels[idx]=0   # 가위 : 0\n",
        "        if(idx > 100 and idx <= 200):\n",
        "            labels[idx]=1   # 바위 : 1\n",
        "        if(idx > 200 and idx <= 300):\n",
        "            labels[idx]=2   # 보 : 2\n",
        "\n",
        "        idx=idx+1\n",
        "        \n",
        "    print(\"테스트 데이터(x_test)의 이미지 개수는\", idx,\"입니다.\")\n",
        "    return imgs, labels\n",
        "'''"
      ],
      "metadata": {
        "id": "4my3fXnEyfky",
        "colab": {
          "base_uri": "https://localhost:8080/",
          "height": 109
        },
        "outputId": "6cdc953e-dd50-4f67-f32a-d8d5e7c8e01f"
      },
      "execution_count": 17,
      "outputs": [
        {
          "output_type": "execute_result",
          "data": {
            "text/plain": [
              "'\\ndef load_test_data(img_path, number_of_data=300):  # 가위바위보 이미지 개수 총합에 주의하세요.\\n    # 가위 : 0, 바위 : 1, 보 : 2\\n    img_size=28\\n    color=3\\n    #이미지 데이터와 라벨(가위 : 0, 바위 : 1, 보 : 2) 데이터를 담을 행렬(matrix) 영역을 생성합니다.\\n    imgs=np.zeros(number_of_data*img_size*img_size*color,dtype=np.int32).reshape(number_of_data,img_size,img_size,color)\\n    labels=np.zeros(number_of_data,dtype=np.int32)\\n\\n    idx=0\\n    for file in glob.iglob(img_path+\\'/test/*.jpg\\'):\\n        img = np.array(Image.open(file),dtype=np.int32)\\n        imgs[idx,:,:,:]=img    # 데이터 영역에 이미지 행렬을 복사\\n\\n        if(idx <= 100):\\n            labels[idx]=0   # 가위 : 0\\n        if(idx > 100 and idx <= 200):\\n            labels[idx]=1   # 바위 : 1\\n        if(idx > 200 and idx <= 300):\\n            labels[idx]=2   # 보 : 2\\n\\n        idx=idx+1\\n        \\n    print(\"테스트 데이터(x_test)의 이미지 개수는\", idx,\"입니다.\")\\n    return imgs, labels\\n'"
            ],
            "application/vnd.google.colaboratory.intrinsic+json": {
              "type": "string"
            }
          },
          "metadata": {},
          "execution_count": 17
        }
      ]
    },
    {
      "cell_type": "code",
      "source": [
        "# 테스트 데이터용 load 함수\n",
        "# scissor, rock, paper 디렉토리의 jpg 이미지들을, 편리하게 읽어들이는 함수\n",
        "def load_test_data(img_path, number_of_data=300):    # 가위바위보 이미지 갯수 총합 300장\n",
        "\n",
        "    # 가위:0 | 바위:1 | 보:2\n",
        "    img_size = 28\n",
        "    color = 3\n",
        "\n",
        "    # 이미지 데이터와 라벨(가위:0 | 바위:1 | 보:2) 데이터를 담을 행렬(matrix) 영역을 생성합니다.\n",
        "    imgs = np.zeros(number_of_data * img_size * img_size * color, dtype = np.int32).reshape(number_of_data, img_size, img_size, color)\n",
        "    labels = np.zeros(number_of_data, dtype = np.int32)\n",
        "\n",
        "    idx = 0\n",
        "    for file in glob.iglob(img_path + '/test/scissor/*.jpg'):\n",
        "        img = np.array(Image.open(file), dtype = np.int32)\n",
        "        imgs[idx, :, :, :] = img    # 데이터 영역에 이미지 행력을 복사\n",
        "        labels[idx]=0   # 가위 : 0\n",
        "        idx=idx+1\n",
        "\n",
        "    for file in glob.iglob(img_path + '/test/rock/*.jpg'):\n",
        "        img = np.array(Image.open(file),dtype=np.int32)\n",
        "        imgs[idx,:,:,:]=img    # 데이터 영역에 이미지 행렬을 복사\n",
        "        labels[idx]=1   # 바위 : 1\n",
        "        idx=idx+1  \n",
        "    \n",
        "    for file in glob.iglob(img_path + '/test/paper/*.jpg'):\n",
        "        img = np.array(Image.open(file),dtype=np.int32)\n",
        "        imgs[idx,:,:,:]=img    # 데이터 영역에 이미지 행렬을 복사\n",
        "        labels[idx]=2   # 보 : 2\n",
        "        idx=idx+1\n",
        "        \n",
        "    print(\"학습데이터(x_train)의 이미지 개수는\", idx,\"입니다.\")\n",
        "    return imgs, labels"
      ],
      "metadata": {
        "id": "ZewW5FudTmOo"
      },
      "execution_count": 18,
      "outputs": []
    },
    {
      "cell_type": "code",
      "source": [
        "# 테스트용 데이터 load\n",
        "#image_dir_path = os.getenv(\"HOME\") + \"/aiffel/rock_scissor_paper\"\n",
        "(x_test, y_test) = load_test_data(DIR_img)"
      ],
      "metadata": {
        "id": "kLqhjI460L34",
        "colab": {
          "base_uri": "https://localhost:8080/"
        },
        "outputId": "2c0fcded-9c9c-48e4-c590-4a233c661fb3"
      },
      "execution_count": 19,
      "outputs": [
        {
          "output_type": "stream",
          "name": "stdout",
          "text": [
            "학습데이터(x_train)의 이미지 개수는 300 입니다.\n"
          ]
        }
      ]
    },
    {
      "cell_type": "code",
      "source": [
        "# 테스트용 데이터 정규화\n",
        "x_test_norm = x_test / 255.0   # 입력은 0~1 사이의 값으로 정규화\n",
        "\n",
        "print(\"x_test shape: {}\".format(x_test.shape))\n",
        "print(\"y_test shape: {}\".format(y_test.shape))"
      ],
      "metadata": {
        "id": "AXRJ-4a31sbS",
        "colab": {
          "base_uri": "https://localhost:8080/"
        },
        "outputId": "abfc43b6-3a08-4820-b2a1-65ae73995fd4"
      },
      "execution_count": 20,
      "outputs": [
        {
          "output_type": "stream",
          "name": "stdout",
          "text": [
            "x_test shape: (300, 28, 28, 3)\n",
            "y_test shape: (300,)\n"
          ]
        }
      ]
    },
    {
      "cell_type": "code",
      "source": [
        "# 테스트용 데이터 Reshape\n",
        "'''\n",
        "print(\"Before Reshape - x_test_norm shape  : {}\".format(x_test_norm.shape))\n",
        "x_test_reshaped  = x_test_norm.reshape ( -1, 28, 28, 3)\n",
        "print(\"After Reshape - x_test_reshaped shape  : {}\".format(x_test_reshaped.shape))\n",
        "'''"
      ],
      "metadata": {
        "id": "VvyA0Wtx2BEP",
        "colab": {
          "base_uri": "https://localhost:8080/",
          "height": 54
        },
        "outputId": "83d082a3-be28-4135-f584-60b1364a88a2"
      },
      "execution_count": 21,
      "outputs": [
        {
          "output_type": "execute_result",
          "data": {
            "text/plain": [
              "'\\nprint(\"Before Reshape - x_test_norm shape  : {}\".format(x_test_norm.shape))\\nx_test_reshaped  = x_test_norm.reshape ( -1, 28, 28, 3)\\nprint(\"After Reshape - x_test_reshaped shape  : {}\".format(x_test_reshaped.shape))\\n'"
            ],
            "application/vnd.google.colaboratory.intrinsic+json": {
              "type": "string"
            }
          },
          "metadata": {},
          "execution_count": 21
        }
      ]
    },
    {
      "cell_type": "code",
      "source": [
        "# model.evaluate\n",
        "#test_loss, test_accuracy = model.evaluate(x_test_reshaped, y_test, verbose=2)\n",
        "test_loss, test_accuracy = model.evaluate(x_test_norm, y_test, verbose=2)\n",
        "print(\"test_loss    : {}\".format(test_loss))\n",
        "print(\"test_accuracy: {}\".format(test_accuracy))"
      ],
      "metadata": {
        "id": "qqGdwMat2LL5",
        "colab": {
          "base_uri": "https://localhost:8080/"
        },
        "outputId": "c367325c-d76b-4428-d686-d5a290c92dca"
      },
      "execution_count": 22,
      "outputs": [
        {
          "output_type": "stream",
          "name": "stdout",
          "text": [
            "10/10 - 0s - loss: 5.7230 - accuracy: 0.3333 - 154ms/epoch - 15ms/step\n",
            "test_loss    : 5.723021030426025\n",
            "test_accuracy: 0.3333333432674408\n"
          ]
        }
      ]
    },
    {
      "cell_type": "markdown",
      "source": [
        "---\n",
        "# 회고\n",
        "\n",
        "---"
      ],
      "metadata": {
        "id": "t0d8524xAZyM"
      }
    },
    {
      "cell_type": "markdown",
      "source": [
        "이번 노드에서는,\n",
        "\n",
        "\n",
        "훈련용 데이터를 대상으로 하는 accuracy 에서는,\n",
        "\n",
        "맞고 틀린 것만을 따지기 때문에,\n",
        "\n",
        "Hyperparameters를 조정하여, accuracy를 아무리 100%에 근접하도록 만들어도.......\n",
        "\n",
        "\n",
        "실제 테스트 데이터에서는 무용지물이 될 수 있다는 사실을 확실히 체감하게 되었습니다.\n",
        "\n",
        "또한, 훈련량을 늘리면 훈련용 데이터에서의 accuracy는 소폭이라도 증가하게 되지만,\n",
        "\n",
        "테스트 데이터에서도 accuracy가 증가하는 것이 아니라,\n",
        "\n",
        "오히려 감소할 수도 있음을 확인할 수 있었습니다."
      ],
      "metadata": {
        "id": "Kkft93ZYAgSB"
      }
    }
  ]
}