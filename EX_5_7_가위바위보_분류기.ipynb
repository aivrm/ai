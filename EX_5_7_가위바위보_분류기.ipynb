{
  "nbformat": 4,
  "nbformat_minor": 0,
  "metadata": {
    "colab": {
      "name": "EX 5-7. 가위바위보 분류기.ipynb",
      "provenance": [],
      "collapsed_sections": [],
      "machine_shape": "hm",
      "mount_file_id": "11WbEX3IuMT7szb3Y6yD1QV_VZ2o7KI3J",
      "authorship_tag": "ABX9TyNCdVN7fk8Yug43k3dniFGR",
      "include_colab_link": true
    },
    "kernelspec": {
      "name": "python3",
      "display_name": "Python 3"
    },
    "language_info": {
      "name": "python"
    },
    "accelerator": "GPU",
    "gpuClass": "standard"
  },
  "cells": [
    {
      "cell_type": "markdown",
      "metadata": {
        "id": "view-in-github",
        "colab_type": "text"
      },
      "source": [
        "<a href=\"https://colab.research.google.com/github/aivrm/ai/blob/main/EX_5_7_%EA%B0%80%EC%9C%84%EB%B0%94%EC%9C%84%EB%B3%B4_%EB%B6%84%EB%A5%98%EA%B8%B0.ipynb\" target=\"_parent\"><img src=\"https://colab.research.google.com/assets/colab-badge.svg\" alt=\"Open In Colab\"/></a>"
      ]
    },
    {
      "cell_type": "markdown",
      "source": [
        "---\n",
        "## 5-7. 미니 프로젝트 : 가위바위보 분류기를 만들자\n",
        "\n",
        "---"
      ],
      "metadata": {
        "id": "SX9jpzBJtiiV"
      }
    },
    {
      "cell_type": "code",
      "execution_count": 31,
      "metadata": {
        "id": "q99OOAJUtZfz",
        "colab": {
          "base_uri": "https://localhost:8080/"
        },
        "outputId": "eb2203c7-0c16-4ad0-b026-2fb7e941e023"
      },
      "outputs": [
        {
          "output_type": "stream",
          "name": "stdout",
          "text": [
            "2.8.2\n",
            "1.21.6\n"
          ]
        }
      ],
      "source": [
        "import tensorflow as tf\n",
        "import numpy as np\n",
        "\n",
        "print(tf.__version__)\n",
        "print(np.__version__)"
      ]
    },
    {
      "cell_type": "markdown",
      "source": [
        "---\n",
        "아래의 사이트에서,  가위,바위,보 이미지를 각각 100개씩 캡쳐하여 zip화일로 받는다. (224x224 픽셀의 이미지임)\n",
        "\n",
        "Teachable Machine\n",
        "\n",
        "https://teachablemachine.withgoogle.com/\n",
        "\n",
        "---\n"
      ],
      "metadata": {
        "id": "oe44rDL-t05-"
      }
    },
    {
      "cell_type": "markdown",
      "source": [
        "---\n",
        "가위 는 scissor.zip\n",
        "\n",
        "바위 는 rock.zip\n",
        "\n",
        "보 는 paper.zip 로 이름을 바꾸고,\n",
        "\n",
        "각각의 zip화일에는 이미지 100개씩 들어있도록 한다.  (224x224 픽셀의 이미지들임)\n",
        "\n",
        "---"
      ],
      "metadata": {
        "id": "1HFc9EfcszFL"
      }
    },
    {
      "cell_type": "markdown",
      "source": [
        "---\n",
        "~/aiffel/aiffel/rock_scissor_paper 디렉토리에,\n",
        "\n",
        "scissor, rock, paper 디렉토리를 만든다.\n",
        "\n",
        "해당 디렉토리에 맞는 zip화일을 넣고,\n",
        "\n",
        "unzip으로 압축을 푼다.\n",
        "\n",
        "---"
      ],
      "metadata": {
        "id": "Snugq_kttGNX"
      }
    },
    {
      "cell_type": "code",
      "source": [
        "from PIL import Image\n",
        "import glob\n",
        "import os\n",
        "\n",
        "print(\"PIL 라이브러리 import 완료!\")"
      ],
      "metadata": {
        "colab": {
          "base_uri": "https://localhost:8080/"
        },
        "id": "nbsQPDP8t3KB",
        "outputId": "28a406a2-4ea2-4746-bcb2-f1dbab9c2082"
      },
      "execution_count": 32,
      "outputs": [
        {
          "output_type": "stream",
          "name": "stdout",
          "text": [
            "PIL 라이브러리 import 완료!\n"
          ]
        }
      ]
    },
    {
      "cell_type": "markdown",
      "source": [
        "---\n",
        "위에서 획득한 이미지는 224x224 픽셀인데,\n",
        "\n",
        "28x28 픽셀의 이미지로 리사이즈 한다.\n",
        "\n",
        "---"
      ],
      "metadata": {
        "id": "P7eFUdIptx8e"
      }
    },
    {
      "cell_type": "code",
      "source": [
        "# 28x28 픽셀로 리사이즈\n",
        "def resize_images(img_path):\n",
        "    images = glob.glob(img_path + \"/*.jpg\")\n",
        "\n",
        "    print(len(images), \" images to be resized.\")\n",
        "\n",
        "    # 파일마다 모두 28x28 사이즈로 바꾸어 저장합니다.\n",
        "    target_size = (28, 28)\n",
        "\n",
        "    for img in images:\n",
        "        old_img = Image.open(img)\n",
        "        new_img = old_img.resize(target_size, Image.ANTIALIAS)\n",
        "        new_img.save(img, \"JPEG\")\n",
        "\n",
        "    print(len(images), \" images resized.\")"
      ],
      "metadata": {
        "id": "-fZB1yKmzAFU"
      },
      "execution_count": 33,
      "outputs": []
    },
    {
      "cell_type": "code",
      "source": [
        "from os.path import join\n",
        "DIR_img = '/content/drive/MyDrive/_aiffel/aiffel/rock_scissor_paper'"
      ],
      "metadata": {
        "id": "j6SgKAsNm4oG"
      },
      "execution_count": 34,
      "outputs": []
    },
    {
      "cell_type": "code",
      "source": [
        "# 가위 이미지가 저장된 scissor 디렉토리 아래의 모든 jpg 파일을 28x28 픽셀로\n",
        "#image_dir_path = os.getenv(\"HOME\") + \"/aiffel/rock_scissor_paper/scissor\"\n",
        "image_dir_path = join(DIR_img, 'scissor')\n",
        "resize_images(image_dir_path)\n",
        "\n",
        "print(\"가위 이미지 resize 완료!\")"
      ],
      "metadata": {
        "id": "FJJYlUG21TSI",
        "colab": {
          "base_uri": "https://localhost:8080/"
        },
        "outputId": "654a6027-58c1-46fc-8a70-99f7d0b98a33"
      },
      "execution_count": 35,
      "outputs": [
        {
          "output_type": "stream",
          "name": "stdout",
          "text": [
            "100  images to be resized.\n",
            "100  images resized.\n",
            "가위 이미지 resize 완료!\n"
          ]
        }
      ]
    },
    {
      "cell_type": "code",
      "source": [
        "# 바위 이미지가 저장된 rock 디렉토리 아래의 모든 jpg 파일을 28x28 픽셀로\n",
        "#image_dir_path = os.getenv(\"HOME\") + \"/aiffel/rock_scissor_paper/rock\"\n",
        "image_dir_path = join(DIR_img, 'rock')\n",
        "resize_images(image_dir_path)\n",
        "\n",
        "print(\"바위 이미지 resize 완료!\")"
      ],
      "metadata": {
        "id": "MjAsj_4R1Woh",
        "colab": {
          "base_uri": "https://localhost:8080/"
        },
        "outputId": "ca3de17e-2f84-4de9-bc89-b7036854e578"
      },
      "execution_count": 36,
      "outputs": [
        {
          "output_type": "stream",
          "name": "stdout",
          "text": [
            "100  images to be resized.\n",
            "100  images resized.\n",
            "바위 이미지 resize 완료!\n"
          ]
        }
      ]
    },
    {
      "cell_type": "code",
      "source": [
        "# 보 이미지가 저장된 paper 디렉토리 아래의 모든 jpg 파일을 28x28 픽셀로\n",
        "#image_dir_path = os.getenv(\"HOME\") + \"/aiffel/rock_scissor_paper/paper\"\n",
        "image_dir_path = join(DIR_img, 'paper')\n",
        "resize_images(image_dir_path)\n",
        "\n",
        "print(\"보 이미지 resize 완료!\")"
      ],
      "metadata": {
        "id": "7MXMfsH71Xjy",
        "colab": {
          "base_uri": "https://localhost:8080/"
        },
        "outputId": "9d3a2d70-b49d-4d85-a2ed-aee4513c1655"
      },
      "execution_count": 37,
      "outputs": [
        {
          "output_type": "stream",
          "name": "stdout",
          "text": [
            "100  images to be resized.\n",
            "100  images resized.\n",
            "보 이미지 resize 완료!\n"
          ]
        }
      ]
    },
    {
      "cell_type": "markdown",
      "source": [
        "---\n",
        "scissor, rock, paper 디렉토리의 jpg 이미지들을, 편리하게 읽어들이는 함수\n",
        "\n",
        "---"
      ],
      "metadata": {
        "id": "vKrtFOuow5vr"
      }
    },
    {
      "cell_type": "code",
      "source": [
        "# scissor, rock, paper 디렉토리의 jpg 이미지들을, 편리하게 읽어들이는 함수\n",
        "def load_data(img_path, number_of_data=300):    # 가위바위보 이미지 갯수 총합 300장\n",
        "\n",
        "    # 가위:0 | 바위:1 | 보:2\n",
        "    img_size = 28\n",
        "    color = 3\n",
        "\n",
        "    # 이미지 데이터와 라벨(가위:0 | 바위:1 | 보:2) 데이터를 담을 행렬(matrix) 영역을 생성합니다.\n",
        "    imgs = np.zeros(number_of_data * img_size * img_size * color, dtype = np.int32).reshape(number_of_data, img_size, img_size, color)\n",
        "    labels = np.zeros(number_of_data, dtyp = np.int32)\n",
        "\n",
        "    idx = 0\n",
        "    for file in glob.iglob(img_path + '/scissor/*.jpg'):\n",
        "        img = np.array(Image.open(file), dtype = np.int32)\n",
        "        imgs[idx, :, :, :] = img    # 데이터 영역에 이미지 행력을 복사\n",
        "        labels[idx]=0   # 가위 : 0\n",
        "        idx=idx+1\n",
        "\n",
        "    for file in glob.iglob(img_path+'/rock/*.jpg'):\n",
        "        img = np.array(Image.open(file),dtype=np.int32)\n",
        "        imgs[idx,:,:,:]=img    # 데이터 영역에 이미지 행렬을 복사\n",
        "        labels[idx]=1   # 바위 : 1\n",
        "        idx=idx+1  \n",
        "    \n",
        "    for file in glob.iglob(img_path+'/paper/*.jpg'):\n",
        "        img = np.array(Image.open(file),dtype=np.int32)\n",
        "        imgs[idx,:,:,:]=img    # 데이터 영역에 이미지 행렬을 복사\n",
        "        labels[idx]=2   # 보 : 2\n",
        "        idx=idx+1\n",
        "        \n",
        "    print(\"학습데이터(x_train)의 이미지 개수는\", idx,\"입니다.\")\n",
        "    return imgs, labels"
      ],
      "metadata": {
        "id": "1qRA-gMkxEoi"
      },
      "execution_count": 38,
      "outputs": []
    },
    {
      "cell_type": "markdown",
      "source": [
        "---\n",
        "정규화\n",
        "\n",
        "---"
      ],
      "metadata": {
        "id": "lwqMKPvrxRho"
      }
    },
    {
      "cell_type": "code",
      "source": [
        "print(DIR_img)"
      ],
      "metadata": {
        "colab": {
          "base_uri": "https://localhost:8080/"
        },
        "id": "yz3oy2kD6cp7",
        "outputId": "9a3c307d-fce5-4a34-bb59-231ee1a19972"
      },
      "execution_count": 39,
      "outputs": [
        {
          "output_type": "stream",
          "name": "stdout",
          "text": [
            "/content/drive/MyDrive/_aiffel/aiffel/rock_scissor_paper\n"
          ]
        }
      ]
    },
    {
      "cell_type": "code",
      "source": [
        "#image_dir_path = os.getenv(\"HOME\") + \"/aiffel/rock_scissor_paper\"\n",
        "\n",
        "(x_train, y_train) = load_data(DIR_img)\n",
        "\n",
        "# 정규화\n",
        "x_train_norm = x_train/255.0   # 입력은 0~1 사이의 값으로 정규화\n",
        "\n",
        "print(\"x_train shape: {}\".format(x_train.shape))\n",
        "print(\"y_train shape: {}\".format(y_train.shape))"
      ],
      "metadata": {
        "colab": {
          "base_uri": "https://localhost:8080/",
          "height": 394
        },
        "id": "wbS6PQDYxUxK",
        "outputId": "d614eff6-b4fc-4f76-a388-86a64494b50d"
      },
      "execution_count": 40,
      "outputs": [
        {
          "output_type": "error",
          "ename": "TypeError",
          "evalue": "ignored",
          "traceback": [
            "\u001b[0;31m---------------------------------------------------------------------------\u001b[0m",
            "\u001b[0;31mTypeError\u001b[0m                                 Traceback (most recent call last)",
            "\u001b[0;32m<ipython-input-40-d00526fd7024>\u001b[0m in \u001b[0;36m<module>\u001b[0;34m()\u001b[0m\n\u001b[1;32m      1\u001b[0m \u001b[0;31m#image_dir_path = os.getenv(\"HOME\") + \"/aiffel/rock_scissor_paper\"\u001b[0m\u001b[0;34m\u001b[0m\u001b[0;34m\u001b[0m\u001b[0;34m\u001b[0m\u001b[0m\n\u001b[1;32m      2\u001b[0m \u001b[0;34m\u001b[0m\u001b[0m\n\u001b[0;32m----> 3\u001b[0;31m \u001b[0;34m(\u001b[0m\u001b[0mx_train\u001b[0m\u001b[0;34m,\u001b[0m \u001b[0my_train\u001b[0m\u001b[0;34m)\u001b[0m \u001b[0;34m=\u001b[0m \u001b[0mload_data\u001b[0m\u001b[0;34m(\u001b[0m\u001b[0mDIR_img\u001b[0m\u001b[0;34m)\u001b[0m\u001b[0;34m\u001b[0m\u001b[0;34m\u001b[0m\u001b[0m\n\u001b[0m\u001b[1;32m      4\u001b[0m \u001b[0;34m\u001b[0m\u001b[0m\n\u001b[1;32m      5\u001b[0m \u001b[0;31m# 정규화\u001b[0m\u001b[0;34m\u001b[0m\u001b[0;34m\u001b[0m\u001b[0;34m\u001b[0m\u001b[0m\n",
            "\u001b[0;32m<ipython-input-38-b390fc4f633a>\u001b[0m in \u001b[0;36mload_data\u001b[0;34m(img_path, number_of_data)\u001b[0m\n\u001b[1;32m      8\u001b[0m     \u001b[0;31m# 이미지 데이터와 라벨(가위:0 | 바위:1 | 보:2) 데이터를 담을 행렬(matrix) 영역을 생성합니다.\u001b[0m\u001b[0;34m\u001b[0m\u001b[0;34m\u001b[0m\u001b[0;34m\u001b[0m\u001b[0m\n\u001b[1;32m      9\u001b[0m     \u001b[0mimgs\u001b[0m \u001b[0;34m=\u001b[0m \u001b[0mnp\u001b[0m\u001b[0;34m.\u001b[0m\u001b[0mzeros\u001b[0m\u001b[0;34m(\u001b[0m\u001b[0mnumber_of_data\u001b[0m \u001b[0;34m*\u001b[0m \u001b[0mimg_size\u001b[0m \u001b[0;34m*\u001b[0m \u001b[0mimg_size\u001b[0m \u001b[0;34m*\u001b[0m \u001b[0mcolor\u001b[0m\u001b[0;34m,\u001b[0m \u001b[0mdtype\u001b[0m \u001b[0;34m=\u001b[0m \u001b[0mnp\u001b[0m\u001b[0;34m.\u001b[0m\u001b[0mint32\u001b[0m\u001b[0;34m)\u001b[0m\u001b[0;34m.\u001b[0m\u001b[0mreshape\u001b[0m\u001b[0;34m(\u001b[0m\u001b[0mnumber_of_data\u001b[0m\u001b[0;34m,\u001b[0m \u001b[0mimg_size\u001b[0m\u001b[0;34m,\u001b[0m \u001b[0mimg_size\u001b[0m\u001b[0;34m,\u001b[0m \u001b[0mcolor\u001b[0m\u001b[0;34m)\u001b[0m\u001b[0;34m\u001b[0m\u001b[0;34m\u001b[0m\u001b[0m\n\u001b[0;32m---> 10\u001b[0;31m     \u001b[0mlabels\u001b[0m \u001b[0;34m=\u001b[0m \u001b[0mnp\u001b[0m\u001b[0;34m.\u001b[0m\u001b[0mzeros\u001b[0m\u001b[0;34m(\u001b[0m\u001b[0mnumber_of_data\u001b[0m\u001b[0;34m,\u001b[0m \u001b[0mdtyp\u001b[0m \u001b[0;34m=\u001b[0m \u001b[0mnp\u001b[0m\u001b[0;34m.\u001b[0m\u001b[0mint32\u001b[0m\u001b[0;34m)\u001b[0m\u001b[0;34m\u001b[0m\u001b[0;34m\u001b[0m\u001b[0m\n\u001b[0m\u001b[1;32m     11\u001b[0m \u001b[0;34m\u001b[0m\u001b[0m\n\u001b[1;32m     12\u001b[0m     \u001b[0midx\u001b[0m \u001b[0;34m=\u001b[0m \u001b[0;36m0\u001b[0m\u001b[0;34m\u001b[0m\u001b[0;34m\u001b[0m\u001b[0m\n",
            "\u001b[0;31mTypeError\u001b[0m: zeros() got an unexpected keyword argument 'dtyp'"
          ]
        }
      ]
    },
    {
      "cell_type": "markdown",
      "source": [
        "---\n",
        "샘플로 하나 확인\n",
        "\n",
        "---"
      ],
      "metadata": {
        "id": "n7JEnqXLxx27"
      }
    },
    {
      "cell_type": "code",
      "source": [
        "import matplotlib.pyplot as plt\n",
        "\n",
        "plt.imshow(x_train[0])\n",
        "print('라벨: ', y_train[0])"
      ],
      "metadata": {
        "id": "0CTpAffax0SJ"
      },
      "execution_count": null,
      "outputs": []
    },
    {
      "cell_type": "markdown",
      "source": [
        "---\n",
        "딥러닝 네트웍 설계\n",
        "\n",
        "---"
      ],
      "metadata": {
        "id": "0BZDK1n8yQZP"
      }
    },
    {
      "cell_type": "code",
      "source": [
        "import tensorflow as tf\n",
        "from tensorflow import keras\n",
        "import numpy as np\n",
        "\n",
        "# model을 직접 만들어 보세요.\n",
        "# Hint! model의 입력/출력부에 특히 유의해 주세요. 가위바위보 데이터셋은 MNIST 데이터셋과 어떤 점이 달라졌나요?\n",
        "# [[YOUR CODE]]\n",
        "\n",
        "# hyperpameters\n",
        "n_channel_1 = 16\n",
        "n_channel_2 = 32\n",
        "n_dense = 64\n",
        "\n",
        "n_train_epoch = 10\n",
        "\n",
        "# tensorflow.keras 의 Sequential API\n",
        "model = keras.models.Sequential()\n",
        "model.add(keras.layers.Conv2D(n_channel_1, (3,3), activation='relu', input_shape=(28,28,3))) # 입력 이미지의 형태\n",
        "model.add(keras.layers.MaxPool2D(2,2))\n",
        "model.add(keras.layers.Conv2D(n_channel_2, (3,3), activation='relu'))    # 입력 이미지가 다양할수록 더 많은 특징을 보자.\n",
        "model.add(keras.layers.MaxPooling2D((2,2)))\n",
        "model.add(keras.layers.Flatten())\n",
        "model.add(keras.layers.Dense(n_dense, activation='relu'))    # 분류기 알고리즘을 얼마나 복잡하게 할 것인가? (복잡한 문제일수록 이 수를 증가시킬 것)\n",
        "model.add(keras.layers.Dense(10, activation='softmax')) # 분류기의 최종 class 수 (여기서는 0~9까지 총10개)\n",
        "\n",
        "print('Model에 추가된 Layer 개수: ', len(model.layers))\n",
        "\n",
        "# 모델 개요\n",
        "model.summary()"
      ],
      "metadata": {
        "id": "eO0s6gzIyWML"
      },
      "execution_count": null,
      "outputs": []
    },
    {
      "cell_type": "markdown",
      "source": [
        "---\n",
        "딥러닝 네트웍 학습\n",
        "\n",
        "---"
      ],
      "metadata": {
        "id": "102NA7LRyZnQ"
      }
    },
    {
      "cell_type": "code",
      "source": [
        "# model을 학습시키는 코드를 직접 작성해 보세요.\n",
        "# Hint! model.compile()과 model.fit()을 사용해 봅시다.\n",
        "# [[YOUR CODE]]\n",
        "\n",
        "# Reshape\n",
        "print(\"Before Reshape - x_train_norm shape : {}\".format(x_train_norm.shape))\n",
        "#print(\"Before Reshape - x_test_norm shape  : {}\".format(x_test_norm.shape))\n",
        "\n",
        "x_train_reshaped = x_train_norm.reshape( -1, 28, 28, 3) # 데이터 갯수에 -1을 쓰면, reshape시 자동계산됩니다.\n",
        "#x_test_reshaped  = x_test_norm.reshape ( -1, 28, 28, 3)\n",
        "\n",
        "print(\"After Reshape - x_train_reshaped shape : {}\".format(x_train_reshaped.shape))\n",
        "#print(\"After Reshape - x_test_reshaped shape  : {}\".format(x_test_reshaped.shape))\n",
        "\n",
        "# 학습\n",
        "model.compile(optimizer='adam', # 아담\n",
        "              loss='sparse_categorical_crossentropy',\n",
        "              metrics=['accuracy'])\n",
        "model.fit(x_train_reshaped, y_train, epochs=n_train_epoch)"
      ],
      "metadata": {
        "id": "TpKw9D02yamm"
      },
      "execution_count": null,
      "outputs": []
    },
    {
      "cell_type": "markdown",
      "source": [
        "---\n",
        "테스트\n",
        "\n",
        "---"
      ],
      "metadata": {
        "id": "Q1H7a-mYyd_4"
      }
    },
    {
      "cell_type": "markdown",
      "source": [
        "테스트용 이미지 300개를 ~/aiffel/aiffel/rock_scissor_paper/test 폴더에 넣는다.\n",
        "\n",
        "가위, 바위, 보 순서로 각각 100개씩 넣음."
      ],
      "metadata": {
        "id": "Xt2weqV7yixv"
      }
    },
    {
      "cell_type": "markdown",
      "source": [
        "---\n",
        "테스트용 데이터 28x28로 리사이즈"
      ],
      "metadata": {
        "id": "mFr39iTB0-TX"
      }
    },
    {
      "cell_type": "code",
      "source": [
        "# test 이미지가 저장된 디렉토리 아래의 모든 jpg 파일을 읽어들여서 resize\n",
        "#image_dir_path = os.getenv(\"HOME\") + \"/aiffel/rock_scissor_paper/test\"\n",
        "image_dir_path = join(DIR_img, 'test')\n",
        "resize_images(image_dir_path)\n",
        "print(\"test 이미지 resize 완료!\")"
      ],
      "metadata": {
        "id": "2oUxRW3SzuEq"
      },
      "execution_count": null,
      "outputs": []
    },
    {
      "cell_type": "markdown",
      "source": [
        "---\n",
        "테스트용 데이터 로딩"
      ],
      "metadata": {
        "id": "QcXemcDT1E-u"
      }
    },
    {
      "cell_type": "code",
      "source": [
        "# 테스트 데이터용 load 함수\n",
        "def load_test_data(img_path, number_of_data=300):  # 가위바위보 이미지 개수 총합에 주의하세요.\n",
        "    # 가위 : 0, 바위 : 1, 보 : 2\n",
        "    img_size=28\n",
        "    color=3\n",
        "    #이미지 데이터와 라벨(가위 : 0, 바위 : 1, 보 : 2) 데이터를 담을 행렬(matrix) 영역을 생성합니다.\n",
        "    imgs=np.zeros(number_of_data*img_size*img_size*color,dtype=np.int32).reshape(number_of_data,img_size,img_size,color)\n",
        "    labels=np.zeros(number_of_data,dtype=np.int32)\n",
        "\n",
        "    idx=0\n",
        "    for file in glob.iglob(img_path+'/test/*.jpg'):\n",
        "        img = np.array(Image.open(file),dtype=np.int32)\n",
        "        imgs[idx,:,:,:]=img    # 데이터 영역에 이미지 행렬을 복사\n",
        "\n",
        "        if(idx <= 100):\n",
        "            labels[idx]=0   # 가위 : 0\n",
        "        if(idx > 100 and idx <= 200):\n",
        "            labels[idx]=1   # 바위 : 1\n",
        "        if(idx > 200 and idx <= 300):\n",
        "            labels[idx]=2   # 보 : 2\n",
        "\n",
        "        idx=idx+1\n",
        "        \n",
        "    print(\"학습데이터(x_test)의 이미지 개수는\", idx,\"입니다.\")\n",
        "    return imgs, labels"
      ],
      "metadata": {
        "id": "4my3fXnEyfky"
      },
      "execution_count": null,
      "outputs": []
    },
    {
      "cell_type": "code",
      "source": [
        "# 테스트용 데이터 load\n",
        "#image_dir_path = os.getenv(\"HOME\") + \"/aiffel/rock_scissor_paper\"\n",
        "(x_train, y_train)=load_data(DIR_img)"
      ],
      "metadata": {
        "id": "kLqhjI460L34"
      },
      "execution_count": null,
      "outputs": []
    },
    {
      "cell_type": "code",
      "source": [
        "# 테스트용 데이터 정규화\n",
        "x_train_norm = x_train/255.0   # 입력은 0~1 사이의 값으로 정규화\n",
        "\n",
        "print(\"x_train shape: {}\".format(x_train.shape))\n",
        "print(\"y_train shape: {}\".format(y_train.shape))"
      ],
      "metadata": {
        "id": "AXRJ-4a31sbS"
      },
      "execution_count": null,
      "outputs": []
    },
    {
      "cell_type": "code",
      "source": [
        "# 테스트용 데이터 Reshape\n",
        "print(\"Before Reshape - x_test_norm shape  : {}\".format(x_test_norm.shape))\n",
        "\n",
        "x_test_reshaped  = x_test_norm.reshape ( -1, 28, 28, 3)\n",
        "\n",
        "print(\"After Reshape - x_test_reshaped shape  : {}\".format(x_test_reshaped.shape))"
      ],
      "metadata": {
        "id": "VvyA0Wtx2BEP"
      },
      "execution_count": null,
      "outputs": []
    },
    {
      "cell_type": "code",
      "source": [
        "# model.evaluate\n",
        "test_loss, test_accuracy = model.evaluate(x_test_reshaped, y_test, verbose=2)\n",
        "print(\"test_loss    : {}\".format(test_loss))\n",
        "print(\"test_accuracy: {}\".format(test_accuracy))"
      ],
      "metadata": {
        "id": "qqGdwMat2LL5"
      },
      "execution_count": null,
      "outputs": []
    }
  ]
}